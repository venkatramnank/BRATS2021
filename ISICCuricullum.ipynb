{
  "nbformat": 4,
  "nbformat_minor": 0,
  "metadata": {
    "accelerator": "GPU",
    "colab": {
      "provenance": [],
      "collapsed_sections": [],
      "toc_visible": true
    },
    "kernelspec": {
      "display_name": "Python 3",
      "language": "python",
      "name": "python3"
    },
    "language_info": {
      "codemirror_mode": {
        "name": "ipython",
        "version": 3
      },
      "file_extension": ".py",
      "mimetype": "text/x-python",
      "name": "python",
      "nbconvert_exporter": "python",
      "pygments_lexer": "ipython3",
      "version": "3.7.3"
    }
  },
  "cells": [
    {
      "cell_type": "markdown",
      "metadata": {
        "id": "VPnYXnbLj2eE"
      },
      "source": [
        "# Curriculum Learning with GradCAM on ISIC images"
      ]
    },
    {
      "cell_type": "code",
      "metadata": {
        "id": "Oc7_brMnCtbt"
      },
      "source": [
        "from google.colab import drive\n",
        "drive.mount('/content/drive')"
      ],
      "execution_count": null,
      "outputs": []
    },
    {
      "cell_type": "markdown",
      "metadata": {
        "id": "wH91zeRDjx67"
      },
      "source": [
        "## Importing libraries and data"
      ]
    },
    {
      "cell_type": "code",
      "metadata": {
        "colab": {
          "base_uri": "https://localhost:8080/"
        },
        "id": "FCbaUhsVeWPs",
        "outputId": "e479748d-628d-422d-d1fd-976e075c476c"
      },
      "source": [
        "!unzip '/content/drive/MyDrive/MetaLearningProject/skin-cancer-isic-master.zip'"
      ],
      "execution_count": null,
      "outputs": [
        {
          "output_type": "stream",
          "text": [
            "Archive:  /content/drive/MyDrive/MetaLearningProject/skin-cancer-isic-master.zip\n",
            "4089b556241c57a148867031654254e117edf98a\n",
            "   creating: skin-cancer-isic-master/\n",
            "  inflating: skin-cancer-isic-master/README.md  \n",
            "   creating: skin-cancer-isic-master/data/\n",
            "  inflating: skin-cancer-isic-master/data/ISIC_0000000.jpg  \n",
            "  inflating: skin-cancer-isic-master/data/ISIC_0000001.jpg  \n",
            "  inflating: skin-cancer-isic-master/data/ISIC_0000002.jpg  \n",
            "  inflating: skin-cancer-isic-master/data/ISIC_0000003.jpg  \n",
            "  inflating: skin-cancer-isic-master/data/ISIC_0000004.jpg  \n",
            "  inflating: skin-cancer-isic-master/data/ISIC_0000005.jpg  \n",
            "  inflating: skin-cancer-isic-master/data/ISIC_0000006.jpg  \n",
            "  inflating: skin-cancer-isic-master/data/ISIC_0000007.jpg  \n",
            "  inflating: skin-cancer-isic-master/data/ISIC_0000008.jpg  \n",
            "  inflating: skin-cancer-isic-master/data/ISIC_0000009.jpg  \n",
            "  inflating: skin-cancer-isic-master/data/ISIC_0000010.jpg  \n",
            "  inflating: skin-cancer-isic-master/data/ISIC_0000011.jpg  \n",
            "  inflating: skin-cancer-isic-master/data/ISIC_0000012.jpg  \n",
            "  inflating: skin-cancer-isic-master/data/ISIC_0000013.jpg  \n",
            "  inflating: skin-cancer-isic-master/data/ISIC_0000014.jpg  \n",
            "  inflating: skin-cancer-isic-master/data/ISIC_0000015.jpg  \n",
            "  inflating: skin-cancer-isic-master/data/ISIC_0000016.jpg  \n",
            "  inflating: skin-cancer-isic-master/data/ISIC_0000017.jpg  \n",
            "  inflating: skin-cancer-isic-master/data/ISIC_0000018.jpg  \n",
            "  inflating: skin-cancer-isic-master/data/ISIC_0000019.jpg  \n",
            "  inflating: skin-cancer-isic-master/data/ISIC_0000020.jpg  \n",
            "  inflating: skin-cancer-isic-master/data/ISIC_0000021.jpg  \n",
            "  inflating: skin-cancer-isic-master/data/ISIC_0000022.jpg  \n",
            "  inflating: skin-cancer-isic-master/data/ISIC_0000023.jpg  \n",
            "  inflating: skin-cancer-isic-master/data/ISIC_0000024.jpg  \n",
            "  inflating: skin-cancer-isic-master/data/ISIC_0000025.jpg  \n",
            "  inflating: skin-cancer-isic-master/data/ISIC_0000026.jpg  \n",
            "  inflating: skin-cancer-isic-master/data/ISIC_0000027.jpg  \n",
            "  inflating: skin-cancer-isic-master/data/ISIC_0000028.jpg  \n",
            "  inflating: skin-cancer-isic-master/data/ISIC_0000029.jpg  \n",
            "  inflating: skin-cancer-isic-master/data/ISIC_0000030.jpg  \n",
            "  inflating: skin-cancer-isic-master/data/ISIC_0000031.jpg  \n",
            "  inflating: skin-cancer-isic-master/data/ISIC_0000032.jpg  \n",
            "  inflating: skin-cancer-isic-master/data/ISIC_0000033.jpg  \n",
            "  inflating: skin-cancer-isic-master/data/ISIC_0000034.jpg  \n",
            "  inflating: skin-cancer-isic-master/data/ISIC_0000035.jpg  \n",
            "  inflating: skin-cancer-isic-master/data/ISIC_0000036.jpg  \n",
            "  inflating: skin-cancer-isic-master/data/ISIC_0000037.jpg  \n",
            "  inflating: skin-cancer-isic-master/data/ISIC_0000038.jpg  \n",
            "  inflating: skin-cancer-isic-master/data/ISIC_0000039.jpg  \n",
            "  inflating: skin-cancer-isic-master/data/ISIC_0000040.jpg  \n",
            "  inflating: skin-cancer-isic-master/data/ISIC_0000041.jpg  \n",
            "  inflating: skin-cancer-isic-master/data/ISIC_0000042.jpg  \n",
            "  inflating: skin-cancer-isic-master/data/ISIC_0000043.jpg  \n",
            "  inflating: skin-cancer-isic-master/data/ISIC_0000044.jpg  \n",
            "  inflating: skin-cancer-isic-master/data/ISIC_0000045.jpg  \n",
            "  inflating: skin-cancer-isic-master/data/ISIC_0000046.jpg  \n",
            "  inflating: skin-cancer-isic-master/data/ISIC_0000047.jpg  \n",
            "  inflating: skin-cancer-isic-master/data/ISIC_0000048.jpg  \n",
            "  inflating: skin-cancer-isic-master/data/ISIC_0000049.jpg  \n",
            "  inflating: skin-cancer-isic-master/data/ISIC_0000050.jpg  \n",
            "  inflating: skin-cancer-isic-master/data/ISIC_0000051.jpg  \n",
            "  inflating: skin-cancer-isic-master/data/ISIC_0000052.jpg  \n",
            "  inflating: skin-cancer-isic-master/data/ISIC_0000053.jpg  \n",
            "  inflating: skin-cancer-isic-master/data/ISIC_0000054.jpg  \n",
            "  inflating: skin-cancer-isic-master/data/ISIC_0000055.jpg  \n",
            "  inflating: skin-cancer-isic-master/data/ISIC_0000056.jpg  \n",
            "  inflating: skin-cancer-isic-master/data/ISIC_0000057.jpg  \n",
            "  inflating: skin-cancer-isic-master/data/ISIC_0000058.jpg  \n",
            "  inflating: skin-cancer-isic-master/data/ISIC_0000059.jpg  \n",
            "  inflating: skin-cancer-isic-master/data/ISIC_0000060.jpg  \n",
            "  inflating: skin-cancer-isic-master/data/ISIC_0000061.jpg  \n",
            "  inflating: skin-cancer-isic-master/data/ISIC_0000062.jpg  \n",
            "  inflating: skin-cancer-isic-master/data/ISIC_0000063.jpg  \n",
            "  inflating: skin-cancer-isic-master/data/ISIC_0000064.jpg  \n",
            "  inflating: skin-cancer-isic-master/data/ISIC_0000065.jpg  \n",
            "  inflating: skin-cancer-isic-master/data/ISIC_0000066.jpg  \n",
            "  inflating: skin-cancer-isic-master/data/ISIC_0000067.jpg  \n",
            "  inflating: skin-cancer-isic-master/data/ISIC_0000068.jpg  \n",
            "  inflating: skin-cancer-isic-master/data/ISIC_0000069.jpg  \n",
            "  inflating: skin-cancer-isic-master/data/ISIC_0000070.jpg  \n",
            "  inflating: skin-cancer-isic-master/data/ISIC_0000071.jpg  \n",
            "  inflating: skin-cancer-isic-master/data/ISIC_0000072.jpg  \n",
            "  inflating: skin-cancer-isic-master/data/ISIC_0000073.jpg  \n",
            "  inflating: skin-cancer-isic-master/data/ISIC_0000074.jpg  \n",
            "  inflating: skin-cancer-isic-master/data/ISIC_0000075.jpg  \n",
            "  inflating: skin-cancer-isic-master/data/ISIC_0000076.jpg  \n",
            "  inflating: skin-cancer-isic-master/data/ISIC_0000077.jpg  \n",
            "  inflating: skin-cancer-isic-master/data/ISIC_0000078.jpg  \n",
            "  inflating: skin-cancer-isic-master/data/ISIC_0000079.jpg  \n",
            "  inflating: skin-cancer-isic-master/data/ISIC_0000080.jpg  \n",
            "  inflating: skin-cancer-isic-master/data/ISIC_0000081.jpg  \n",
            "  inflating: skin-cancer-isic-master/data/ISIC_0000082.jpg  \n",
            "  inflating: skin-cancer-isic-master/data/ISIC_0000083.jpg  \n",
            "  inflating: skin-cancer-isic-master/data/ISIC_0000084.jpg  \n",
            "  inflating: skin-cancer-isic-master/data/ISIC_0000085.jpg  \n",
            "  inflating: skin-cancer-isic-master/data/ISIC_0000086.jpg  \n",
            "  inflating: skin-cancer-isic-master/data/ISIC_0000087.jpg  \n",
            "  inflating: skin-cancer-isic-master/data/ISIC_0000088.jpg  \n",
            "  inflating: skin-cancer-isic-master/data/ISIC_0000089.jpg  \n",
            "  inflating: skin-cancer-isic-master/data/ISIC_0000090.jpg  \n",
            "  inflating: skin-cancer-isic-master/data/ISIC_0000091.jpg  \n",
            "  inflating: skin-cancer-isic-master/data/ISIC_0000092.jpg  \n",
            "  inflating: skin-cancer-isic-master/data/ISIC_0000093.jpg  \n",
            "  inflating: skin-cancer-isic-master/data/ISIC_0000094.jpg  \n",
            "  inflating: skin-cancer-isic-master/data/ISIC_0000095.jpg  \n",
            "  inflating: skin-cancer-isic-master/data/ISIC_0000096.jpg  \n",
            "  inflating: skin-cancer-isic-master/data/ISIC_0000097.jpg  \n",
            "  inflating: skin-cancer-isic-master/data/ISIC_0000098.jpg  \n",
            "  inflating: skin-cancer-isic-master/data/ISIC_0000099.jpg  \n",
            "  inflating: skin-cancer-isic-master/data/ISIC_0000100.jpg  \n",
            "  inflating: skin-cancer-isic-master/data/ISIC_0000101.jpg  \n",
            "  inflating: skin-cancer-isic-master/data/ISIC_0000102.jpg  \n",
            "  inflating: skin-cancer-isic-master/data/ISIC_0000103.jpg  \n",
            "  inflating: skin-cancer-isic-master/data/ISIC_0000104.jpg  \n",
            "  inflating: skin-cancer-isic-master/data/ISIC_0000105.jpg  \n",
            "  inflating: skin-cancer-isic-master/data/ISIC_0000106.jpg  \n",
            "  inflating: skin-cancer-isic-master/data/ISIC_0000107.jpg  \n",
            "  inflating: skin-cancer-isic-master/data/ISIC_0000108.jpg  \n",
            "  inflating: skin-cancer-isic-master/data/ISIC_0000109.jpg  \n",
            "  inflating: skin-cancer-isic-master/data/ISIC_0000110.jpg  \n",
            "  inflating: skin-cancer-isic-master/data/ISIC_0000111.jpg  \n",
            "  inflating: skin-cancer-isic-master/data/ISIC_0000112.jpg  \n",
            "  inflating: skin-cancer-isic-master/data/ISIC_0000113.jpg  \n",
            "  inflating: skin-cancer-isic-master/data/ISIC_0000114.jpg  \n",
            "  inflating: skin-cancer-isic-master/data/ISIC_0000115.jpg  \n",
            "  inflating: skin-cancer-isic-master/data/ISIC_0000116.jpg  \n",
            "  inflating: skin-cancer-isic-master/data/ISIC_0000117.jpg  \n",
            "  inflating: skin-cancer-isic-master/data/ISIC_0000118.jpg  \n",
            "  inflating: skin-cancer-isic-master/data/ISIC_0000119.jpg  \n",
            "  inflating: skin-cancer-isic-master/data/ISIC_0000120.jpg  \n",
            "  inflating: skin-cancer-isic-master/data/ISIC_0000121.jpg  \n",
            "  inflating: skin-cancer-isic-master/data/ISIC_0000122.jpg  \n",
            "  inflating: skin-cancer-isic-master/data/ISIC_0000123.jpg  \n",
            "  inflating: skin-cancer-isic-master/data/ISIC_0000124.jpg  \n",
            "  inflating: skin-cancer-isic-master/data/ISIC_0000125.jpg  \n",
            "  inflating: skin-cancer-isic-master/data/ISIC_0000126.jpg  \n",
            "  inflating: skin-cancer-isic-master/data/ISIC_0000127.jpg  \n",
            "  inflating: skin-cancer-isic-master/data/ISIC_0000128.jpg  \n",
            "  inflating: skin-cancer-isic-master/data/ISIC_0000129.jpg  \n",
            "  inflating: skin-cancer-isic-master/data/ISIC_0000130.jpg  \n",
            "  inflating: skin-cancer-isic-master/data/ISIC_0000131.jpg  \n",
            "  inflating: skin-cancer-isic-master/data/ISIC_0000132.jpg  \n",
            "  inflating: skin-cancer-isic-master/data/ISIC_0000133.jpg  \n",
            "  inflating: skin-cancer-isic-master/data/ISIC_0000134.jpg  \n",
            "  inflating: skin-cancer-isic-master/data/ISIC_0000135.jpg  \n",
            "  inflating: skin-cancer-isic-master/data/ISIC_0000136.jpg  \n",
            "  inflating: skin-cancer-isic-master/data/ISIC_0000137.jpg  \n",
            "  inflating: skin-cancer-isic-master/data/ISIC_0000138.jpg  \n",
            "  inflating: skin-cancer-isic-master/data/ISIC_0000139.jpg  \n",
            "  inflating: skin-cancer-isic-master/data/ISIC_0000140.jpg  \n",
            "  inflating: skin-cancer-isic-master/data/ISIC_0000141.jpg  \n",
            "  inflating: skin-cancer-isic-master/data/ISIC_0000142.jpg  \n",
            "  inflating: skin-cancer-isic-master/data/ISIC_0000143.jpg  \n",
            "  inflating: skin-cancer-isic-master/data/ISIC_0000144.jpg  \n",
            "  inflating: skin-cancer-isic-master/data/ISIC_0000145.jpg  \n",
            "  inflating: skin-cancer-isic-master/data/ISIC_0000146.jpg  \n",
            "  inflating: skin-cancer-isic-master/data/ISIC_0000147.jpg  \n",
            "  inflating: skin-cancer-isic-master/data/ISIC_0000148.jpg  \n",
            "  inflating: skin-cancer-isic-master/data/ISIC_0000149.jpg  \n",
            "  inflating: skin-cancer-isic-master/data/ISIC_0000150.jpg  \n",
            "  inflating: skin-cancer-isic-master/data/ISIC_0000151.jpg  \n",
            "  inflating: skin-cancer-isic-master/data/ISIC_0000152.jpg  \n",
            "  inflating: skin-cancer-isic-master/data/ISIC_0000153.jpg  \n",
            "  inflating: skin-cancer-isic-master/data/ISIC_0000154.jpg  \n",
            "  inflating: skin-cancer-isic-master/data/ISIC_0000155.jpg  \n",
            "  inflating: skin-cancer-isic-master/data/ISIC_0000156.jpg  \n",
            "  inflating: skin-cancer-isic-master/data/ISIC_0000157.jpg  \n",
            "  inflating: skin-cancer-isic-master/data/ISIC_0000158.jpg  \n",
            "  inflating: skin-cancer-isic-master/data/ISIC_0000159.jpg  \n",
            "  inflating: skin-cancer-isic-master/data/ISIC_0000160.jpg  \n",
            "  inflating: skin-cancer-isic-master/data/ISIC_0000161.jpg  \n",
            "  inflating: skin-cancer-isic-master/data/ISIC_0000162.jpg  \n",
            "  inflating: skin-cancer-isic-master/data/ISIC_0000163.jpg  \n",
            "  inflating: skin-cancer-isic-master/data/ISIC_0000164.jpg  \n",
            "  inflating: skin-cancer-isic-master/data/ISIC_0000165.jpg  \n",
            "  inflating: skin-cancer-isic-master/data/ISIC_0000166.jpg  \n",
            "  inflating: skin-cancer-isic-master/data/ISIC_0000167.jpg  \n",
            "  inflating: skin-cancer-isic-master/data/ISIC_0000168.jpg  \n",
            "  inflating: skin-cancer-isic-master/data/ISIC_0000169.jpg  \n",
            "  inflating: skin-cancer-isic-master/data/ISIC_0000170.jpg  \n",
            "  inflating: skin-cancer-isic-master/data/ISIC_0000171.jpg  \n",
            "  inflating: skin-cancer-isic-master/data/ISIC_0000172.jpg  \n",
            "  inflating: skin-cancer-isic-master/data/ISIC_0000173.jpg  \n",
            "  inflating: skin-cancer-isic-master/data/ISIC_0000174.jpg  \n",
            "  inflating: skin-cancer-isic-master/data/ISIC_0000175.jpg  \n",
            "  inflating: skin-cancer-isic-master/data/ISIC_0000176.jpg  \n",
            "  inflating: skin-cancer-isic-master/data/ISIC_0000177.jpg  \n",
            "  inflating: skin-cancer-isic-master/data/ISIC_0000178.jpg  \n",
            "  inflating: skin-cancer-isic-master/data/ISIC_0000179.jpg  \n",
            "  inflating: skin-cancer-isic-master/data/ISIC_0000180.jpg  \n",
            "  inflating: skin-cancer-isic-master/data/ISIC_0000181.jpg  \n",
            "  inflating: skin-cancer-isic-master/data/ISIC_0000182.jpg  \n",
            "  inflating: skin-cancer-isic-master/data/ISIC_0000183.jpg  \n",
            "  inflating: skin-cancer-isic-master/data/ISIC_0000184.jpg  \n",
            "  inflating: skin-cancer-isic-master/data/ISIC_0000185.jpg  \n",
            "  inflating: skin-cancer-isic-master/data/ISIC_0000186.jpg  \n",
            "  inflating: skin-cancer-isic-master/data/ISIC_0000187.jpg  \n",
            "  inflating: skin-cancer-isic-master/data/ISIC_0000188.jpg  \n",
            "  inflating: skin-cancer-isic-master/data/ISIC_0000189.jpg  \n",
            "  inflating: skin-cancer-isic-master/data/ISIC_0000190.jpg  \n",
            "  inflating: skin-cancer-isic-master/data/ISIC_0000191.jpg  \n",
            "  inflating: skin-cancer-isic-master/data/ISIC_0000192.jpg  \n",
            "  inflating: skin-cancer-isic-master/data/ISIC_0000193.jpg  \n",
            "  inflating: skin-cancer-isic-master/data/ISIC_0000194.jpg  \n",
            "  inflating: skin-cancer-isic-master/data/ISIC_0000195.jpg  \n",
            "  inflating: skin-cancer-isic-master/data/ISIC_0000196.jpg  \n",
            "  inflating: skin-cancer-isic-master/data/ISIC_0000197.jpg  \n",
            "  inflating: skin-cancer-isic-master/data/ISIC_0000198.jpg  \n",
            "  inflating: skin-cancer-isic-master/data/ISIC_0000199.jpg  \n",
            "  inflating: skin-cancer-isic-master/data/ISIC_0000200.jpg  \n",
            "  inflating: skin-cancer-isic-master/data/ISIC_0000201.jpg  \n",
            "  inflating: skin-cancer-isic-master/data/ISIC_0000202.jpg  \n",
            "  inflating: skin-cancer-isic-master/data/ISIC_0000203.jpg  \n",
            "  inflating: skin-cancer-isic-master/data/ISIC_0000204.jpg  \n",
            "  inflating: skin-cancer-isic-master/data/ISIC_0000205.jpg  \n",
            "  inflating: skin-cancer-isic-master/data/ISIC_0000206.jpg  \n",
            "  inflating: skin-cancer-isic-master/data/ISIC_0000207.jpg  \n",
            "  inflating: skin-cancer-isic-master/data/ISIC_0000208.jpg  \n",
            "  inflating: skin-cancer-isic-master/data/ISIC_0000209.jpg  \n",
            "  inflating: skin-cancer-isic-master/data/ISIC_0000210.jpg  \n",
            "  inflating: skin-cancer-isic-master/data/ISIC_0000211.jpg  \n",
            "  inflating: skin-cancer-isic-master/data/ISIC_0000212.jpg  \n",
            "  inflating: skin-cancer-isic-master/data/ISIC_0000213.jpg  \n",
            "  inflating: skin-cancer-isic-master/data/ISIC_0000214.jpg  \n",
            "  inflating: skin-cancer-isic-master/data/ISIC_0000215.jpg  \n",
            "  inflating: skin-cancer-isic-master/data/ISIC_0000216.jpg  \n",
            "  inflating: skin-cancer-isic-master/data/ISIC_0000217.jpg  \n",
            "  inflating: skin-cancer-isic-master/data/ISIC_0000218.jpg  \n",
            "  inflating: skin-cancer-isic-master/data/ISIC_0000219.jpg  \n",
            "  inflating: skin-cancer-isic-master/data/ISIC_0000220.jpg  \n",
            "  inflating: skin-cancer-isic-master/data/ISIC_0000221.jpg  \n",
            "  inflating: skin-cancer-isic-master/data/ISIC_0000222.jpg  \n",
            "  inflating: skin-cancer-isic-master/data/ISIC_0000223.jpg  \n",
            "  inflating: skin-cancer-isic-master/data/ISIC_0000224.jpg  \n",
            "  inflating: skin-cancer-isic-master/data/ISIC_0000225.jpg  \n",
            "  inflating: skin-cancer-isic-master/data/ISIC_0000226.jpg  \n",
            "  inflating: skin-cancer-isic-master/data/ISIC_0000227.jpg  \n",
            "  inflating: skin-cancer-isic-master/data/ISIC_0000228.jpg  \n",
            "  inflating: skin-cancer-isic-master/data/ISIC_0000229.jpg  \n",
            "  inflating: skin-cancer-isic-master/data/ISIC_0000230.jpg  \n",
            "  inflating: skin-cancer-isic-master/data/ISIC_0000231.jpg  \n",
            "  inflating: skin-cancer-isic-master/data/ISIC_0000232.jpg  \n",
            "  inflating: skin-cancer-isic-master/data/ISIC_0000233.jpg  \n",
            "  inflating: skin-cancer-isic-master/data/ISIC_0000234.jpg  \n",
            "  inflating: skin-cancer-isic-master/data/ISIC_0000235.jpg  \n",
            "  inflating: skin-cancer-isic-master/data/ISIC_0000236.jpg  \n",
            "  inflating: skin-cancer-isic-master/data/ISIC_0000237.jpg  \n",
            "  inflating: skin-cancer-isic-master/data/ISIC_0000238.jpg  \n",
            "  inflating: skin-cancer-isic-master/data/ISIC_0000239.jpg  \n",
            "  inflating: skin-cancer-isic-master/data/ISIC_0000240.jpg  \n",
            "  inflating: skin-cancer-isic-master/data/ISIC_0000241.jpg  \n",
            "  inflating: skin-cancer-isic-master/data/ISIC_0000242.jpg  \n",
            "  inflating: skin-cancer-isic-master/data/ISIC_0000243.jpg  \n",
            "  inflating: skin-cancer-isic-master/data/ISIC_0000244.jpg  \n",
            "  inflating: skin-cancer-isic-master/data/ISIC_0000245.jpg  \n",
            "  inflating: skin-cancer-isic-master/data/ISIC_0000246.jpg  \n",
            "  inflating: skin-cancer-isic-master/data/ISIC_0000247.jpg  \n",
            "  inflating: skin-cancer-isic-master/data/ISIC_0000248.jpg  \n",
            "  inflating: skin-cancer-isic-master/data/ISIC_0000249.jpg  \n",
            "  inflating: skin-cancer-isic-master/data/ISIC_0000250.jpg  \n",
            "  inflating: skin-cancer-isic-master/data/ISIC_0000251.jpg  \n",
            "  inflating: skin-cancer-isic-master/data/ISIC_0000252.jpg  \n",
            "  inflating: skin-cancer-isic-master/data/ISIC_0000253.jpg  \n",
            "  inflating: skin-cancer-isic-master/data/ISIC_0000254.jpg  \n",
            "  inflating: skin-cancer-isic-master/data/ISIC_0000255.jpg  \n",
            "  inflating: skin-cancer-isic-master/data/ISIC_0000256.jpg  \n",
            "  inflating: skin-cancer-isic-master/data/ISIC_0000257.jpg  \n",
            "  inflating: skin-cancer-isic-master/data/ISIC_0000258.jpg  \n",
            "  inflating: skin-cancer-isic-master/data/ISIC_0000259.jpg  \n",
            "  inflating: skin-cancer-isic-master/data/ISIC_0000260.jpg  \n",
            "  inflating: skin-cancer-isic-master/data/ISIC_0000261.jpg  \n",
            "  inflating: skin-cancer-isic-master/data/ISIC_0000262.jpg  \n",
            "  inflating: skin-cancer-isic-master/data/ISIC_0000263.jpg  \n",
            "  inflating: skin-cancer-isic-master/data/ISIC_0000264.jpg  \n",
            "  inflating: skin-cancer-isic-master/data/ISIC_0000265.jpg  \n",
            "  inflating: skin-cancer-isic-master/data/ISIC_0000266.jpg  \n",
            "  inflating: skin-cancer-isic-master/data/ISIC_0000267.jpg  \n",
            "  inflating: skin-cancer-isic-master/data/ISIC_0000268.jpg  \n",
            "  inflating: skin-cancer-isic-master/data/ISIC_0000269.jpg  \n",
            "  inflating: skin-cancer-isic-master/data/ISIC_0000270.jpg  \n",
            "  inflating: skin-cancer-isic-master/data/ISIC_0000271.jpg  \n",
            "  inflating: skin-cancer-isic-master/data/ISIC_0000272.jpg  \n",
            "  inflating: skin-cancer-isic-master/data/ISIC_0000273.jpg  \n",
            "  inflating: skin-cancer-isic-master/data/ISIC_0000274.jpg  \n",
            "  inflating: skin-cancer-isic-master/data/ISIC_0000275.jpg  \n",
            "  inflating: skin-cancer-isic-master/data/ISIC_0000276.jpg  \n",
            "  inflating: skin-cancer-isic-master/data/ISIC_0000277.jpg  \n",
            "  inflating: skin-cancer-isic-master/data/ISIC_0000278.jpg  \n",
            "  inflating: skin-cancer-isic-master/data/ISIC_0000279.jpg  \n",
            "  inflating: skin-cancer-isic-master/data/ISIC_0000280.jpg  \n",
            "  inflating: skin-cancer-isic-master/data/ISIC_0000281.jpg  \n",
            "  inflating: skin-cancer-isic-master/data/ISIC_0000282.jpg  \n",
            "  inflating: skin-cancer-isic-master/data/ISIC_0000283.jpg  \n",
            "  inflating: skin-cancer-isic-master/data/ISIC_0000284.jpg  \n",
            "  inflating: skin-cancer-isic-master/data/ISIC_0000285.jpg  \n",
            "  inflating: skin-cancer-isic-master/data/ISIC_0000286.jpg  \n",
            "  inflating: skin-cancer-isic-master/data/ISIC_0000287.jpg  \n",
            "  inflating: skin-cancer-isic-master/data/ISIC_0000288.jpg  \n",
            "  inflating: skin-cancer-isic-master/data/ISIC_0000289.jpg  \n",
            "  inflating: skin-cancer-isic-master/data/ISIC_0000290.jpg  \n",
            "  inflating: skin-cancer-isic-master/data/ISIC_0000291.jpg  \n",
            "  inflating: skin-cancer-isic-master/data/ISIC_0000292.jpg  \n",
            "  inflating: skin-cancer-isic-master/data/ISIC_0000293.jpg  \n",
            "  inflating: skin-cancer-isic-master/data/ISIC_0000294.jpg  \n",
            "  inflating: skin-cancer-isic-master/data/ISIC_0000295.jpg  \n",
            "  inflating: skin-cancer-isic-master/data/ISIC_0000296.jpg  \n",
            "  inflating: skin-cancer-isic-master/data/ISIC_0000297.jpg  \n",
            "  inflating: skin-cancer-isic-master/data/ISIC_0000298.jpg  \n",
            "  inflating: skin-cancer-isic-master/data/ISIC_0000299.jpg  \n",
            "  inflating: skin-cancer-isic-master/data/ISIC_0010320.jpg  \n",
            "  inflating: skin-cancer-isic-master/data/ISIC_0010321.jpg  \n",
            "  inflating: skin-cancer-isic-master/data/ISIC_0010322.jpg  \n",
            "  inflating: skin-cancer-isic-master/data/ISIC_0010323.jpg  \n",
            "  inflating: skin-cancer-isic-master/data/ISIC_0010324.jpg  \n",
            "  inflating: skin-cancer-isic-master/data/ISIC_0010325.jpg  \n",
            "  inflating: skin-cancer-isic-master/data/ISIC_0010326.jpg  \n",
            "  inflating: skin-cancer-isic-master/data/ISIC_0010327.jpg  \n",
            "  inflating: skin-cancer-isic-master/data/ISIC_0010328.jpg  \n",
            "  inflating: skin-cancer-isic-master/data/ISIC_0010329.jpg  \n",
            "  inflating: skin-cancer-isic-master/data/ISIC_0010330.jpg  \n",
            "  inflating: skin-cancer-isic-master/data/ISIC_0010331.jpg  \n",
            "  inflating: skin-cancer-isic-master/data/ISIC_0010332.jpg  \n",
            "  inflating: skin-cancer-isic-master/data/ISIC_0010333.jpg  \n",
            "  inflating: skin-cancer-isic-master/data/ISIC_0010334.jpg  \n",
            "  inflating: skin-cancer-isic-master/data/ISIC_0010335.jpg  \n",
            "  inflating: skin-cancer-isic-master/data/ISIC_0010336.jpg  \n",
            "  inflating: skin-cancer-isic-master/data/ISIC_0010337.jpg  \n",
            "  inflating: skin-cancer-isic-master/data/ISIC_0010338.jpg  \n",
            "  inflating: skin-cancer-isic-master/data/ISIC_0010339.jpg  \n",
            "  inflating: skin-cancer-isic-master/data/ISIC_0010340.jpg  \n",
            "  inflating: skin-cancer-isic-master/data/ISIC_0010341.jpg  \n",
            "  inflating: skin-cancer-isic-master/data/ISIC_0010342.jpg  \n",
            "  inflating: skin-cancer-isic-master/data/ISIC_0010343.jpg  \n",
            "  inflating: skin-cancer-isic-master/data/ISIC_0010344.jpg  \n",
            "  inflating: skin-cancer-isic-master/data/ISIC_0010345.jpg  \n",
            "  inflating: skin-cancer-isic-master/data/ISIC_0010346.jpg  \n",
            "  inflating: skin-cancer-isic-master/data/ISIC_0010347.jpg  \n",
            "  inflating: skin-cancer-isic-master/data/ISIC_0010348.jpg  \n",
            "  inflating: skin-cancer-isic-master/data/ISIC_0010349.jpg  \n",
            "  inflating: skin-cancer-isic-master/data/ISIC_0010350.jpg  \n",
            "  inflating: skin-cancer-isic-master/data/ISIC_0010351.jpg  \n",
            "  inflating: skin-cancer-isic-master/data/ISIC_0010352.jpg  \n",
            "  inflating: skin-cancer-isic-master/data/ISIC_0010353.jpg  \n",
            "  inflating: skin-cancer-isic-master/data/ISIC_0010354.jpg  \n",
            "  inflating: skin-cancer-isic-master/data/ISIC_0010355.jpg  \n",
            "  inflating: skin-cancer-isic-master/data/ISIC_0010356.jpg  \n",
            "  inflating: skin-cancer-isic-master/data/ISIC_0010357.jpg  \n",
            "  inflating: skin-cancer-isic-master/data/ISIC_0010358.jpg  \n",
            "  inflating: skin-cancer-isic-master/data/ISIC_0010359.jpg  \n",
            "  inflating: skin-cancer-isic-master/data/ISIC_0010360.jpg  \n",
            "  inflating: skin-cancer-isic-master/data/ISIC_0010361.jpg  \n",
            "  inflating: skin-cancer-isic-master/data/ISIC_0010362.jpg  \n",
            "  inflating: skin-cancer-isic-master/data/ISIC_0010363.jpg  \n",
            "  inflating: skin-cancer-isic-master/data/ISIC_0010364.jpg  \n",
            "  inflating: skin-cancer-isic-master/data/ISIC_0010365.jpg  \n",
            "  inflating: skin-cancer-isic-master/data/ISIC_0010366.jpg  \n",
            "  inflating: skin-cancer-isic-master/data/ISIC_0010367.jpg  \n",
            "  inflating: skin-cancer-isic-master/data/ISIC_0010368.jpg  \n",
            "  inflating: skin-cancer-isic-master/data/ISIC_0010369.jpg  \n",
            "  inflating: skin-cancer-isic-master/data/ISIC_0010370.jpg  \n",
            "  inflating: skin-cancer-isic-master/data/ISIC_0010371.jpg  \n",
            "  inflating: skin-cancer-isic-master/data/ISIC_0010372.jpg  \n",
            "  inflating: skin-cancer-isic-master/data/ISIC_0010373.jpg  \n",
            "  inflating: skin-cancer-isic-master/data/ISIC_0010374.jpg  \n",
            "  inflating: skin-cancer-isic-master/data/ISIC_0010375.jpg  \n",
            "  inflating: skin-cancer-isic-master/data/ISIC_0010376.jpg  \n",
            "  inflating: skin-cancer-isic-master/data/ISIC_0010377.jpg  \n",
            "  inflating: skin-cancer-isic-master/data/ISIC_0010378.jpg  \n",
            "  inflating: skin-cancer-isic-master/data/ISIC_0010379.jpg  \n",
            "  inflating: skin-cancer-isic-master/data/ISIC_0010380.jpg  \n",
            "  inflating: skin-cancer-isic-master/data/ISIC_0010381.jpg  \n",
            "  inflating: skin-cancer-isic-master/data/ISIC_0010382.jpg  \n",
            "  inflating: skin-cancer-isic-master/data/ISIC_0010383.jpg  \n",
            "  inflating: skin-cancer-isic-master/data/ISIC_0010384.jpg  \n",
            "  inflating: skin-cancer-isic-master/data/ISIC_0010385.jpg  \n",
            "  inflating: skin-cancer-isic-master/data/ISIC_0010386.jpg  \n",
            "  inflating: skin-cancer-isic-master/data/ISIC_0010387.jpg  \n",
            "  inflating: skin-cancer-isic-master/data/ISIC_0010388.jpg  \n",
            "  inflating: skin-cancer-isic-master/data/ISIC_0010389.jpg  \n",
            "  inflating: skin-cancer-isic-master/data/ISIC_0010390.jpg  \n",
            "  inflating: skin-cancer-isic-master/data/ISIC_0010391.jpg  \n",
            "  inflating: skin-cancer-isic-master/data/ISIC_0010392.jpg  \n",
            "  inflating: skin-cancer-isic-master/data/ISIC_0010393.jpg  \n",
            "  inflating: skin-cancer-isic-master/data/ISIC_0010394.jpg  \n",
            "  inflating: skin-cancer-isic-master/data/ISIC_0010395.jpg  \n",
            "  inflating: skin-cancer-isic-master/data/ISIC_0010396.jpg  \n",
            "  inflating: skin-cancer-isic-master/data/ISIC_0010397.jpg  \n",
            "  inflating: skin-cancer-isic-master/data/ISIC_0010398.jpg  \n",
            "  inflating: skin-cancer-isic-master/data/ISIC_0010399.jpg  \n",
            "  inflating: skin-cancer-isic-master/data/ISIC_0010400.jpg  \n",
            "  inflating: skin-cancer-isic-master/data/ISIC_0010401.jpg  \n",
            "  inflating: skin-cancer-isic-master/data/ISIC_0010402.jpg  \n",
            "  inflating: skin-cancer-isic-master/data/ISIC_0010403.jpg  \n",
            "  inflating: skin-cancer-isic-master/data/ISIC_0010404.jpg  \n",
            "  inflating: skin-cancer-isic-master/data/ISIC_0010405.jpg  \n",
            "  inflating: skin-cancer-isic-master/data/ISIC_0010406.jpg  \n",
            "  inflating: skin-cancer-isic-master/data/ISIC_0010407.jpg  \n",
            "  inflating: skin-cancer-isic-master/data/ISIC_0010408.jpg  \n",
            "  inflating: skin-cancer-isic-master/data/ISIC_0010409.jpg  \n",
            "  inflating: skin-cancer-isic-master/data/ISIC_0010410.jpg  \n",
            "  inflating: skin-cancer-isic-master/data/ISIC_0010411.jpg  \n",
            "  inflating: skin-cancer-isic-master/data/ISIC_0010412.jpg  \n",
            "  inflating: skin-cancer-isic-master/data/ISIC_0010413.jpg  \n",
            "  inflating: skin-cancer-isic-master/data/ISIC_0010414.jpg  \n",
            "  inflating: skin-cancer-isic-master/data/ISIC_0010415.jpg  \n",
            "  inflating: skin-cancer-isic-master/data/ISIC_0010416.jpg  \n",
            "  inflating: skin-cancer-isic-master/data/ISIC_0010417.jpg  \n",
            "  inflating: skin-cancer-isic-master/data/ISIC_0010418.jpg  \n",
            "  inflating: skin-cancer-isic-master/data/ISIC_0010419.jpg  \n",
            "  inflating: skin-cancer-isic-master/data/ISIC_0010420.jpg  \n",
            "  inflating: skin-cancer-isic-master/data/ISIC_0010421.jpg  \n",
            "  inflating: skin-cancer-isic-master/data/ISIC_0010422.jpg  \n",
            "  inflating: skin-cancer-isic-master/data/ISIC_0010423.jpg  \n",
            "  inflating: skin-cancer-isic-master/data/ISIC_0010424.jpg  \n",
            "  inflating: skin-cancer-isic-master/data/ISIC_0010425.jpg  \n",
            "  inflating: skin-cancer-isic-master/data/ISIC_0010426.jpg  \n",
            "  inflating: skin-cancer-isic-master/data/ISIC_0010427.jpg  \n",
            "  inflating: skin-cancer-isic-master/data/ISIC_0010428.jpg  \n",
            "  inflating: skin-cancer-isic-master/data/ISIC_0010429.jpg  \n",
            "  inflating: skin-cancer-isic-master/data/ISIC_0010430.jpg  \n",
            "  inflating: skin-cancer-isic-master/data/ISIC_0010431.jpg  \n",
            "  inflating: skin-cancer-isic-master/data/ISIC_0010432.jpg  \n",
            "  inflating: skin-cancer-isic-master/data/ISIC_0010433.jpg  \n",
            "  inflating: skin-cancer-isic-master/data/ISIC_0010434.jpg  \n",
            "  inflating: skin-cancer-isic-master/data/ISIC_0010435.jpg  \n",
            "  inflating: skin-cancer-isic-master/data/ISIC_0010436.jpg  \n",
            "  inflating: skin-cancer-isic-master/data/ISIC_0010437.jpg  \n",
            "  inflating: skin-cancer-isic-master/data/ISIC_0010438.jpg  \n",
            "  inflating: skin-cancer-isic-master/data/ISIC_0010439.jpg  \n",
            "  inflating: skin-cancer-isic-master/data/ISIC_0010440.jpg  \n",
            "  inflating: skin-cancer-isic-master/data/ISIC_0010441.jpg  \n",
            "  inflating: skin-cancer-isic-master/data/ISIC_0010442.jpg  \n",
            "  inflating: skin-cancer-isic-master/data/ISIC_0010443.jpg  \n",
            "  inflating: skin-cancer-isic-master/data/ISIC_0010444.jpg  \n",
            "  inflating: skin-cancer-isic-master/data/ISIC_0010445.jpg  \n",
            "  inflating: skin-cancer-isic-master/data/ISIC_0010446.jpg  \n",
            "  inflating: skin-cancer-isic-master/data/ISIC_0010447.jpg  \n",
            "  inflating: skin-cancer-isic-master/data/ISIC_0010448.jpg  \n",
            "  inflating: skin-cancer-isic-master/data/ISIC_0010449.jpg  \n",
            "  inflating: skin-cancer-isic-master/data/ISIC_0010450.jpg  \n",
            "  inflating: skin-cancer-isic-master/data/ISIC_0010451.jpg  \n",
            "  inflating: skin-cancer-isic-master/data/ISIC_0010452.jpg  \n",
            "  inflating: skin-cancer-isic-master/data/ISIC_0010453.jpg  \n",
            "  inflating: skin-cancer-isic-master/data/ISIC_0010454.jpg  \n",
            "  inflating: skin-cancer-isic-master/data/ISIC_0010455.jpg  \n",
            "  inflating: skin-cancer-isic-master/data/ISIC_0010456.jpg  \n",
            "  inflating: skin-cancer-isic-master/data/ISIC_0010457.jpg  \n",
            "  inflating: skin-cancer-isic-master/data/ISIC_0010458.jpg  \n",
            "  inflating: skin-cancer-isic-master/data/ISIC_0010459.jpg  \n",
            "  inflating: skin-cancer-isic-master/data/ISIC_0010460.jpg  \n",
            "  inflating: skin-cancer-isic-master/data/ISIC_0010461.jpg  \n",
            "  inflating: skin-cancer-isic-master/data/ISIC_0010462.jpg  \n",
            "  inflating: skin-cancer-isic-master/data/ISIC_0010463.jpg  \n",
            "  inflating: skin-cancer-isic-master/data/ISIC_0010464.jpg  \n",
            "  inflating: skin-cancer-isic-master/data/ISIC_0010465.jpg  \n",
            "  inflating: skin-cancer-isic-master/data/ISIC_0010466.jpg  \n",
            "  inflating: skin-cancer-isic-master/data/ISIC_0010467.jpg  \n",
            "  inflating: skin-cancer-isic-master/data/ISIC_0010468.jpg  \n",
            "  inflating: skin-cancer-isic-master/data/ISIC_0010469.jpg  \n",
            "  inflating: skin-cancer-isic-master/data/ISIC_0010470.jpg  \n",
            "  inflating: skin-cancer-isic-master/data/ISIC_0010471.jpg  \n",
            "  inflating: skin-cancer-isic-master/data/ISIC_0010472.jpg  \n",
            "  inflating: skin-cancer-isic-master/data/ISIC_0010473.jpg  \n",
            "  inflating: skin-cancer-isic-master/data/ISIC_0010474.jpg  \n",
            "  inflating: skin-cancer-isic-master/data/ISIC_0010475.jpg  \n",
            "  inflating: skin-cancer-isic-master/data/ISIC_0010476.jpg  \n",
            "  inflating: skin-cancer-isic-master/data/ISIC_0010477.jpg  \n",
            "  inflating: skin-cancer-isic-master/data/ISIC_0010478.jpg  \n",
            "  inflating: skin-cancer-isic-master/data/ISIC_0010479.jpg  \n",
            "  inflating: skin-cancer-isic-master/data/ISIC_0010480.jpg  \n",
            "  inflating: skin-cancer-isic-master/data/ISIC_0010481.jpg  \n",
            "  inflating: skin-cancer-isic-master/data/ISIC_0010482.jpg  \n",
            "  inflating: skin-cancer-isic-master/data/ISIC_0010483.jpg  \n",
            "  inflating: skin-cancer-isic-master/data/ISIC_0010484.jpg  \n",
            "  inflating: skin-cancer-isic-master/data/ISIC_0010485.jpg  \n",
            "  inflating: skin-cancer-isic-master/data/ISIC_0010486.jpg  \n",
            "  inflating: skin-cancer-isic-master/data/ISIC_0010487.jpg  \n",
            "  inflating: skin-cancer-isic-master/data/ISIC_0010488.jpg  \n",
            "  inflating: skin-cancer-isic-master/data/ISIC_0010489.jpg  \n",
            "  inflating: skin-cancer-isic-master/data/ISIC_0010490.jpg  \n",
            "  inflating: skin-cancer-isic-master/data/ISIC_0010491.jpg  \n",
            "  inflating: skin-cancer-isic-master/data/ISIC_0010492.jpg  \n",
            "  inflating: skin-cancer-isic-master/data/ISIC_0010493.jpg  \n",
            "  inflating: skin-cancer-isic-master/data/ISIC_0010494.jpg  \n",
            "  inflating: skin-cancer-isic-master/data/ISIC_0010495.jpg  \n",
            "  inflating: skin-cancer-isic-master/data/ISIC_0010496.jpg  \n",
            "  inflating: skin-cancer-isic-master/data/ISIC_0010497.jpg  \n",
            "  inflating: skin-cancer-isic-master/data/ISIC_0010498.jpg  \n",
            "  inflating: skin-cancer-isic-master/data/ISIC_0010499.jpg  \n",
            "  inflating: skin-cancer-isic-master/data/ISIC_0010500.jpg  \n",
            "  inflating: skin-cancer-isic-master/data/ISIC_0010501.jpg  \n",
            "  inflating: skin-cancer-isic-master/data/ISIC_0010502.jpg  \n",
            "  inflating: skin-cancer-isic-master/data/ISIC_0010503.jpg  \n",
            "  inflating: skin-cancer-isic-master/data/ISIC_0010504.jpg  \n",
            "  inflating: skin-cancer-isic-master/data/ISIC_0010505.jpg  \n",
            "  inflating: skin-cancer-isic-master/data/ISIC_0010506.jpg  \n",
            "  inflating: skin-cancer-isic-master/data/ISIC_0010507.jpg  \n",
            "  inflating: skin-cancer-isic-master/data/ISIC_0010508.jpg  \n",
            "  inflating: skin-cancer-isic-master/data/ISIC_0010509.jpg  \n",
            "  inflating: skin-cancer-isic-master/data/ISIC_0010510.jpg  \n",
            "  inflating: skin-cancer-isic-master/data/ISIC_0010511.jpg  \n",
            "  inflating: skin-cancer-isic-master/data/ISIC_0010512.jpg  \n",
            "  inflating: skin-cancer-isic-master/data/ISIC_0010513.jpg  \n",
            "  inflating: skin-cancer-isic-master/data/ISIC_0010514.jpg  \n",
            "  inflating: skin-cancer-isic-master/data/ISIC_0010515.jpg  \n",
            "  inflating: skin-cancer-isic-master/data/ISIC_0010516.jpg  \n",
            "  inflating: skin-cancer-isic-master/data/ISIC_0010517.jpg  \n",
            "  inflating: skin-cancer-isic-master/data/ISIC_0010518.jpg  \n",
            "  inflating: skin-cancer-isic-master/data/ISIC_0010519.jpg  \n",
            "  inflating: skin-cancer-isic-master/data/ISIC_0010520.jpg  \n",
            "  inflating: skin-cancer-isic-master/data/ISIC_0010521.jpg  \n",
            "  inflating: skin-cancer-isic-master/data/ISIC_0010522.jpg  \n",
            "  inflating: skin-cancer-isic-master/data/ISIC_0010523.jpg  \n",
            "  inflating: skin-cancer-isic-master/data/ISIC_0010524.jpg  \n",
            "  inflating: skin-cancer-isic-master/data/ISIC_0010525.jpg  \n",
            "  inflating: skin-cancer-isic-master/data/ISIC_0010526.jpg  \n",
            "  inflating: skin-cancer-isic-master/data/ISIC_0010527.jpg  \n",
            "  inflating: skin-cancer-isic-master/data/ISIC_0010528.jpg  \n",
            "  inflating: skin-cancer-isic-master/data/ISIC_0010529.jpg  \n",
            "  inflating: skin-cancer-isic-master/data/ISIC_0010530.jpg  \n",
            "  inflating: skin-cancer-isic-master/data/ISIC_0010531.jpg  \n",
            "  inflating: skin-cancer-isic-master/data/ISIC_0010532.jpg  \n",
            "  inflating: skin-cancer-isic-master/data/ISIC_0010533.jpg  \n",
            "  inflating: skin-cancer-isic-master/data/ISIC_0010534.jpg  \n",
            "  inflating: skin-cancer-isic-master/data/ISIC_0010535.jpg  \n",
            "  inflating: skin-cancer-isic-master/data/ISIC_0010536.jpg  \n",
            "  inflating: skin-cancer-isic-master/data/ISIC_0010537.jpg  \n",
            "  inflating: skin-cancer-isic-master/data/ISIC_0010538.jpg  \n",
            "  inflating: skin-cancer-isic-master/data/ISIC_0010539.jpg  \n",
            "  inflating: skin-cancer-isic-master/data/ISIC_0010540.jpg  \n",
            "  inflating: skin-cancer-isic-master/data/ISIC_0010541.jpg  \n",
            "  inflating: skin-cancer-isic-master/data/ISIC_0010542.jpg  \n",
            "  inflating: skin-cancer-isic-master/data/ISIC_0010543.jpg  \n",
            "  inflating: skin-cancer-isic-master/data/ISIC_0010544.jpg  \n",
            "  inflating: skin-cancer-isic-master/data/ISIC_0010545.jpg  \n",
            "  inflating: skin-cancer-isic-master/data/ISIC_0010546.jpg  \n",
            "  inflating: skin-cancer-isic-master/data/ISIC_0010547.jpg  \n",
            "  inflating: skin-cancer-isic-master/data/ISIC_0010548.jpg  \n",
            "  inflating: skin-cancer-isic-master/data/ISIC_0010549.jpg  \n",
            "  inflating: skin-cancer-isic-master/data/ISIC_0010550.jpg  \n",
            "  inflating: skin-cancer-isic-master/data/ISIC_0010551.jpg  \n",
            "  inflating: skin-cancer-isic-master/data/ISIC_0010552.jpg  \n",
            "  inflating: skin-cancer-isic-master/data/ISIC_0010553.jpg  \n",
            "  inflating: skin-cancer-isic-master/data/ISIC_0010554.jpg  \n",
            "  inflating: skin-cancer-isic-master/data/ISIC_0010555.jpg  \n",
            "  inflating: skin-cancer-isic-master/data/ISIC_0010556.jpg  \n",
            "  inflating: skin-cancer-isic-master/data/ISIC_0010557.jpg  \n",
            "  inflating: skin-cancer-isic-master/data/ISIC_0010558.jpg  \n",
            "  inflating: skin-cancer-isic-master/data/ISIC_0010559.jpg  \n",
            "  inflating: skin-cancer-isic-master/data/ISIC_0010560.jpg  \n",
            "  inflating: skin-cancer-isic-master/data/ISIC_0010561.jpg  \n",
            "  inflating: skin-cancer-isic-master/data/ISIC_0010562.jpg  \n",
            "  inflating: skin-cancer-isic-master/data/ISIC_0010563.jpg  \n",
            "  inflating: skin-cancer-isic-master/data/ISIC_0010564.jpg  \n",
            "  inflating: skin-cancer-isic-master/data/ISIC_0010565.jpg  \n",
            "  inflating: skin-cancer-isic-master/data/ISIC_0010566.jpg  \n",
            "  inflating: skin-cancer-isic-master/data/ISIC_0010567.jpg  \n",
            "  inflating: skin-cancer-isic-master/data/ISIC_0010568.jpg  \n",
            "  inflating: skin-cancer-isic-master/data/ISIC_0010569.jpg  \n",
            "  inflating: skin-cancer-isic-master/data/ISIC_0010570.jpg  \n",
            "  inflating: skin-cancer-isic-master/data/ISIC_0010571.jpg  \n",
            "  inflating: skin-cancer-isic-master/data/ISIC_0010572.jpg  \n",
            "  inflating: skin-cancer-isic-master/data/ISIC_0010573.jpg  \n",
            "  inflating: skin-cancer-isic-master/data/ISIC_0010574.jpg  \n",
            "  inflating: skin-cancer-isic-master/data/ISIC_0010575.jpg  \n",
            "  inflating: skin-cancer-isic-master/data/ISIC_0010576.jpg  \n",
            "  inflating: skin-cancer-isic-master/data/ISIC_0010577.jpg  \n",
            "  inflating: skin-cancer-isic-master/data/ISIC_0010578.jpg  \n",
            "  inflating: skin-cancer-isic-master/data/ISIC_0010579.jpg  \n",
            "  inflating: skin-cancer-isic-master/data/ISIC_0010580.jpg  \n",
            "  inflating: skin-cancer-isic-master/data/ISIC_0010581.jpg  \n",
            "  inflating: skin-cancer-isic-master/data/ISIC_0010582.jpg  \n",
            "  inflating: skin-cancer-isic-master/data/ISIC_0010583.jpg  \n",
            "  inflating: skin-cancer-isic-master/data/ISIC_0010584.jpg  \n",
            "  inflating: skin-cancer-isic-master/data/ISIC_0010585.jpg  \n",
            "  inflating: skin-cancer-isic-master/data/ISIC_0010586.jpg  \n",
            "  inflating: skin-cancer-isic-master/data/ISIC_0010587.jpg  \n",
            "  inflating: skin-cancer-isic-master/data/ISIC_0010588.jpg  \n",
            "  inflating: skin-cancer-isic-master/data/ISIC_0010589.jpg  \n",
            "  inflating: skin-cancer-isic-master/data/ISIC_0010590.jpg  \n",
            "  inflating: skin-cancer-isic-master/data/ISIC_0010591.jpg  \n",
            "  inflating: skin-cancer-isic-master/data/ISIC_0010592.jpg  \n",
            "  inflating: skin-cancer-isic-master/data/ISIC_0010593.jpg  \n",
            "  inflating: skin-cancer-isic-master/data/ISIC_0010594.jpg  \n",
            "  inflating: skin-cancer-isic-master/data/ISIC_0010595.jpg  \n",
            "  inflating: skin-cancer-isic-master/data/ISIC_0010596.jpg  \n",
            "  inflating: skin-cancer-isic-master/data/ISIC_0010597.jpg  \n",
            "  inflating: skin-cancer-isic-master/data/ISIC_0010598.jpg  \n",
            "  inflating: skin-cancer-isic-master/data/ISIC_0010599.jpg  \n",
            "  inflating: skin-cancer-isic-master/data/ISIC_0010600.jpg  \n",
            "  inflating: skin-cancer-isic-master/data/ISIC_0010601.jpg  \n",
            "  inflating: skin-cancer-isic-master/data/ISIC_0010602.jpg  \n",
            "  inflating: skin-cancer-isic-master/data/ISIC_0010603.jpg  \n",
            "  inflating: skin-cancer-isic-master/data/ISIC_0010604.jpg  \n",
            "  inflating: skin-cancer-isic-master/data/ISIC_0010605.jpg  \n",
            "  inflating: skin-cancer-isic-master/data/ISIC_0010606.jpg  \n",
            "  inflating: skin-cancer-isic-master/data/ISIC_0010607.jpg  \n",
            "  inflating: skin-cancer-isic-master/data/ISIC_0010608.jpg  \n",
            "  inflating: skin-cancer-isic-master/data/ISIC_0010609.jpg  \n",
            "  inflating: skin-cancer-isic-master/data/ISIC_0010610.jpg  \n",
            "  inflating: skin-cancer-isic-master/data/ISIC_0010611.jpg  \n",
            "  inflating: skin-cancer-isic-master/data/ISIC_0010612.jpg  \n",
            "  inflating: skin-cancer-isic-master/data/ISIC_0010613.jpg  \n",
            "  inflating: skin-cancer-isic-master/data/ISIC_0010614.jpg  \n",
            "  inflating: skin-cancer-isic-master/data/ISIC_0010615.jpg  \n",
            "  inflating: skin-cancer-isic-master/data/ISIC_0010616.jpg  \n",
            "  inflating: skin-cancer-isic-master/data/ISIC_0010617.jpg  \n",
            "  inflating: skin-cancer-isic-master/data/ISIC_0010618.jpg  \n",
            "  inflating: skin-cancer-isic-master/data/ISIC_0010619.jpg  \n",
            "  inflating: skin-cancer-isic-master/data/metadata.csv  \n",
            "  inflating: skin-cancer-isic-master/notebook.ipynb  \n"
          ],
          "name": "stdout"
        }
      ]
    },
    {
      "cell_type": "code",
      "metadata": {
        "id": "9glbvBcse1c3"
      },
      "source": [
        "import os\n",
        "import cv2\n",
        "import pandas as pd\n",
        "import numpy as np\n",
        "from PIL import Image\n",
        "import matplotlib.pyplot as plt\n",
        "from sklearn.model_selection import train_test_split\n",
        "import tensorflow as tf\n",
        "from tensorflow import keras\n",
        "from tensorflow.keras.models import Sequential\n",
        "from tensorflow.keras.layers import Conv2D,MaxPooling2D,Dense,Flatten,Dropout\n",
        "from tensorflow.keras.layers import BatchNormalization"
      ],
      "execution_count": null,
      "outputs": []
    },
    {
      "cell_type": "code",
      "metadata": {
        "id": "_z_nNW2ofYBL"
      },
      "source": [
        "from tensorflow.keras.applications import ResNet50\n",
        "from tensorflow.keras.applications.resnet50 import preprocess_input, decode_predictions\n",
        "from tensorflow.keras.models import Sequential\n",
        "from tensorflow.keras.layers import Dense, Flatten, GlobalAveragePooling2D\n",
        "from tensorflow.keras.preprocessing.image import ImageDataGenerator, img_to_array, load_img"
      ],
      "execution_count": null,
      "outputs": []
    },
    {
      "cell_type": "code",
      "metadata": {
        "id": "IpPIKOmFDD9j"
      },
      "source": [
        "df_brain=pd.read_csv('/content/metadata.csv',dtype=str)"
      ],
      "execution_count": null,
      "outputs": []
    },
    {
      "cell_type": "code",
      "metadata": {
        "colab": {
          "base_uri": "https://localhost:8080/",
          "height": 422
        },
        "id": "LNUbJ-gKDMzp",
        "outputId": "27dbef14-ef0d-4abc-ef2e-78d5bc70f437"
      },
      "source": [
        "df_brain"
      ],
      "execution_count": null,
      "outputs": [
        {
          "output_type": "execute_result",
          "data": {
            "text/html": [
              "<div>\n",
              "<style scoped>\n",
              "    .dataframe tbody tr th:only-of-type {\n",
              "        vertical-align: middle;\n",
              "    }\n",
              "\n",
              "    .dataframe tbody tr th {\n",
              "        vertical-align: top;\n",
              "    }\n",
              "\n",
              "    .dataframe thead th {\n",
              "        text-align: right;\n",
              "    }\n",
              "</style>\n",
              "<table border=\"1\" class=\"dataframe\">\n",
              "  <thead>\n",
              "    <tr style=\"text-align: right;\">\n",
              "      <th></th>\n",
              "      <th>_id</th>\n",
              "      <th>name</th>\n",
              "      <th>meta.clinical.age_approx</th>\n",
              "      <th>meta.clinical.anatom_site_general</th>\n",
              "      <th>meta.clinical.benign_malignant</th>\n",
              "      <th>meta.clinical.clin_size_long_diam_mm</th>\n",
              "      <th>meta.clinical.diagnosis</th>\n",
              "      <th>meta.clinical.diagnosis_confirm_type</th>\n",
              "      <th>meta.clinical.family_hx_mm</th>\n",
              "      <th>meta.clinical.lesion_id</th>\n",
              "      <th>meta.clinical.mel_class</th>\n",
              "      <th>meta.clinical.mel_mitotic_index</th>\n",
              "      <th>meta.clinical.mel_thick_mm</th>\n",
              "      <th>meta.clinical.mel_type</th>\n",
              "      <th>meta.clinical.mel_ulcer</th>\n",
              "      <th>meta.clinical.melanocytic</th>\n",
              "      <th>meta.clinical.nevus_type</th>\n",
              "      <th>meta.clinical.patient_id</th>\n",
              "      <th>meta.clinical.personal_hx_mm</th>\n",
              "      <th>meta.clinical.sex</th>\n",
              "      <th>meta.acquisition.acquisition_day</th>\n",
              "      <th>meta.acquisition.blurry</th>\n",
              "      <th>meta.acquisition.color_tint</th>\n",
              "      <th>meta.acquisition.dermoscopic_type</th>\n",
              "      <th>meta.acquisition.hairy</th>\n",
              "      <th>meta.acquisition.image_type</th>\n",
              "      <th>meta.acquisition.marker_pen</th>\n",
              "      <th>meta.acquisition.pixelsX</th>\n",
              "      <th>meta.acquisition.pixelsY</th>\n",
              "    </tr>\n",
              "  </thead>\n",
              "  <tbody>\n",
              "    <tr>\n",
              "      <th>0</th>\n",
              "      <td>5436e3abbae478396759f0cf</td>\n",
              "      <td>ISIC_0000000</td>\n",
              "      <td>55</td>\n",
              "      <td>anterior torso</td>\n",
              "      <td>benign</td>\n",
              "      <td>NaN</td>\n",
              "      <td>nevus</td>\n",
              "      <td>NaN</td>\n",
              "      <td>NaN</td>\n",
              "      <td>NaN</td>\n",
              "      <td>NaN</td>\n",
              "      <td>NaN</td>\n",
              "      <td>NaN</td>\n",
              "      <td>NaN</td>\n",
              "      <td>NaN</td>\n",
              "      <td>True</td>\n",
              "      <td>NaN</td>\n",
              "      <td>NaN</td>\n",
              "      <td>NaN</td>\n",
              "      <td>female</td>\n",
              "      <td>NaN</td>\n",
              "      <td>NaN</td>\n",
              "      <td>NaN</td>\n",
              "      <td>NaN</td>\n",
              "      <td>NaN</td>\n",
              "      <td>dermoscopic</td>\n",
              "      <td>NaN</td>\n",
              "      <td>1022</td>\n",
              "      <td>767</td>\n",
              "    </tr>\n",
              "    <tr>\n",
              "      <th>1</th>\n",
              "      <td>5436e3acbae478396759f0d1</td>\n",
              "      <td>ISIC_0000001</td>\n",
              "      <td>30</td>\n",
              "      <td>anterior torso</td>\n",
              "      <td>benign</td>\n",
              "      <td>NaN</td>\n",
              "      <td>nevus</td>\n",
              "      <td>NaN</td>\n",
              "      <td>NaN</td>\n",
              "      <td>NaN</td>\n",
              "      <td>NaN</td>\n",
              "      <td>NaN</td>\n",
              "      <td>NaN</td>\n",
              "      <td>NaN</td>\n",
              "      <td>NaN</td>\n",
              "      <td>True</td>\n",
              "      <td>NaN</td>\n",
              "      <td>NaN</td>\n",
              "      <td>NaN</td>\n",
              "      <td>female</td>\n",
              "      <td>NaN</td>\n",
              "      <td>NaN</td>\n",
              "      <td>NaN</td>\n",
              "      <td>NaN</td>\n",
              "      <td>NaN</td>\n",
              "      <td>dermoscopic</td>\n",
              "      <td>NaN</td>\n",
              "      <td>1022</td>\n",
              "      <td>767</td>\n",
              "    </tr>\n",
              "    <tr>\n",
              "      <th>2</th>\n",
              "      <td>5436e3acbae478396759f0d3</td>\n",
              "      <td>ISIC_0000002</td>\n",
              "      <td>60</td>\n",
              "      <td>upper extremity</td>\n",
              "      <td>malignant</td>\n",
              "      <td>NaN</td>\n",
              "      <td>melanoma</td>\n",
              "      <td>histopathology</td>\n",
              "      <td>NaN</td>\n",
              "      <td>NaN</td>\n",
              "      <td>NaN</td>\n",
              "      <td>NaN</td>\n",
              "      <td>NaN</td>\n",
              "      <td>NaN</td>\n",
              "      <td>NaN</td>\n",
              "      <td>True</td>\n",
              "      <td>NaN</td>\n",
              "      <td>NaN</td>\n",
              "      <td>NaN</td>\n",
              "      <td>female</td>\n",
              "      <td>NaN</td>\n",
              "      <td>NaN</td>\n",
              "      <td>NaN</td>\n",
              "      <td>NaN</td>\n",
              "      <td>NaN</td>\n",
              "      <td>dermoscopic</td>\n",
              "      <td>NaN</td>\n",
              "      <td>1022</td>\n",
              "      <td>767</td>\n",
              "    </tr>\n",
              "    <tr>\n",
              "      <th>3</th>\n",
              "      <td>5436e3acbae478396759f0d5</td>\n",
              "      <td>ISIC_0000003</td>\n",
              "      <td>30</td>\n",
              "      <td>upper extremity</td>\n",
              "      <td>benign</td>\n",
              "      <td>NaN</td>\n",
              "      <td>nevus</td>\n",
              "      <td>NaN</td>\n",
              "      <td>NaN</td>\n",
              "      <td>NaN</td>\n",
              "      <td>NaN</td>\n",
              "      <td>NaN</td>\n",
              "      <td>NaN</td>\n",
              "      <td>NaN</td>\n",
              "      <td>NaN</td>\n",
              "      <td>True</td>\n",
              "      <td>NaN</td>\n",
              "      <td>NaN</td>\n",
              "      <td>NaN</td>\n",
              "      <td>male</td>\n",
              "      <td>NaN</td>\n",
              "      <td>NaN</td>\n",
              "      <td>NaN</td>\n",
              "      <td>NaN</td>\n",
              "      <td>NaN</td>\n",
              "      <td>dermoscopic</td>\n",
              "      <td>NaN</td>\n",
              "      <td>1022</td>\n",
              "      <td>767</td>\n",
              "    </tr>\n",
              "    <tr>\n",
              "      <th>4</th>\n",
              "      <td>5436e3acbae478396759f0d7</td>\n",
              "      <td>ISIC_0000004</td>\n",
              "      <td>80</td>\n",
              "      <td>posterior torso</td>\n",
              "      <td>malignant</td>\n",
              "      <td>NaN</td>\n",
              "      <td>melanoma</td>\n",
              "      <td>histopathology</td>\n",
              "      <td>NaN</td>\n",
              "      <td>NaN</td>\n",
              "      <td>NaN</td>\n",
              "      <td>NaN</td>\n",
              "      <td>NaN</td>\n",
              "      <td>NaN</td>\n",
              "      <td>NaN</td>\n",
              "      <td>True</td>\n",
              "      <td>NaN</td>\n",
              "      <td>NaN</td>\n",
              "      <td>NaN</td>\n",
              "      <td>male</td>\n",
              "      <td>NaN</td>\n",
              "      <td>NaN</td>\n",
              "      <td>NaN</td>\n",
              "      <td>NaN</td>\n",
              "      <td>NaN</td>\n",
              "      <td>dermoscopic</td>\n",
              "      <td>NaN</td>\n",
              "      <td>1022</td>\n",
              "      <td>767</td>\n",
              "    </tr>\n",
              "    <tr>\n",
              "      <th>...</th>\n",
              "      <td>...</td>\n",
              "      <td>...</td>\n",
              "      <td>...</td>\n",
              "      <td>...</td>\n",
              "      <td>...</td>\n",
              "      <td>...</td>\n",
              "      <td>...</td>\n",
              "      <td>...</td>\n",
              "      <td>...</td>\n",
              "      <td>...</td>\n",
              "      <td>...</td>\n",
              "      <td>...</td>\n",
              "      <td>...</td>\n",
              "      <td>...</td>\n",
              "      <td>...</td>\n",
              "      <td>...</td>\n",
              "      <td>...</td>\n",
              "      <td>...</td>\n",
              "      <td>...</td>\n",
              "      <td>...</td>\n",
              "      <td>...</td>\n",
              "      <td>...</td>\n",
              "      <td>...</td>\n",
              "      <td>...</td>\n",
              "      <td>...</td>\n",
              "      <td>...</td>\n",
              "      <td>...</td>\n",
              "      <td>...</td>\n",
              "      <td>...</td>\n",
              "    </tr>\n",
              "    <tr>\n",
              "      <th>594</th>\n",
              "      <td>558d636bbae47801cf734d4d</td>\n",
              "      <td>ISIC_0010615</td>\n",
              "      <td>50</td>\n",
              "      <td>lower extremity</td>\n",
              "      <td>benign</td>\n",
              "      <td>4.5</td>\n",
              "      <td>nevus</td>\n",
              "      <td>single image expert consensus</td>\n",
              "      <td>True</td>\n",
              "      <td>NaN</td>\n",
              "      <td>NaN</td>\n",
              "      <td>NaN</td>\n",
              "      <td>NaN</td>\n",
              "      <td>NaN</td>\n",
              "      <td>NaN</td>\n",
              "      <td>True</td>\n",
              "      <td>NaN</td>\n",
              "      <td>NaN</td>\n",
              "      <td>True</td>\n",
              "      <td>female</td>\n",
              "      <td>NaN</td>\n",
              "      <td>NaN</td>\n",
              "      <td>NaN</td>\n",
              "      <td>NaN</td>\n",
              "      <td>NaN</td>\n",
              "      <td>dermoscopic</td>\n",
              "      <td>NaN</td>\n",
              "      <td>1024</td>\n",
              "      <td>768</td>\n",
              "    </tr>\n",
              "    <tr>\n",
              "      <th>595</th>\n",
              "      <td>558d636bbae47801cf734d50</td>\n",
              "      <td>ISIC_0010616</td>\n",
              "      <td>25</td>\n",
              "      <td>head/neck</td>\n",
              "      <td>benign</td>\n",
              "      <td>5.0</td>\n",
              "      <td>nevus</td>\n",
              "      <td>histopathology</td>\n",
              "      <td>False</td>\n",
              "      <td>NaN</td>\n",
              "      <td>NaN</td>\n",
              "      <td>NaN</td>\n",
              "      <td>NaN</td>\n",
              "      <td>NaN</td>\n",
              "      <td>NaN</td>\n",
              "      <td>True</td>\n",
              "      <td>NaN</td>\n",
              "      <td>NaN</td>\n",
              "      <td>False</td>\n",
              "      <td>female</td>\n",
              "      <td>NaN</td>\n",
              "      <td>NaN</td>\n",
              "      <td>NaN</td>\n",
              "      <td>NaN</td>\n",
              "      <td>NaN</td>\n",
              "      <td>dermoscopic</td>\n",
              "      <td>NaN</td>\n",
              "      <td>1024</td>\n",
              "      <td>768</td>\n",
              "    </tr>\n",
              "    <tr>\n",
              "      <th>596</th>\n",
              "      <td>558d636cbae47801cf734d53</td>\n",
              "      <td>ISIC_0010617</td>\n",
              "      <td>40</td>\n",
              "      <td>lower extremity</td>\n",
              "      <td>benign</td>\n",
              "      <td>7.0</td>\n",
              "      <td>nevus</td>\n",
              "      <td>histopathology</td>\n",
              "      <td>False</td>\n",
              "      <td>NaN</td>\n",
              "      <td>NaN</td>\n",
              "      <td>NaN</td>\n",
              "      <td>NaN</td>\n",
              "      <td>NaN</td>\n",
              "      <td>NaN</td>\n",
              "      <td>True</td>\n",
              "      <td>NaN</td>\n",
              "      <td>NaN</td>\n",
              "      <td>True</td>\n",
              "      <td>female</td>\n",
              "      <td>NaN</td>\n",
              "      <td>NaN</td>\n",
              "      <td>NaN</td>\n",
              "      <td>NaN</td>\n",
              "      <td>NaN</td>\n",
              "      <td>dermoscopic</td>\n",
              "      <td>NaN</td>\n",
              "      <td>1024</td>\n",
              "      <td>768</td>\n",
              "    </tr>\n",
              "    <tr>\n",
              "      <th>597</th>\n",
              "      <td>558d636cbae47801cf734d56</td>\n",
              "      <td>ISIC_0010618</td>\n",
              "      <td>40</td>\n",
              "      <td>anterior torso</td>\n",
              "      <td>benign</td>\n",
              "      <td>4.0</td>\n",
              "      <td>nevus</td>\n",
              "      <td>histopathology</td>\n",
              "      <td>False</td>\n",
              "      <td>NaN</td>\n",
              "      <td>NaN</td>\n",
              "      <td>NaN</td>\n",
              "      <td>NaN</td>\n",
              "      <td>NaN</td>\n",
              "      <td>NaN</td>\n",
              "      <td>True</td>\n",
              "      <td>NaN</td>\n",
              "      <td>NaN</td>\n",
              "      <td>False</td>\n",
              "      <td>female</td>\n",
              "      <td>NaN</td>\n",
              "      <td>NaN</td>\n",
              "      <td>NaN</td>\n",
              "      <td>NaN</td>\n",
              "      <td>NaN</td>\n",
              "      <td>dermoscopic</td>\n",
              "      <td>NaN</td>\n",
              "      <td>1024</td>\n",
              "      <td>768</td>\n",
              "    </tr>\n",
              "    <tr>\n",
              "      <th>598</th>\n",
              "      <td>558d636dbae47801cf734d59</td>\n",
              "      <td>ISIC_0010619</td>\n",
              "      <td>50</td>\n",
              "      <td>lower extremity</td>\n",
              "      <td>benign</td>\n",
              "      <td>3.0</td>\n",
              "      <td>nevus</td>\n",
              "      <td>histopathology</td>\n",
              "      <td>True</td>\n",
              "      <td>NaN</td>\n",
              "      <td>NaN</td>\n",
              "      <td>NaN</td>\n",
              "      <td>NaN</td>\n",
              "      <td>NaN</td>\n",
              "      <td>NaN</td>\n",
              "      <td>True</td>\n",
              "      <td>NaN</td>\n",
              "      <td>NaN</td>\n",
              "      <td>False</td>\n",
              "      <td>female</td>\n",
              "      <td>NaN</td>\n",
              "      <td>NaN</td>\n",
              "      <td>NaN</td>\n",
              "      <td>NaN</td>\n",
              "      <td>NaN</td>\n",
              "      <td>dermoscopic</td>\n",
              "      <td>NaN</td>\n",
              "      <td>1024</td>\n",
              "      <td>768</td>\n",
              "    </tr>\n",
              "  </tbody>\n",
              "</table>\n",
              "<p>599 rows × 29 columns</p>\n",
              "</div>"
            ],
            "text/plain": [
              "                          _id  ... meta.acquisition.pixelsY\n",
              "0    5436e3abbae478396759f0cf  ...                      767\n",
              "1    5436e3acbae478396759f0d1  ...                      767\n",
              "2    5436e3acbae478396759f0d3  ...                      767\n",
              "3    5436e3acbae478396759f0d5  ...                      767\n",
              "4    5436e3acbae478396759f0d7  ...                      767\n",
              "..                        ...  ...                      ...\n",
              "594  558d636bbae47801cf734d4d  ...                      768\n",
              "595  558d636bbae47801cf734d50  ...                      768\n",
              "596  558d636cbae47801cf734d53  ...                      768\n",
              "597  558d636cbae47801cf734d56  ...                      768\n",
              "598  558d636dbae47801cf734d59  ...                      768\n",
              "\n",
              "[599 rows x 29 columns]"
            ]
          },
          "metadata": {
            "tags": []
          },
          "execution_count": 6
        }
      ]
    },
    {
      "cell_type": "code",
      "metadata": {
        "colab": {
          "base_uri": "https://localhost:8080/"
        },
        "id": "9NhuR9GWZ7yw",
        "outputId": "a600f3b5-b329-49db-b1c1-fbbce2f72a61"
      },
      "source": [
        "list(df_brain)"
      ],
      "execution_count": null,
      "outputs": [
        {
          "output_type": "execute_result",
          "data": {
            "text/plain": [
              "['_id',\n",
              " 'name',\n",
              " 'meta.clinical.age_approx',\n",
              " 'meta.clinical.anatom_site_general',\n",
              " 'meta.clinical.benign_malignant',\n",
              " 'meta.clinical.clin_size_long_diam_mm',\n",
              " 'meta.clinical.diagnosis',\n",
              " 'meta.clinical.diagnosis_confirm_type',\n",
              " 'meta.clinical.family_hx_mm',\n",
              " 'meta.clinical.lesion_id',\n",
              " 'meta.clinical.mel_class',\n",
              " 'meta.clinical.mel_mitotic_index',\n",
              " 'meta.clinical.mel_thick_mm',\n",
              " 'meta.clinical.mel_type',\n",
              " 'meta.clinical.mel_ulcer',\n",
              " 'meta.clinical.melanocytic',\n",
              " 'meta.clinical.nevus_type',\n",
              " 'meta.clinical.patient_id',\n",
              " 'meta.clinical.personal_hx_mm',\n",
              " 'meta.clinical.sex',\n",
              " 'meta.acquisition.acquisition_day',\n",
              " 'meta.acquisition.blurry',\n",
              " 'meta.acquisition.color_tint',\n",
              " 'meta.acquisition.dermoscopic_type',\n",
              " 'meta.acquisition.hairy',\n",
              " 'meta.acquisition.image_type',\n",
              " 'meta.acquisition.marker_pen',\n",
              " 'meta.acquisition.pixelsX',\n",
              " 'meta.acquisition.pixelsY']"
            ]
          },
          "metadata": {
            "tags": []
          },
          "execution_count": 7
        }
      ]
    },
    {
      "cell_type": "code",
      "metadata": {
        "id": "zzqVmrlj1f4m"
      },
      "source": [
        "df_brain=df_brain[['name','meta.clinical.benign_malignant']]"
      ],
      "execution_count": null,
      "outputs": []
    },
    {
      "cell_type": "code",
      "metadata": {
        "colab": {
          "base_uri": "https://localhost:8080/",
          "height": 195
        },
        "id": "r_-YXxSn2Bed",
        "outputId": "8de5556f-7344-4f9c-e244-c6aa63a3378c"
      },
      "source": [
        "df_brain.head()"
      ],
      "execution_count": null,
      "outputs": [
        {
          "output_type": "execute_result",
          "data": {
            "text/html": [
              "<div>\n",
              "<style scoped>\n",
              "    .dataframe tbody tr th:only-of-type {\n",
              "        vertical-align: middle;\n",
              "    }\n",
              "\n",
              "    .dataframe tbody tr th {\n",
              "        vertical-align: top;\n",
              "    }\n",
              "\n",
              "    .dataframe thead th {\n",
              "        text-align: right;\n",
              "    }\n",
              "</style>\n",
              "<table border=\"1\" class=\"dataframe\">\n",
              "  <thead>\n",
              "    <tr style=\"text-align: right;\">\n",
              "      <th></th>\n",
              "      <th>name</th>\n",
              "      <th>meta.clinical.benign_malignant</th>\n",
              "    </tr>\n",
              "  </thead>\n",
              "  <tbody>\n",
              "    <tr>\n",
              "      <th>0</th>\n",
              "      <td>ISIC_0000000</td>\n",
              "      <td>benign</td>\n",
              "    </tr>\n",
              "    <tr>\n",
              "      <th>1</th>\n",
              "      <td>ISIC_0000001</td>\n",
              "      <td>benign</td>\n",
              "    </tr>\n",
              "    <tr>\n",
              "      <th>2</th>\n",
              "      <td>ISIC_0000002</td>\n",
              "      <td>malignant</td>\n",
              "    </tr>\n",
              "    <tr>\n",
              "      <th>3</th>\n",
              "      <td>ISIC_0000003</td>\n",
              "      <td>benign</td>\n",
              "    </tr>\n",
              "    <tr>\n",
              "      <th>4</th>\n",
              "      <td>ISIC_0000004</td>\n",
              "      <td>malignant</td>\n",
              "    </tr>\n",
              "  </tbody>\n",
              "</table>\n",
              "</div>"
            ],
            "text/plain": [
              "           name meta.clinical.benign_malignant\n",
              "0  ISIC_0000000                         benign\n",
              "1  ISIC_0000001                         benign\n",
              "2  ISIC_0000002                      malignant\n",
              "3  ISIC_0000003                         benign\n",
              "4  ISIC_0000004                      malignant"
            ]
          },
          "metadata": {
            "tags": []
          },
          "execution_count": 9
        }
      ]
    },
    {
      "cell_type": "code",
      "metadata": {
        "colab": {
          "base_uri": "https://localhost:8080/"
        },
        "id": "-rRc-NxA2EvW",
        "outputId": "9d67b624-add5-4f29-cba8-7267a9da417c"
      },
      "source": [
        "df_brain['meta.clinical.benign_malignant']=pd.get_dummies(df_brain['meta.clinical.benign_malignant'])"
      ],
      "execution_count": null,
      "outputs": [
        {
          "output_type": "stream",
          "text": [
            "/usr/local/lib/python3.7/dist-packages/ipykernel_launcher.py:1: SettingWithCopyWarning: \n",
            "A value is trying to be set on a copy of a slice from a DataFrame.\n",
            "Try using .loc[row_indexer,col_indexer] = value instead\n",
            "\n",
            "See the caveats in the documentation: https://pandas.pydata.org/pandas-docs/stable/user_guide/indexing.html#returning-a-view-versus-a-copy\n",
            "  \"\"\"Entry point for launching an IPython kernel.\n"
          ],
          "name": "stderr"
        }
      ]
    },
    {
      "cell_type": "code",
      "metadata": {
        "colab": {
          "base_uri": "https://localhost:8080/",
          "height": 195
        },
        "id": "_TF013UY2Mu2",
        "outputId": "dae96502-a5db-435b-fbd2-7935b154e3fb"
      },
      "source": [
        "df_brain.head()"
      ],
      "execution_count": null,
      "outputs": [
        {
          "output_type": "execute_result",
          "data": {
            "text/html": [
              "<div>\n",
              "<style scoped>\n",
              "    .dataframe tbody tr th:only-of-type {\n",
              "        vertical-align: middle;\n",
              "    }\n",
              "\n",
              "    .dataframe tbody tr th {\n",
              "        vertical-align: top;\n",
              "    }\n",
              "\n",
              "    .dataframe thead th {\n",
              "        text-align: right;\n",
              "    }\n",
              "</style>\n",
              "<table border=\"1\" class=\"dataframe\">\n",
              "  <thead>\n",
              "    <tr style=\"text-align: right;\">\n",
              "      <th></th>\n",
              "      <th>name</th>\n",
              "      <th>meta.clinical.benign_malignant</th>\n",
              "    </tr>\n",
              "  </thead>\n",
              "  <tbody>\n",
              "    <tr>\n",
              "      <th>0</th>\n",
              "      <td>ISIC_0000000</td>\n",
              "      <td>1</td>\n",
              "    </tr>\n",
              "    <tr>\n",
              "      <th>1</th>\n",
              "      <td>ISIC_0000001</td>\n",
              "      <td>1</td>\n",
              "    </tr>\n",
              "    <tr>\n",
              "      <th>2</th>\n",
              "      <td>ISIC_0000002</td>\n",
              "      <td>0</td>\n",
              "    </tr>\n",
              "    <tr>\n",
              "      <th>3</th>\n",
              "      <td>ISIC_0000003</td>\n",
              "      <td>1</td>\n",
              "    </tr>\n",
              "    <tr>\n",
              "      <th>4</th>\n",
              "      <td>ISIC_0000004</td>\n",
              "      <td>0</td>\n",
              "    </tr>\n",
              "  </tbody>\n",
              "</table>\n",
              "</div>"
            ],
            "text/plain": [
              "           name  meta.clinical.benign_malignant\n",
              "0  ISIC_0000000                               1\n",
              "1  ISIC_0000001                               1\n",
              "2  ISIC_0000002                               0\n",
              "3  ISIC_0000003                               1\n",
              "4  ISIC_0000004                               0"
            ]
          },
          "metadata": {
            "tags": []
          },
          "execution_count": 11
        }
      ]
    },
    {
      "cell_type": "code",
      "metadata": {
        "id": "El1WG_l8D0-4",
        "colab": {
          "base_uri": "https://localhost:8080/"
        },
        "outputId": "49301b14-9545-460a-a9df-85f5afbb9c3c"
      },
      "source": [
        "df_brain['meta.clinical.benign_malignant']= df_brain['meta.clinical.benign_malignant'].astype(str)\n",
        "df_brain['name'] = df_brain['name'] + '.jpg'"
      ],
      "execution_count": null,
      "outputs": [
        {
          "output_type": "stream",
          "text": [
            "/usr/local/lib/python3.7/dist-packages/ipykernel_launcher.py:1: SettingWithCopyWarning: \n",
            "A value is trying to be set on a copy of a slice from a DataFrame.\n",
            "Try using .loc[row_indexer,col_indexer] = value instead\n",
            "\n",
            "See the caveats in the documentation: https://pandas.pydata.org/pandas-docs/stable/user_guide/indexing.html#returning-a-view-versus-a-copy\n",
            "  \"\"\"Entry point for launching an IPython kernel.\n",
            "/usr/local/lib/python3.7/dist-packages/ipykernel_launcher.py:2: SettingWithCopyWarning: \n",
            "A value is trying to be set on a copy of a slice from a DataFrame.\n",
            "Try using .loc[row_indexer,col_indexer] = value instead\n",
            "\n",
            "See the caveats in the documentation: https://pandas.pydata.org/pandas-docs/stable/user_guide/indexing.html#returning-a-view-versus-a-copy\n",
            "  \n"
          ],
          "name": "stderr"
        }
      ]
    },
    {
      "cell_type": "code",
      "metadata": {
        "colab": {
          "base_uri": "https://localhost:8080/"
        },
        "id": "x8A1OBMFDifo",
        "outputId": "66ddfc6c-8395-49c7-dae8-7416982b003c"
      },
      "source": [
        "df_brain.dtypes"
      ],
      "execution_count": null,
      "outputs": [
        {
          "output_type": "execute_result",
          "data": {
            "text/plain": [
              "name                              object\n",
              "meta.clinical.benign_malignant    object\n",
              "dtype: object"
            ]
          },
          "metadata": {
            "tags": []
          },
          "execution_count": 13
        }
      ]
    },
    {
      "cell_type": "code",
      "metadata": {
        "colab": {
          "base_uri": "https://localhost:8080/",
          "height": 195
        },
        "id": "VuzFhZr-_Nda",
        "outputId": "78e06833-e14e-4b7c-eb5f-e998c9cea4d5"
      },
      "source": [
        "df_brain.head()"
      ],
      "execution_count": null,
      "outputs": [
        {
          "output_type": "execute_result",
          "data": {
            "text/html": [
              "<div>\n",
              "<style scoped>\n",
              "    .dataframe tbody tr th:only-of-type {\n",
              "        vertical-align: middle;\n",
              "    }\n",
              "\n",
              "    .dataframe tbody tr th {\n",
              "        vertical-align: top;\n",
              "    }\n",
              "\n",
              "    .dataframe thead th {\n",
              "        text-align: right;\n",
              "    }\n",
              "</style>\n",
              "<table border=\"1\" class=\"dataframe\">\n",
              "  <thead>\n",
              "    <tr style=\"text-align: right;\">\n",
              "      <th></th>\n",
              "      <th>name</th>\n",
              "      <th>meta.clinical.benign_malignant</th>\n",
              "    </tr>\n",
              "  </thead>\n",
              "  <tbody>\n",
              "    <tr>\n",
              "      <th>0</th>\n",
              "      <td>ISIC_0000000.jpg</td>\n",
              "      <td>1</td>\n",
              "    </tr>\n",
              "    <tr>\n",
              "      <th>1</th>\n",
              "      <td>ISIC_0000001.jpg</td>\n",
              "      <td>1</td>\n",
              "    </tr>\n",
              "    <tr>\n",
              "      <th>2</th>\n",
              "      <td>ISIC_0000002.jpg</td>\n",
              "      <td>0</td>\n",
              "    </tr>\n",
              "    <tr>\n",
              "      <th>3</th>\n",
              "      <td>ISIC_0000003.jpg</td>\n",
              "      <td>1</td>\n",
              "    </tr>\n",
              "    <tr>\n",
              "      <th>4</th>\n",
              "      <td>ISIC_0000004.jpg</td>\n",
              "      <td>0</td>\n",
              "    </tr>\n",
              "  </tbody>\n",
              "</table>\n",
              "</div>"
            ],
            "text/plain": [
              "               name meta.clinical.benign_malignant\n",
              "0  ISIC_0000000.jpg                              1\n",
              "1  ISIC_0000001.jpg                              1\n",
              "2  ISIC_0000002.jpg                              0\n",
              "3  ISIC_0000003.jpg                              1\n",
              "4  ISIC_0000004.jpg                              0"
            ]
          },
          "metadata": {
            "tags": []
          },
          "execution_count": 14
        }
      ]
    },
    {
      "cell_type": "code",
      "metadata": {
        "id": "2C4LZZG6DinN"
      },
      "source": [
        "import glob"
      ],
      "execution_count": null,
      "outputs": []
    },
    {
      "cell_type": "code",
      "metadata": {
        "colab": {
          "base_uri": "https://localhost:8080/"
        },
        "id": "AUt9nk4sfaDo",
        "outputId": "133611ae-4ae5-4330-b59e-24ef2f2d7181"
      },
      "source": [
        "!pip install split-folders"
      ],
      "execution_count": null,
      "outputs": [
        {
          "output_type": "stream",
          "text": [
            "Collecting split-folders\n",
            "  Downloading https://files.pythonhosted.org/packages/b8/5f/3c2b2f7ea5e047c8cdc3bb00ae582c5438fcdbbedcc23b3cc1c2c7aae642/split_folders-0.4.3-py3-none-any.whl\n",
            "Installing collected packages: split-folders\n",
            "Successfully installed split-folders-0.4.3\n"
          ],
          "name": "stdout"
        }
      ]
    },
    {
      "cell_type": "code",
      "metadata": {
        "id": "usUDRcntfdtB"
      },
      "source": [
        "!mkdir '/content/Skin_data'"
      ],
      "execution_count": null,
      "outputs": []
    },
    {
      "cell_type": "code",
      "metadata": {
        "colab": {
          "base_uri": "https://localhost:8080/"
        },
        "id": "sWp8aRy9fiFn",
        "outputId": "288497aa-a067-4a01-b5b5-3f1b449078bb"
      },
      "source": [
        "import splitfolders\n",
        "splitfolders.ratio(\"/content/skin-cancer-isic-master\", output=\"/content/Skin_data\", seed=1337, ratio=(.8, .2), group_prefix=None)"
      ],
      "execution_count": null,
      "outputs": [
        {
          "output_type": "stream",
          "text": [
            "Copying files: 600 files [00:00, 1989.23 files/s]\n"
          ],
          "name": "stderr"
        }
      ]
    },
    {
      "cell_type": "code",
      "metadata": {
        "id": "E-eBjfUCfl9u"
      },
      "source": [
        "image_size=150\n",
        "batch_size = 16"
      ],
      "execution_count": null,
      "outputs": []
    },
    {
      "cell_type": "markdown",
      "metadata": {
        "id": "ERXC0ZTigVc-"
      },
      "source": [
        "## Making the pandas dataframe"
      ]
    },
    {
      "cell_type": "markdown",
      "metadata": {
        "id": "WSMFHQCj43hp"
      },
      "source": [
        "### Train Data"
      ]
    },
    {
      "cell_type": "code",
      "metadata": {
        "id": "U2e771p33XDR"
      },
      "source": [
        "names=[]\n",
        "for i in glob.glob('/content/Skin_data/train/data/'+'*.jpg'):\n",
        "  names.append(i.strip('/content/Skin_data/train/data/'))\n",
        "d2={'name':names}\n",
        "df2=pd.DataFrame(d2)"
      ],
      "execution_count": null,
      "outputs": []
    },
    {
      "cell_type": "code",
      "metadata": {
        "colab": {
          "base_uri": "https://localhost:8080/",
          "height": 402
        },
        "id": "sR30dG8h3XGD",
        "outputId": "eaee1a35-723d-4b17-bf8e-5a465ec8d4cc"
      },
      "source": [
        "df2"
      ],
      "execution_count": null,
      "outputs": [
        {
          "output_type": "execute_result",
          "data": {
            "text/html": [
              "<div>\n",
              "<style scoped>\n",
              "    .dataframe tbody tr th:only-of-type {\n",
              "        vertical-align: middle;\n",
              "    }\n",
              "\n",
              "    .dataframe tbody tr th {\n",
              "        vertical-align: top;\n",
              "    }\n",
              "\n",
              "    .dataframe thead th {\n",
              "        text-align: right;\n",
              "    }\n",
              "</style>\n",
              "<table border=\"1\" class=\"dataframe\">\n",
              "  <thead>\n",
              "    <tr style=\"text-align: right;\">\n",
              "      <th></th>\n",
              "      <th>name</th>\n",
              "    </tr>\n",
              "  </thead>\n",
              "  <tbody>\n",
              "    <tr>\n",
              "      <th>0</th>\n",
              "      <td>ISIC_0010501.jpg</td>\n",
              "    </tr>\n",
              "    <tr>\n",
              "      <th>1</th>\n",
              "      <td>ISIC_0010582.jpg</td>\n",
              "    </tr>\n",
              "    <tr>\n",
              "      <th>2</th>\n",
              "      <td>ISIC_0000172.jpg</td>\n",
              "    </tr>\n",
              "    <tr>\n",
              "      <th>3</th>\n",
              "      <td>ISIC_0010516.jpg</td>\n",
              "    </tr>\n",
              "    <tr>\n",
              "      <th>4</th>\n",
              "      <td>ISIC_0000264.jpg</td>\n",
              "    </tr>\n",
              "    <tr>\n",
              "      <th>...</th>\n",
              "      <td>...</td>\n",
              "    </tr>\n",
              "    <tr>\n",
              "      <th>475</th>\n",
              "      <td>ISIC_0010551.jpg</td>\n",
              "    </tr>\n",
              "    <tr>\n",
              "      <th>476</th>\n",
              "      <td>ISIC_0010599.jpg</td>\n",
              "    </tr>\n",
              "    <tr>\n",
              "      <th>477</th>\n",
              "      <td>ISIC_0010499.jpg</td>\n",
              "    </tr>\n",
              "    <tr>\n",
              "      <th>478</th>\n",
              "      <td>ISIC_0010530.jpg</td>\n",
              "    </tr>\n",
              "    <tr>\n",
              "      <th>479</th>\n",
              "      <td>ISIC_0010348.jpg</td>\n",
              "    </tr>\n",
              "  </tbody>\n",
              "</table>\n",
              "<p>480 rows × 1 columns</p>\n",
              "</div>"
            ],
            "text/plain": [
              "                 name\n",
              "0    ISIC_0010501.jpg\n",
              "1    ISIC_0010582.jpg\n",
              "2    ISIC_0000172.jpg\n",
              "3    ISIC_0010516.jpg\n",
              "4    ISIC_0000264.jpg\n",
              "..                ...\n",
              "475  ISIC_0010551.jpg\n",
              "476  ISIC_0010599.jpg\n",
              "477  ISIC_0010499.jpg\n",
              "478  ISIC_0010530.jpg\n",
              "479  ISIC_0010348.jpg\n",
              "\n",
              "[480 rows x 1 columns]"
            ]
          },
          "metadata": {
            "tags": []
          },
          "execution_count": 21
        }
      ]
    },
    {
      "cell_type": "code",
      "metadata": {
        "id": "1MaUkvwz3XKs"
      },
      "source": [
        "train_df = df2.merge(df_brain[[\"name\",\"meta.clinical.benign_malignant\"]], on=\"name\", how=\"left\")"
      ],
      "execution_count": null,
      "outputs": []
    },
    {
      "cell_type": "code",
      "metadata": {
        "colab": {
          "base_uri": "https://localhost:8080/",
          "height": 195
        },
        "id": "j12l9K4U4Oax",
        "outputId": "830cb8df-588f-42f4-d1dc-b9deead8cac2"
      },
      "source": [
        "train_df.head()"
      ],
      "execution_count": null,
      "outputs": [
        {
          "output_type": "execute_result",
          "data": {
            "text/html": [
              "<div>\n",
              "<style scoped>\n",
              "    .dataframe tbody tr th:only-of-type {\n",
              "        vertical-align: middle;\n",
              "    }\n",
              "\n",
              "    .dataframe tbody tr th {\n",
              "        vertical-align: top;\n",
              "    }\n",
              "\n",
              "    .dataframe thead th {\n",
              "        text-align: right;\n",
              "    }\n",
              "</style>\n",
              "<table border=\"1\" class=\"dataframe\">\n",
              "  <thead>\n",
              "    <tr style=\"text-align: right;\">\n",
              "      <th></th>\n",
              "      <th>name</th>\n",
              "      <th>meta.clinical.benign_malignant</th>\n",
              "    </tr>\n",
              "  </thead>\n",
              "  <tbody>\n",
              "    <tr>\n",
              "      <th>0</th>\n",
              "      <td>ISIC_0010501.jpg</td>\n",
              "      <td>1</td>\n",
              "    </tr>\n",
              "    <tr>\n",
              "      <th>1</th>\n",
              "      <td>ISIC_0010582.jpg</td>\n",
              "      <td>1</td>\n",
              "    </tr>\n",
              "    <tr>\n",
              "      <th>2</th>\n",
              "      <td>ISIC_0000172.jpg</td>\n",
              "      <td>0</td>\n",
              "    </tr>\n",
              "    <tr>\n",
              "      <th>3</th>\n",
              "      <td>ISIC_0010516.jpg</td>\n",
              "      <td>0</td>\n",
              "    </tr>\n",
              "    <tr>\n",
              "      <th>4</th>\n",
              "      <td>ISIC_0000264.jpg</td>\n",
              "      <td>1</td>\n",
              "    </tr>\n",
              "  </tbody>\n",
              "</table>\n",
              "</div>"
            ],
            "text/plain": [
              "               name meta.clinical.benign_malignant\n",
              "0  ISIC_0010501.jpg                              1\n",
              "1  ISIC_0010582.jpg                              1\n",
              "2  ISIC_0000172.jpg                              0\n",
              "3  ISIC_0010516.jpg                              0\n",
              "4  ISIC_0000264.jpg                              1"
            ]
          },
          "metadata": {
            "tags": []
          },
          "execution_count": 23
        }
      ]
    },
    {
      "cell_type": "code",
      "metadata": {
        "colab": {
          "base_uri": "https://localhost:8080/"
        },
        "id": "7dwR6_1YAson",
        "outputId": "82a05e33-b7f3-4663-dafa-08bf4ae1f06b"
      },
      "source": [
        "train_df.dtypes"
      ],
      "execution_count": null,
      "outputs": [
        {
          "output_type": "execute_result",
          "data": {
            "text/plain": [
              "name                              object\n",
              "meta.clinical.benign_malignant    object\n",
              "dtype: object"
            ]
          },
          "metadata": {
            "tags": []
          },
          "execution_count": 24
        }
      ]
    },
    {
      "cell_type": "markdown",
      "metadata": {
        "id": "5O2lZnFZ457u"
      },
      "source": [
        "### Val data"
      ]
    },
    {
      "cell_type": "code",
      "metadata": {
        "id": "CE3y5Tbt4OdZ"
      },
      "source": [
        "names=[]\n",
        "for i in glob.glob('/content/Skin_data/val/data/'+'*.jpg'):\n",
        "  names.append(i.strip('/content/Skin_data/val/data/'))\n",
        "d2={'name':names}\n",
        "df2=pd.DataFrame(d2)"
      ],
      "execution_count": null,
      "outputs": []
    },
    {
      "cell_type": "code",
      "metadata": {
        "id": "qWFTGqS_4Ofy"
      },
      "source": [
        "val_df = df2.merge(df_brain[[\"name\",\"meta.clinical.benign_malignant\"]], on=\"name\", how=\"left\")"
      ],
      "execution_count": null,
      "outputs": []
    },
    {
      "cell_type": "code",
      "metadata": {
        "id": "afr6y95Hlvat"
      },
      "source": [
        "train_df['meta.clinical.benign_malignant']=train_df['meta.clinical.benign_malignant'].astype(str)\n",
        "val_df['meta.clinical.benign_malignant']=val_df['meta.clinical.benign_malignant'].astype(str)"
      ],
      "execution_count": null,
      "outputs": []
    },
    {
      "cell_type": "code",
      "metadata": {
        "id": "PXa6VQA0mamY"
      },
      "source": [
        "train_df=train_df[~train_df['meta.clinical.benign_malignant'].str.contains('nan')]"
      ],
      "execution_count": null,
      "outputs": []
    },
    {
      "cell_type": "code",
      "metadata": {
        "colab": {
          "base_uri": "https://localhost:8080/",
          "height": 402
        },
        "id": "9TbVJfbx3XNF",
        "outputId": "cc7cf63a-7713-4a04-e6d5-bb36630da967"
      },
      "source": [
        "val_df"
      ],
      "execution_count": null,
      "outputs": [
        {
          "output_type": "execute_result",
          "data": {
            "text/html": [
              "<div>\n",
              "<style scoped>\n",
              "    .dataframe tbody tr th:only-of-type {\n",
              "        vertical-align: middle;\n",
              "    }\n",
              "\n",
              "    .dataframe tbody tr th {\n",
              "        vertical-align: top;\n",
              "    }\n",
              "\n",
              "    .dataframe thead th {\n",
              "        text-align: right;\n",
              "    }\n",
              "</style>\n",
              "<table border=\"1\" class=\"dataframe\">\n",
              "  <thead>\n",
              "    <tr style=\"text-align: right;\">\n",
              "      <th></th>\n",
              "      <th>name</th>\n",
              "      <th>meta.clinical.benign_malignant</th>\n",
              "    </tr>\n",
              "  </thead>\n",
              "  <tbody>\n",
              "    <tr>\n",
              "      <th>0</th>\n",
              "      <td>ISIC_0000107.jpg</td>\n",
              "      <td>1</td>\n",
              "    </tr>\n",
              "    <tr>\n",
              "      <th>1</th>\n",
              "      <td>ISIC_0000213.jpg</td>\n",
              "      <td>1</td>\n",
              "    </tr>\n",
              "    <tr>\n",
              "      <th>2</th>\n",
              "      <td>ISIC_0000196.jpg</td>\n",
              "      <td>1</td>\n",
              "    </tr>\n",
              "    <tr>\n",
              "      <th>3</th>\n",
              "      <td>ISIC_0000070.jpg</td>\n",
              "      <td>0</td>\n",
              "    </tr>\n",
              "    <tr>\n",
              "      <th>4</th>\n",
              "      <td>ISIC_0000169.jpg</td>\n",
              "      <td>0</td>\n",
              "    </tr>\n",
              "    <tr>\n",
              "      <th>...</th>\n",
              "      <td>...</td>\n",
              "      <td>...</td>\n",
              "    </tr>\n",
              "    <tr>\n",
              "      <th>115</th>\n",
              "      <td>ISIC_0010486.jpg</td>\n",
              "      <td>0</td>\n",
              "    </tr>\n",
              "    <tr>\n",
              "      <th>116</th>\n",
              "      <td>ISIC_0010338.jpg</td>\n",
              "      <td>1</td>\n",
              "    </tr>\n",
              "    <tr>\n",
              "      <th>117</th>\n",
              "      <td>ISIC_0010334.jpg</td>\n",
              "      <td>1</td>\n",
              "    </tr>\n",
              "    <tr>\n",
              "      <th>118</th>\n",
              "      <td>ISIC_0000170.jpg</td>\n",
              "      <td>0</td>\n",
              "    </tr>\n",
              "    <tr>\n",
              "      <th>119</th>\n",
              "      <td>ISIC_0000121.jpg</td>\n",
              "      <td>1</td>\n",
              "    </tr>\n",
              "  </tbody>\n",
              "</table>\n",
              "<p>120 rows × 2 columns</p>\n",
              "</div>"
            ],
            "text/plain": [
              "                 name meta.clinical.benign_malignant\n",
              "0    ISIC_0000107.jpg                              1\n",
              "1    ISIC_0000213.jpg                              1\n",
              "2    ISIC_0000196.jpg                              1\n",
              "3    ISIC_0000070.jpg                              0\n",
              "4    ISIC_0000169.jpg                              0\n",
              "..                ...                            ...\n",
              "115  ISIC_0010486.jpg                              0\n",
              "116  ISIC_0010338.jpg                              1\n",
              "117  ISIC_0010334.jpg                              1\n",
              "118  ISIC_0000170.jpg                              0\n",
              "119  ISIC_0000121.jpg                              1\n",
              "\n",
              "[120 rows x 2 columns]"
            ]
          },
          "metadata": {
            "tags": []
          },
          "execution_count": 27
        }
      ]
    },
    {
      "cell_type": "markdown",
      "metadata": {
        "id": "fNUoatvgM7Oo"
      },
      "source": [
        "## Image data gen"
      ]
    },
    {
      "cell_type": "code",
      "metadata": {
        "id": "spEUcVCMlxVq"
      },
      "source": [
        "data_generator_with_aug = ImageDataGenerator(horizontal_flip = True,\n",
        "                                             rescale=1./255,\n",
        "                                             width_shift_range = 0.2,\n",
        "                                             height_shift_range = 0.2,\n",
        "                                             shear_range = 0.2,\n",
        "                                             zoom_range = 0.2\n",
        "                                            )\n",
        "            \n",
        "data_generator_no_aug = ImageDataGenerator(rescale=1./255,)"
      ],
      "execution_count": null,
      "outputs": []
    },
    {
      "cell_type": "code",
      "metadata": {
        "colab": {
          "base_uri": "https://localhost:8080/"
        },
        "id": "6cud7fWvl2n1",
        "outputId": "46efcbab-32aa-4cc3-a2f3-b5e925c4e927"
      },
      "source": [
        "train_generator=data_generator_with_aug.flow_from_dataframe(\n",
        "dataframe=train_df,\n",
        "directory=\"/content/Skin_data/train/data/\",\n",
        "x_col=\"name\",\n",
        "y_col=\"meta.clinical.benign_malignant\",\n",
        "subset=\"training\",\n",
        "batch_size=16,\n",
        "seed=42,\n",
        "shuffle=False,\n",
        "class_mode=\"categorical\",\n",
        "target_size=(150,150))"
      ],
      "execution_count": null,
      "outputs": [
        {
          "output_type": "stream",
          "text": [
            "Found 479 validated image filenames belonging to 2 classes.\n"
          ],
          "name": "stdout"
        }
      ]
    },
    {
      "cell_type": "code",
      "metadata": {
        "colab": {
          "base_uri": "https://localhost:8080/"
        },
        "id": "Ncdx8ZWkmIBv",
        "outputId": "f77f3ba8-026b-45cf-9915-fcbb4e5ba409"
      },
      "source": [
        "val_generator=data_generator_with_aug.flow_from_dataframe(\n",
        "dataframe=val_df,\n",
        "directory=\"/content/Skin_data/val/data/\",\n",
        "x_col=\"name\",\n",
        "y_col=\"meta.clinical.benign_malignant\",\n",
        "batch_size=16,\n",
        "seed=42,\n",
        "shuffle=False,\n",
        "class_mode=\"categorical\",\n",
        "target_size=(150,150))"
      ],
      "execution_count": null,
      "outputs": [
        {
          "output_type": "stream",
          "text": [
            "Found 120 validated image filenames belonging to 2 classes.\n"
          ],
          "name": "stdout"
        }
      ]
    },
    {
      "cell_type": "markdown",
      "metadata": {
        "id": "vcLpsWSOaMfH"
      },
      "source": [
        "## Resnet 50 Model"
      ]
    },
    {
      "cell_type": "code",
      "metadata": {
        "id": "zmBMXXosVj03"
      },
      "source": [
        "num_classes = 2\n",
        "resnet_weights_path = '../input/resnet50/resnet50_weights_tf_dim_ordering_tf_kernels_notop.h5'\n",
        "\n",
        "\n",
        "x=ResNet50(include_top=False, pooling='avg',weights=None,input_shape=(150,150,3))\n",
        "outputs = tf.keras.layers.Dense(2, activation='sigmoid')(x.output)\n",
        "\n",
        "model = tf.keras.Model(inputs=x.input, outputs=outputs)\n",
        "\n",
        "\n",
        "model.compile(optimizer='adam', loss='binary_crossentropy', metrics=['accuracy'])"
      ],
      "execution_count": null,
      "outputs": []
    },
    {
      "cell_type": "code",
      "metadata": {
        "colab": {
          "base_uri": "https://localhost:8080/"
        },
        "id": "fY_gOQnRcU9a",
        "outputId": "a18f8450-eeb3-479e-db9e-b0c529320ebc"
      },
      "source": [
        "model.summary()"
      ],
      "execution_count": null,
      "outputs": [
        {
          "output_type": "stream",
          "text": [
            "Model: \"model_2397\"\n",
            "__________________________________________________________________________________________________\n",
            "Layer (type)                    Output Shape         Param #     Connected to                     \n",
            "==================================================================================================\n",
            "input_1200 (InputLayer)         [(None, 150, 150, 3) 0                                            \n",
            "__________________________________________________________________________________________________\n",
            "conv1_pad (ZeroPadding2D)       (None, 156, 156, 3)  0           input_1200[0][0]                 \n",
            "__________________________________________________________________________________________________\n",
            "conv1_conv (Conv2D)             (None, 75, 75, 64)   9472        conv1_pad[0][0]                  \n",
            "__________________________________________________________________________________________________\n",
            "conv1_bn (BatchNormalization)   (None, 75, 75, 64)   256         conv1_conv[0][0]                 \n",
            "__________________________________________________________________________________________________\n",
            "conv1_relu (Activation)         (None, 75, 75, 64)   0           conv1_bn[0][0]                   \n",
            "__________________________________________________________________________________________________\n",
            "pool1_pad (ZeroPadding2D)       (None, 77, 77, 64)   0           conv1_relu[0][0]                 \n",
            "__________________________________________________________________________________________________\n",
            "pool1_pool (MaxPooling2D)       (None, 38, 38, 64)   0           pool1_pad[0][0]                  \n",
            "__________________________________________________________________________________________________\n",
            "conv2_block1_1_conv (Conv2D)    (None, 38, 38, 64)   4160        pool1_pool[0][0]                 \n",
            "__________________________________________________________________________________________________\n",
            "conv2_block1_1_bn (BatchNormali (None, 38, 38, 64)   256         conv2_block1_1_conv[0][0]        \n",
            "__________________________________________________________________________________________________\n",
            "conv2_block1_1_relu (Activation (None, 38, 38, 64)   0           conv2_block1_1_bn[0][0]          \n",
            "__________________________________________________________________________________________________\n",
            "conv2_block1_2_conv (Conv2D)    (None, 38, 38, 64)   36928       conv2_block1_1_relu[0][0]        \n",
            "__________________________________________________________________________________________________\n",
            "conv2_block1_2_bn (BatchNormali (None, 38, 38, 64)   256         conv2_block1_2_conv[0][0]        \n",
            "__________________________________________________________________________________________________\n",
            "conv2_block1_2_relu (Activation (None, 38, 38, 64)   0           conv2_block1_2_bn[0][0]          \n",
            "__________________________________________________________________________________________________\n",
            "conv2_block1_0_conv (Conv2D)    (None, 38, 38, 256)  16640       pool1_pool[0][0]                 \n",
            "__________________________________________________________________________________________________\n",
            "conv2_block1_3_conv (Conv2D)    (None, 38, 38, 256)  16640       conv2_block1_2_relu[0][0]        \n",
            "__________________________________________________________________________________________________\n",
            "conv2_block1_0_bn (BatchNormali (None, 38, 38, 256)  1024        conv2_block1_0_conv[0][0]        \n",
            "__________________________________________________________________________________________________\n",
            "conv2_block1_3_bn (BatchNormali (None, 38, 38, 256)  1024        conv2_block1_3_conv[0][0]        \n",
            "__________________________________________________________________________________________________\n",
            "conv2_block1_add (Add)          (None, 38, 38, 256)  0           conv2_block1_0_bn[0][0]          \n",
            "                                                                 conv2_block1_3_bn[0][0]          \n",
            "__________________________________________________________________________________________________\n",
            "conv2_block1_out (Activation)   (None, 38, 38, 256)  0           conv2_block1_add[0][0]           \n",
            "__________________________________________________________________________________________________\n",
            "conv2_block2_1_conv (Conv2D)    (None, 38, 38, 64)   16448       conv2_block1_out[0][0]           \n",
            "__________________________________________________________________________________________________\n",
            "conv2_block2_1_bn (BatchNormali (None, 38, 38, 64)   256         conv2_block2_1_conv[0][0]        \n",
            "__________________________________________________________________________________________________\n",
            "conv2_block2_1_relu (Activation (None, 38, 38, 64)   0           conv2_block2_1_bn[0][0]          \n",
            "__________________________________________________________________________________________________\n",
            "conv2_block2_2_conv (Conv2D)    (None, 38, 38, 64)   36928       conv2_block2_1_relu[0][0]        \n",
            "__________________________________________________________________________________________________\n",
            "conv2_block2_2_bn (BatchNormali (None, 38, 38, 64)   256         conv2_block2_2_conv[0][0]        \n",
            "__________________________________________________________________________________________________\n",
            "conv2_block2_2_relu (Activation (None, 38, 38, 64)   0           conv2_block2_2_bn[0][0]          \n",
            "__________________________________________________________________________________________________\n",
            "conv2_block2_3_conv (Conv2D)    (None, 38, 38, 256)  16640       conv2_block2_2_relu[0][0]        \n",
            "__________________________________________________________________________________________________\n",
            "conv2_block2_3_bn (BatchNormali (None, 38, 38, 256)  1024        conv2_block2_3_conv[0][0]        \n",
            "__________________________________________________________________________________________________\n",
            "conv2_block2_add (Add)          (None, 38, 38, 256)  0           conv2_block1_out[0][0]           \n",
            "                                                                 conv2_block2_3_bn[0][0]          \n",
            "__________________________________________________________________________________________________\n",
            "conv2_block2_out (Activation)   (None, 38, 38, 256)  0           conv2_block2_add[0][0]           \n",
            "__________________________________________________________________________________________________\n",
            "conv2_block3_1_conv (Conv2D)    (None, 38, 38, 64)   16448       conv2_block2_out[0][0]           \n",
            "__________________________________________________________________________________________________\n",
            "conv2_block3_1_bn (BatchNormali (None, 38, 38, 64)   256         conv2_block3_1_conv[0][0]        \n",
            "__________________________________________________________________________________________________\n",
            "conv2_block3_1_relu (Activation (None, 38, 38, 64)   0           conv2_block3_1_bn[0][0]          \n",
            "__________________________________________________________________________________________________\n",
            "conv2_block3_2_conv (Conv2D)    (None, 38, 38, 64)   36928       conv2_block3_1_relu[0][0]        \n",
            "__________________________________________________________________________________________________\n",
            "conv2_block3_2_bn (BatchNormali (None, 38, 38, 64)   256         conv2_block3_2_conv[0][0]        \n",
            "__________________________________________________________________________________________________\n",
            "conv2_block3_2_relu (Activation (None, 38, 38, 64)   0           conv2_block3_2_bn[0][0]          \n",
            "__________________________________________________________________________________________________\n",
            "conv2_block3_3_conv (Conv2D)    (None, 38, 38, 256)  16640       conv2_block3_2_relu[0][0]        \n",
            "__________________________________________________________________________________________________\n",
            "conv2_block3_3_bn (BatchNormali (None, 38, 38, 256)  1024        conv2_block3_3_conv[0][0]        \n",
            "__________________________________________________________________________________________________\n",
            "conv2_block3_add (Add)          (None, 38, 38, 256)  0           conv2_block2_out[0][0]           \n",
            "                                                                 conv2_block3_3_bn[0][0]          \n",
            "__________________________________________________________________________________________________\n",
            "conv2_block3_out (Activation)   (None, 38, 38, 256)  0           conv2_block3_add[0][0]           \n",
            "__________________________________________________________________________________________________\n",
            "conv3_block1_1_conv (Conv2D)    (None, 19, 19, 128)  32896       conv2_block3_out[0][0]           \n",
            "__________________________________________________________________________________________________\n",
            "conv3_block1_1_bn (BatchNormali (None, 19, 19, 128)  512         conv3_block1_1_conv[0][0]        \n",
            "__________________________________________________________________________________________________\n",
            "conv3_block1_1_relu (Activation (None, 19, 19, 128)  0           conv3_block1_1_bn[0][0]          \n",
            "__________________________________________________________________________________________________\n",
            "conv3_block1_2_conv (Conv2D)    (None, 19, 19, 128)  147584      conv3_block1_1_relu[0][0]        \n",
            "__________________________________________________________________________________________________\n",
            "conv3_block1_2_bn (BatchNormali (None, 19, 19, 128)  512         conv3_block1_2_conv[0][0]        \n",
            "__________________________________________________________________________________________________\n",
            "conv3_block1_2_relu (Activation (None, 19, 19, 128)  0           conv3_block1_2_bn[0][0]          \n",
            "__________________________________________________________________________________________________\n",
            "conv3_block1_0_conv (Conv2D)    (None, 19, 19, 512)  131584      conv2_block3_out[0][0]           \n",
            "__________________________________________________________________________________________________\n",
            "conv3_block1_3_conv (Conv2D)    (None, 19, 19, 512)  66048       conv3_block1_2_relu[0][0]        \n",
            "__________________________________________________________________________________________________\n",
            "conv3_block1_0_bn (BatchNormali (None, 19, 19, 512)  2048        conv3_block1_0_conv[0][0]        \n",
            "__________________________________________________________________________________________________\n",
            "conv3_block1_3_bn (BatchNormali (None, 19, 19, 512)  2048        conv3_block1_3_conv[0][0]        \n",
            "__________________________________________________________________________________________________\n",
            "conv3_block1_add (Add)          (None, 19, 19, 512)  0           conv3_block1_0_bn[0][0]          \n",
            "                                                                 conv3_block1_3_bn[0][0]          \n",
            "__________________________________________________________________________________________________\n",
            "conv3_block1_out (Activation)   (None, 19, 19, 512)  0           conv3_block1_add[0][0]           \n",
            "__________________________________________________________________________________________________\n",
            "conv3_block2_1_conv (Conv2D)    (None, 19, 19, 128)  65664       conv3_block1_out[0][0]           \n",
            "__________________________________________________________________________________________________\n",
            "conv3_block2_1_bn (BatchNormali (None, 19, 19, 128)  512         conv3_block2_1_conv[0][0]        \n",
            "__________________________________________________________________________________________________\n",
            "conv3_block2_1_relu (Activation (None, 19, 19, 128)  0           conv3_block2_1_bn[0][0]          \n",
            "__________________________________________________________________________________________________\n",
            "conv3_block2_2_conv (Conv2D)    (None, 19, 19, 128)  147584      conv3_block2_1_relu[0][0]        \n",
            "__________________________________________________________________________________________________\n",
            "conv3_block2_2_bn (BatchNormali (None, 19, 19, 128)  512         conv3_block2_2_conv[0][0]        \n",
            "__________________________________________________________________________________________________\n",
            "conv3_block2_2_relu (Activation (None, 19, 19, 128)  0           conv3_block2_2_bn[0][0]          \n",
            "__________________________________________________________________________________________________\n",
            "conv3_block2_3_conv (Conv2D)    (None, 19, 19, 512)  66048       conv3_block2_2_relu[0][0]        \n",
            "__________________________________________________________________________________________________\n",
            "conv3_block2_3_bn (BatchNormali (None, 19, 19, 512)  2048        conv3_block2_3_conv[0][0]        \n",
            "__________________________________________________________________________________________________\n",
            "conv3_block2_add (Add)          (None, 19, 19, 512)  0           conv3_block1_out[0][0]           \n",
            "                                                                 conv3_block2_3_bn[0][0]          \n",
            "__________________________________________________________________________________________________\n",
            "conv3_block2_out (Activation)   (None, 19, 19, 512)  0           conv3_block2_add[0][0]           \n",
            "__________________________________________________________________________________________________\n",
            "conv3_block3_1_conv (Conv2D)    (None, 19, 19, 128)  65664       conv3_block2_out[0][0]           \n",
            "__________________________________________________________________________________________________\n",
            "conv3_block3_1_bn (BatchNormali (None, 19, 19, 128)  512         conv3_block3_1_conv[0][0]        \n",
            "__________________________________________________________________________________________________\n",
            "conv3_block3_1_relu (Activation (None, 19, 19, 128)  0           conv3_block3_1_bn[0][0]          \n",
            "__________________________________________________________________________________________________\n",
            "conv3_block3_2_conv (Conv2D)    (None, 19, 19, 128)  147584      conv3_block3_1_relu[0][0]        \n",
            "__________________________________________________________________________________________________\n",
            "conv3_block3_2_bn (BatchNormali (None, 19, 19, 128)  512         conv3_block3_2_conv[0][0]        \n",
            "__________________________________________________________________________________________________\n",
            "conv3_block3_2_relu (Activation (None, 19, 19, 128)  0           conv3_block3_2_bn[0][0]          \n",
            "__________________________________________________________________________________________________\n",
            "conv3_block3_3_conv (Conv2D)    (None, 19, 19, 512)  66048       conv3_block3_2_relu[0][0]        \n",
            "__________________________________________________________________________________________________\n",
            "conv3_block3_3_bn (BatchNormali (None, 19, 19, 512)  2048        conv3_block3_3_conv[0][0]        \n",
            "__________________________________________________________________________________________________\n",
            "conv3_block3_add (Add)          (None, 19, 19, 512)  0           conv3_block2_out[0][0]           \n",
            "                                                                 conv3_block3_3_bn[0][0]          \n",
            "__________________________________________________________________________________________________\n",
            "conv3_block3_out (Activation)   (None, 19, 19, 512)  0           conv3_block3_add[0][0]           \n",
            "__________________________________________________________________________________________________\n",
            "conv3_block4_1_conv (Conv2D)    (None, 19, 19, 128)  65664       conv3_block3_out[0][0]           \n",
            "__________________________________________________________________________________________________\n",
            "conv3_block4_1_bn (BatchNormali (None, 19, 19, 128)  512         conv3_block4_1_conv[0][0]        \n",
            "__________________________________________________________________________________________________\n",
            "conv3_block4_1_relu (Activation (None, 19, 19, 128)  0           conv3_block4_1_bn[0][0]          \n",
            "__________________________________________________________________________________________________\n",
            "conv3_block4_2_conv (Conv2D)    (None, 19, 19, 128)  147584      conv3_block4_1_relu[0][0]        \n",
            "__________________________________________________________________________________________________\n",
            "conv3_block4_2_bn (BatchNormali (None, 19, 19, 128)  512         conv3_block4_2_conv[0][0]        \n",
            "__________________________________________________________________________________________________\n",
            "conv3_block4_2_relu (Activation (None, 19, 19, 128)  0           conv3_block4_2_bn[0][0]          \n",
            "__________________________________________________________________________________________________\n",
            "conv3_block4_3_conv (Conv2D)    (None, 19, 19, 512)  66048       conv3_block4_2_relu[0][0]        \n",
            "__________________________________________________________________________________________________\n",
            "conv3_block4_3_bn (BatchNormali (None, 19, 19, 512)  2048        conv3_block4_3_conv[0][0]        \n",
            "__________________________________________________________________________________________________\n",
            "conv3_block4_add (Add)          (None, 19, 19, 512)  0           conv3_block3_out[0][0]           \n",
            "                                                                 conv3_block4_3_bn[0][0]          \n",
            "__________________________________________________________________________________________________\n",
            "conv3_block4_out (Activation)   (None, 19, 19, 512)  0           conv3_block4_add[0][0]           \n",
            "__________________________________________________________________________________________________\n",
            "conv4_block1_1_conv (Conv2D)    (None, 10, 10, 256)  131328      conv3_block4_out[0][0]           \n",
            "__________________________________________________________________________________________________\n",
            "conv4_block1_1_bn (BatchNormali (None, 10, 10, 256)  1024        conv4_block1_1_conv[0][0]        \n",
            "__________________________________________________________________________________________________\n",
            "conv4_block1_1_relu (Activation (None, 10, 10, 256)  0           conv4_block1_1_bn[0][0]          \n",
            "__________________________________________________________________________________________________\n",
            "conv4_block1_2_conv (Conv2D)    (None, 10, 10, 256)  590080      conv4_block1_1_relu[0][0]        \n",
            "__________________________________________________________________________________________________\n",
            "conv4_block1_2_bn (BatchNormali (None, 10, 10, 256)  1024        conv4_block1_2_conv[0][0]        \n",
            "__________________________________________________________________________________________________\n",
            "conv4_block1_2_relu (Activation (None, 10, 10, 256)  0           conv4_block1_2_bn[0][0]          \n",
            "__________________________________________________________________________________________________\n",
            "conv4_block1_0_conv (Conv2D)    (None, 10, 10, 1024) 525312      conv3_block4_out[0][0]           \n",
            "__________________________________________________________________________________________________\n",
            "conv4_block1_3_conv (Conv2D)    (None, 10, 10, 1024) 263168      conv4_block1_2_relu[0][0]        \n",
            "__________________________________________________________________________________________________\n",
            "conv4_block1_0_bn (BatchNormali (None, 10, 10, 1024) 4096        conv4_block1_0_conv[0][0]        \n",
            "__________________________________________________________________________________________________\n",
            "conv4_block1_3_bn (BatchNormali (None, 10, 10, 1024) 4096        conv4_block1_3_conv[0][0]        \n",
            "__________________________________________________________________________________________________\n",
            "conv4_block1_add (Add)          (None, 10, 10, 1024) 0           conv4_block1_0_bn[0][0]          \n",
            "                                                                 conv4_block1_3_bn[0][0]          \n",
            "__________________________________________________________________________________________________\n",
            "conv4_block1_out (Activation)   (None, 10, 10, 1024) 0           conv4_block1_add[0][0]           \n",
            "__________________________________________________________________________________________________\n",
            "conv4_block2_1_conv (Conv2D)    (None, 10, 10, 256)  262400      conv4_block1_out[0][0]           \n",
            "__________________________________________________________________________________________________\n",
            "conv4_block2_1_bn (BatchNormali (None, 10, 10, 256)  1024        conv4_block2_1_conv[0][0]        \n",
            "__________________________________________________________________________________________________\n",
            "conv4_block2_1_relu (Activation (None, 10, 10, 256)  0           conv4_block2_1_bn[0][0]          \n",
            "__________________________________________________________________________________________________\n",
            "conv4_block2_2_conv (Conv2D)    (None, 10, 10, 256)  590080      conv4_block2_1_relu[0][0]        \n",
            "__________________________________________________________________________________________________\n",
            "conv4_block2_2_bn (BatchNormali (None, 10, 10, 256)  1024        conv4_block2_2_conv[0][0]        \n",
            "__________________________________________________________________________________________________\n",
            "conv4_block2_2_relu (Activation (None, 10, 10, 256)  0           conv4_block2_2_bn[0][0]          \n",
            "__________________________________________________________________________________________________\n",
            "conv4_block2_3_conv (Conv2D)    (None, 10, 10, 1024) 263168      conv4_block2_2_relu[0][0]        \n",
            "__________________________________________________________________________________________________\n",
            "conv4_block2_3_bn (BatchNormali (None, 10, 10, 1024) 4096        conv4_block2_3_conv[0][0]        \n",
            "__________________________________________________________________________________________________\n",
            "conv4_block2_add (Add)          (None, 10, 10, 1024) 0           conv4_block1_out[0][0]           \n",
            "                                                                 conv4_block2_3_bn[0][0]          \n",
            "__________________________________________________________________________________________________\n",
            "conv4_block2_out (Activation)   (None, 10, 10, 1024) 0           conv4_block2_add[0][0]           \n",
            "__________________________________________________________________________________________________\n",
            "conv4_block3_1_conv (Conv2D)    (None, 10, 10, 256)  262400      conv4_block2_out[0][0]           \n",
            "__________________________________________________________________________________________________\n",
            "conv4_block3_1_bn (BatchNormali (None, 10, 10, 256)  1024        conv4_block3_1_conv[0][0]        \n",
            "__________________________________________________________________________________________________\n",
            "conv4_block3_1_relu (Activation (None, 10, 10, 256)  0           conv4_block3_1_bn[0][0]          \n",
            "__________________________________________________________________________________________________\n",
            "conv4_block3_2_conv (Conv2D)    (None, 10, 10, 256)  590080      conv4_block3_1_relu[0][0]        \n",
            "__________________________________________________________________________________________________\n",
            "conv4_block3_2_bn (BatchNormali (None, 10, 10, 256)  1024        conv4_block3_2_conv[0][0]        \n",
            "__________________________________________________________________________________________________\n",
            "conv4_block3_2_relu (Activation (None, 10, 10, 256)  0           conv4_block3_2_bn[0][0]          \n",
            "__________________________________________________________________________________________________\n",
            "conv4_block3_3_conv (Conv2D)    (None, 10, 10, 1024) 263168      conv4_block3_2_relu[0][0]        \n",
            "__________________________________________________________________________________________________\n",
            "conv4_block3_3_bn (BatchNormali (None, 10, 10, 1024) 4096        conv4_block3_3_conv[0][0]        \n",
            "__________________________________________________________________________________________________\n",
            "conv4_block3_add (Add)          (None, 10, 10, 1024) 0           conv4_block2_out[0][0]           \n",
            "                                                                 conv4_block3_3_bn[0][0]          \n",
            "__________________________________________________________________________________________________\n",
            "conv4_block3_out (Activation)   (None, 10, 10, 1024) 0           conv4_block3_add[0][0]           \n",
            "__________________________________________________________________________________________________\n",
            "conv4_block4_1_conv (Conv2D)    (None, 10, 10, 256)  262400      conv4_block3_out[0][0]           \n",
            "__________________________________________________________________________________________________\n",
            "conv4_block4_1_bn (BatchNormali (None, 10, 10, 256)  1024        conv4_block4_1_conv[0][0]        \n",
            "__________________________________________________________________________________________________\n",
            "conv4_block4_1_relu (Activation (None, 10, 10, 256)  0           conv4_block4_1_bn[0][0]          \n",
            "__________________________________________________________________________________________________\n",
            "conv4_block4_2_conv (Conv2D)    (None, 10, 10, 256)  590080      conv4_block4_1_relu[0][0]        \n",
            "__________________________________________________________________________________________________\n",
            "conv4_block4_2_bn (BatchNormali (None, 10, 10, 256)  1024        conv4_block4_2_conv[0][0]        \n",
            "__________________________________________________________________________________________________\n",
            "conv4_block4_2_relu (Activation (None, 10, 10, 256)  0           conv4_block4_2_bn[0][0]          \n",
            "__________________________________________________________________________________________________\n",
            "conv4_block4_3_conv (Conv2D)    (None, 10, 10, 1024) 263168      conv4_block4_2_relu[0][0]        \n",
            "__________________________________________________________________________________________________\n",
            "conv4_block4_3_bn (BatchNormali (None, 10, 10, 1024) 4096        conv4_block4_3_conv[0][0]        \n",
            "__________________________________________________________________________________________________\n",
            "conv4_block4_add (Add)          (None, 10, 10, 1024) 0           conv4_block3_out[0][0]           \n",
            "                                                                 conv4_block4_3_bn[0][0]          \n",
            "__________________________________________________________________________________________________\n",
            "conv4_block4_out (Activation)   (None, 10, 10, 1024) 0           conv4_block4_add[0][0]           \n",
            "__________________________________________________________________________________________________\n",
            "conv4_block5_1_conv (Conv2D)    (None, 10, 10, 256)  262400      conv4_block4_out[0][0]           \n",
            "__________________________________________________________________________________________________\n",
            "conv4_block5_1_bn (BatchNormali (None, 10, 10, 256)  1024        conv4_block5_1_conv[0][0]        \n",
            "__________________________________________________________________________________________________\n",
            "conv4_block5_1_relu (Activation (None, 10, 10, 256)  0           conv4_block5_1_bn[0][0]          \n",
            "__________________________________________________________________________________________________\n",
            "conv4_block5_2_conv (Conv2D)    (None, 10, 10, 256)  590080      conv4_block5_1_relu[0][0]        \n",
            "__________________________________________________________________________________________________\n",
            "conv4_block5_2_bn (BatchNormali (None, 10, 10, 256)  1024        conv4_block5_2_conv[0][0]        \n",
            "__________________________________________________________________________________________________\n",
            "conv4_block5_2_relu (Activation (None, 10, 10, 256)  0           conv4_block5_2_bn[0][0]          \n",
            "__________________________________________________________________________________________________\n",
            "conv4_block5_3_conv (Conv2D)    (None, 10, 10, 1024) 263168      conv4_block5_2_relu[0][0]        \n",
            "__________________________________________________________________________________________________\n",
            "conv4_block5_3_bn (BatchNormali (None, 10, 10, 1024) 4096        conv4_block5_3_conv[0][0]        \n",
            "__________________________________________________________________________________________________\n",
            "conv4_block5_add (Add)          (None, 10, 10, 1024) 0           conv4_block4_out[0][0]           \n",
            "                                                                 conv4_block5_3_bn[0][0]          \n",
            "__________________________________________________________________________________________________\n",
            "conv4_block5_out (Activation)   (None, 10, 10, 1024) 0           conv4_block5_add[0][0]           \n",
            "__________________________________________________________________________________________________\n",
            "conv4_block6_1_conv (Conv2D)    (None, 10, 10, 256)  262400      conv4_block5_out[0][0]           \n",
            "__________________________________________________________________________________________________\n",
            "conv4_block6_1_bn (BatchNormali (None, 10, 10, 256)  1024        conv4_block6_1_conv[0][0]        \n",
            "__________________________________________________________________________________________________\n",
            "conv4_block6_1_relu (Activation (None, 10, 10, 256)  0           conv4_block6_1_bn[0][0]          \n",
            "__________________________________________________________________________________________________\n",
            "conv4_block6_2_conv (Conv2D)    (None, 10, 10, 256)  590080      conv4_block6_1_relu[0][0]        \n",
            "__________________________________________________________________________________________________\n",
            "conv4_block6_2_bn (BatchNormali (None, 10, 10, 256)  1024        conv4_block6_2_conv[0][0]        \n",
            "__________________________________________________________________________________________________\n",
            "conv4_block6_2_relu (Activation (None, 10, 10, 256)  0           conv4_block6_2_bn[0][0]          \n",
            "__________________________________________________________________________________________________\n",
            "conv4_block6_3_conv (Conv2D)    (None, 10, 10, 1024) 263168      conv4_block6_2_relu[0][0]        \n",
            "__________________________________________________________________________________________________\n",
            "conv4_block6_3_bn (BatchNormali (None, 10, 10, 1024) 4096        conv4_block6_3_conv[0][0]        \n",
            "__________________________________________________________________________________________________\n",
            "conv4_block6_add (Add)          (None, 10, 10, 1024) 0           conv4_block5_out[0][0]           \n",
            "                                                                 conv4_block6_3_bn[0][0]          \n",
            "__________________________________________________________________________________________________\n",
            "conv4_block6_out (Activation)   (None, 10, 10, 1024) 0           conv4_block6_add[0][0]           \n",
            "__________________________________________________________________________________________________\n",
            "conv5_block1_1_conv (Conv2D)    (None, 5, 5, 512)    524800      conv4_block6_out[0][0]           \n",
            "__________________________________________________________________________________________________\n",
            "conv5_block1_1_bn (BatchNormali (None, 5, 5, 512)    2048        conv5_block1_1_conv[0][0]        \n",
            "__________________________________________________________________________________________________\n",
            "conv5_block1_1_relu (Activation (None, 5, 5, 512)    0           conv5_block1_1_bn[0][0]          \n",
            "__________________________________________________________________________________________________\n",
            "conv5_block1_2_conv (Conv2D)    (None, 5, 5, 512)    2359808     conv5_block1_1_relu[0][0]        \n",
            "__________________________________________________________________________________________________\n",
            "conv5_block1_2_bn (BatchNormali (None, 5, 5, 512)    2048        conv5_block1_2_conv[0][0]        \n",
            "__________________________________________________________________________________________________\n",
            "conv5_block1_2_relu (Activation (None, 5, 5, 512)    0           conv5_block1_2_bn[0][0]          \n",
            "__________________________________________________________________________________________________\n",
            "conv5_block1_0_conv (Conv2D)    (None, 5, 5, 2048)   2099200     conv4_block6_out[0][0]           \n",
            "__________________________________________________________________________________________________\n",
            "conv5_block1_3_conv (Conv2D)    (None, 5, 5, 2048)   1050624     conv5_block1_2_relu[0][0]        \n",
            "__________________________________________________________________________________________________\n",
            "conv5_block1_0_bn (BatchNormali (None, 5, 5, 2048)   8192        conv5_block1_0_conv[0][0]        \n",
            "__________________________________________________________________________________________________\n",
            "conv5_block1_3_bn (BatchNormali (None, 5, 5, 2048)   8192        conv5_block1_3_conv[0][0]        \n",
            "__________________________________________________________________________________________________\n",
            "conv5_block1_add (Add)          (None, 5, 5, 2048)   0           conv5_block1_0_bn[0][0]          \n",
            "                                                                 conv5_block1_3_bn[0][0]          \n",
            "__________________________________________________________________________________________________\n",
            "conv5_block1_out (Activation)   (None, 5, 5, 2048)   0           conv5_block1_add[0][0]           \n",
            "__________________________________________________________________________________________________\n",
            "conv5_block2_1_conv (Conv2D)    (None, 5, 5, 512)    1049088     conv5_block1_out[0][0]           \n",
            "__________________________________________________________________________________________________\n",
            "conv5_block2_1_bn (BatchNormali (None, 5, 5, 512)    2048        conv5_block2_1_conv[0][0]        \n",
            "__________________________________________________________________________________________________\n",
            "conv5_block2_1_relu (Activation (None, 5, 5, 512)    0           conv5_block2_1_bn[0][0]          \n",
            "__________________________________________________________________________________________________\n",
            "conv5_block2_2_conv (Conv2D)    (None, 5, 5, 512)    2359808     conv5_block2_1_relu[0][0]        \n",
            "__________________________________________________________________________________________________\n",
            "conv5_block2_2_bn (BatchNormali (None, 5, 5, 512)    2048        conv5_block2_2_conv[0][0]        \n",
            "__________________________________________________________________________________________________\n",
            "conv5_block2_2_relu (Activation (None, 5, 5, 512)    0           conv5_block2_2_bn[0][0]          \n",
            "__________________________________________________________________________________________________\n",
            "conv5_block2_3_conv (Conv2D)    (None, 5, 5, 2048)   1050624     conv5_block2_2_relu[0][0]        \n",
            "__________________________________________________________________________________________________\n",
            "conv5_block2_3_bn (BatchNormali (None, 5, 5, 2048)   8192        conv5_block2_3_conv[0][0]        \n",
            "__________________________________________________________________________________________________\n",
            "conv5_block2_add (Add)          (None, 5, 5, 2048)   0           conv5_block1_out[0][0]           \n",
            "                                                                 conv5_block2_3_bn[0][0]          \n",
            "__________________________________________________________________________________________________\n",
            "conv5_block2_out (Activation)   (None, 5, 5, 2048)   0           conv5_block2_add[0][0]           \n",
            "__________________________________________________________________________________________________\n",
            "conv5_block3_1_conv (Conv2D)    (None, 5, 5, 512)    1049088     conv5_block2_out[0][0]           \n",
            "__________________________________________________________________________________________________\n",
            "conv5_block3_1_bn (BatchNormali (None, 5, 5, 512)    2048        conv5_block3_1_conv[0][0]        \n",
            "__________________________________________________________________________________________________\n",
            "conv5_block3_1_relu (Activation (None, 5, 5, 512)    0           conv5_block3_1_bn[0][0]          \n",
            "__________________________________________________________________________________________________\n",
            "conv5_block3_2_conv (Conv2D)    (None, 5, 5, 512)    2359808     conv5_block3_1_relu[0][0]        \n",
            "__________________________________________________________________________________________________\n",
            "conv5_block3_2_bn (BatchNormali (None, 5, 5, 512)    2048        conv5_block3_2_conv[0][0]        \n",
            "__________________________________________________________________________________________________\n",
            "conv5_block3_2_relu (Activation (None, 5, 5, 512)    0           conv5_block3_2_bn[0][0]          \n",
            "__________________________________________________________________________________________________\n",
            "conv5_block3_3_conv (Conv2D)    (None, 5, 5, 2048)   1050624     conv5_block3_2_relu[0][0]        \n",
            "__________________________________________________________________________________________________\n",
            "conv5_block3_3_bn (BatchNormali (None, 5, 5, 2048)   8192        conv5_block3_3_conv[0][0]        \n",
            "__________________________________________________________________________________________________\n",
            "conv5_block3_add (Add)          (None, 5, 5, 2048)   0           conv5_block2_out[0][0]           \n",
            "                                                                 conv5_block3_3_bn[0][0]          \n",
            "__________________________________________________________________________________________________\n",
            "conv5_block3_out (Activation)   (None, 5, 5, 2048)   0           conv5_block3_add[0][0]           \n",
            "__________________________________________________________________________________________________\n",
            "avg_pool (GlobalAveragePooling2 (None, 2048)         0           conv5_block3_out[0][0]           \n",
            "__________________________________________________________________________________________________\n",
            "dense_1 (Dense)                 (None, 2)            4098        avg_pool[0][0]                   \n",
            "==================================================================================================\n",
            "Total params: 23,591,810\n",
            "Trainable params: 23,538,690\n",
            "Non-trainable params: 53,120\n",
            "__________________________________________________________________________________________________\n"
          ],
          "name": "stdout"
        }
      ]
    },
    {
      "cell_type": "markdown",
      "metadata": {
        "id": "2fxyyVdZi2hC"
      },
      "source": [
        "## Training normally"
      ]
    },
    {
      "cell_type": "code",
      "metadata": {
        "id": "4SEM7FwScZ2J"
      },
      "source": [
        "nb_train_samples = 479 # number of files in training set\n",
        "batch_size = 16\n",
        "STEPS = nb_train_samples / batch_size"
      ],
      "execution_count": null,
      "outputs": []
    },
    {
      "cell_type": "markdown",
      "metadata": {
        "id": "0QXdq-dKEaoN"
      },
      "source": [
        "### Training Direct"
      ]
    },
    {
      "cell_type": "code",
      "metadata": {
        "colab": {
          "base_uri": "https://localhost:8080/"
        },
        "id": "KSeYOsEKER4D",
        "outputId": "df3eccb5-82ce-4efd-fdd1-4244d23eb25c"
      },
      "source": [
        "train_generator_x=data_generator_with_aug.flow_from_dataframe(\n",
        "dataframe=train_df,\n",
        "directory=\"/content/Skin_data/train/data/\",\n",
        "x_col=\"name\",\n",
        "y_col=\"meta.clinical.benign_malignant\",\n",
        "subset=\"training\",\n",
        "batch_size=16,\n",
        "seed=42,\n",
        "shuffle=True,\n",
        "class_mode=\"categorical\",\n",
        "target_size=(150,150))\n",
        "val_generator_x=data_generator_with_aug.flow_from_dataframe(\n",
        "dataframe=val_df,\n",
        "directory=\"/content/Skin_data/val/data/\",\n",
        "x_col=\"name\",\n",
        "y_col=\"meta.clinical.benign_malignant\",\n",
        "batch_size=16,\n",
        "seed=42,\n",
        "shuffle=True,\n",
        "class_mode=\"categorical\",\n",
        "target_size=(150,150))"
      ],
      "execution_count": null,
      "outputs": [
        {
          "output_type": "stream",
          "text": [
            "Found 479 validated image filenames belonging to 2 classes.\n",
            "Found 120 validated image filenames belonging to 2 classes.\n"
          ],
          "name": "stdout"
        }
      ]
    },
    {
      "cell_type": "code",
      "metadata": {
        "colab": {
          "base_uri": "https://localhost:8080/",
          "height": 1000
        },
        "id": "kBJAbgnnrXt6",
        "outputId": "0b16acfc-a4f5-4f14-c15e-8654d65e7609"
      },
      "source": [
        "\n",
        "history_x=model.fit(\n",
        "       train_generator_x, # specify where model gets training data\n",
        "       epochs = 60,\n",
        "       steps_per_epoch=STEPS,\n",
        "       validation_data=val_generator_x) # specify where model gets validation data\n",
        "\n",
        "# Evaluate the model\n",
        "scores = model.evaluate_generator(val_generator_x)\n",
        "print(\"\\n%s: %.2f%%\" % (model.metrics_names[1], scores[1]*100))\n",
        "fig, ax = plt.subplots(1, 2, figsize=(10, 3))\n",
        "ax = ax.ravel()\n",
        "\n",
        "for i, met in enumerate(['accuracy', 'loss']):\n",
        "    ax[i].plot(history_x.history[met])\n",
        "    ax[i].plot(history_x.history['val_' + met])\n",
        "    ax[i].set_title('Model {}'.format(met))\n",
        "    ax[i].set_xlabel('epochs')\n",
        "    ax[i].set_ylabel(met)\n",
        "    ax[i].legend(['train', 'val'])\n"
      ],
      "execution_count": null,
      "outputs": [
        {
          "output_type": "stream",
          "text": [
            "Epoch 1/60\n",
            "29/29 [==============================] - 20s 509ms/step - loss: 1.3900 - accuracy: 0.6716 - val_loss: 0.6540 - val_accuracy: 0.7667\n",
            "Epoch 2/60\n",
            "29/29 [==============================] - 14s 461ms/step - loss: 0.7054 - accuracy: 0.6922 - val_loss: 0.6075 - val_accuracy: 0.7667\n",
            "Epoch 3/60\n",
            "29/29 [==============================] - 14s 463ms/step - loss: 0.6081 - accuracy: 0.7123 - val_loss: 0.5478 - val_accuracy: 0.7667\n",
            "Epoch 4/60\n",
            "29/29 [==============================] - 14s 467ms/step - loss: 0.6237 - accuracy: 0.7351 - val_loss: 0.5807 - val_accuracy: 0.7667\n",
            "Epoch 5/60\n",
            "29/29 [==============================] - 14s 467ms/step - loss: 0.6043 - accuracy: 0.7254 - val_loss: 0.5781 - val_accuracy: 0.7833\n",
            "Epoch 6/60\n",
            "29/29 [==============================] - 14s 464ms/step - loss: 0.6115 - accuracy: 0.7217 - val_loss: 0.5800 - val_accuracy: 0.7667\n",
            "Epoch 7/60\n",
            "29/29 [==============================] - 14s 468ms/step - loss: 0.6306 - accuracy: 0.6864 - val_loss: 0.5435 - val_accuracy: 0.7667\n",
            "Epoch 8/60\n",
            "29/29 [==============================] - 14s 470ms/step - loss: 0.6129 - accuracy: 0.6935 - val_loss: 0.6659 - val_accuracy: 0.7667\n",
            "Epoch 9/60\n",
            "29/29 [==============================] - 14s 459ms/step - loss: 0.5275 - accuracy: 0.7580 - val_loss: 0.5555 - val_accuracy: 0.7667\n",
            "Epoch 10/60\n",
            "29/29 [==============================] - 14s 468ms/step - loss: 0.5796 - accuracy: 0.7164 - val_loss: 0.5471 - val_accuracy: 0.7667\n",
            "Epoch 11/60\n",
            "29/29 [==============================] - 14s 467ms/step - loss: 0.5214 - accuracy: 0.7713 - val_loss: 0.5681 - val_accuracy: 0.7500\n",
            "Epoch 12/60\n",
            "29/29 [==============================] - 14s 467ms/step - loss: 0.5450 - accuracy: 0.7384 - val_loss: 0.5685 - val_accuracy: 0.7417\n",
            "Epoch 13/60\n",
            "29/29 [==============================] - 14s 465ms/step - loss: 0.5931 - accuracy: 0.7219 - val_loss: 1.0961 - val_accuracy: 0.5667\n",
            "Epoch 14/60\n",
            "29/29 [==============================] - 14s 468ms/step - loss: 0.5948 - accuracy: 0.7275 - val_loss: 0.5857 - val_accuracy: 0.7667\n",
            "Epoch 15/60\n",
            "29/29 [==============================] - 14s 467ms/step - loss: 0.5523 - accuracy: 0.7364 - val_loss: 0.5318 - val_accuracy: 0.7667\n",
            "Epoch 16/60\n",
            "29/29 [==============================] - 14s 462ms/step - loss: 0.5828 - accuracy: 0.6964 - val_loss: 1.1678 - val_accuracy: 0.7583\n",
            "Epoch 17/60\n",
            "29/29 [==============================] - 14s 472ms/step - loss: 0.5457 - accuracy: 0.7406 - val_loss: 0.5238 - val_accuracy: 0.8000\n",
            "Epoch 18/60\n",
            "29/29 [==============================] - 14s 468ms/step - loss: 0.5752 - accuracy: 0.7092 - val_loss: 0.6834 - val_accuracy: 0.7250\n",
            "Epoch 19/60\n",
            "29/29 [==============================] - 14s 466ms/step - loss: 0.6712 - accuracy: 0.6781 - val_loss: 0.5179 - val_accuracy: 0.7667\n",
            "Epoch 20/60\n",
            "29/29 [==============================] - 14s 463ms/step - loss: 0.5499 - accuracy: 0.7153 - val_loss: 0.5193 - val_accuracy: 0.7417\n",
            "Epoch 21/60\n",
            "29/29 [==============================] - 14s 463ms/step - loss: 0.5532 - accuracy: 0.7531 - val_loss: 0.8716 - val_accuracy: 0.3250\n",
            "Epoch 22/60\n",
            "29/29 [==============================] - 14s 469ms/step - loss: 0.5735 - accuracy: 0.7244 - val_loss: 0.8676 - val_accuracy: 0.3417\n",
            "Epoch 23/60\n",
            "29/29 [==============================] - 14s 466ms/step - loss: 0.5338 - accuracy: 0.7547 - val_loss: 1.0616 - val_accuracy: 0.2500\n",
            "Epoch 24/60\n",
            "29/29 [==============================] - 14s 469ms/step - loss: 0.5579 - accuracy: 0.7085 - val_loss: 0.9810 - val_accuracy: 0.2583\n",
            "Epoch 25/60\n",
            "29/29 [==============================] - 14s 467ms/step - loss: 0.5621 - accuracy: 0.7248 - val_loss: 0.7463 - val_accuracy: 0.3833\n",
            "Epoch 26/60\n",
            "29/29 [==============================] - 14s 467ms/step - loss: 0.5452 - accuracy: 0.7299 - val_loss: 0.6629 - val_accuracy: 0.5750\n",
            "Epoch 27/60\n",
            "29/29 [==============================] - 14s 469ms/step - loss: 0.5566 - accuracy: 0.7505 - val_loss: 0.5913 - val_accuracy: 0.7583\n",
            "Epoch 28/60\n",
            "29/29 [==============================] - 14s 460ms/step - loss: 0.5621 - accuracy: 0.7296 - val_loss: 0.6386 - val_accuracy: 0.6250\n",
            "Epoch 29/60\n",
            "29/29 [==============================] - 14s 465ms/step - loss: 0.5885 - accuracy: 0.7132 - val_loss: 0.5304 - val_accuracy: 0.7250\n",
            "Epoch 30/60\n",
            "29/29 [==============================] - 14s 465ms/step - loss: 0.5510 - accuracy: 0.7350 - val_loss: 0.5529 - val_accuracy: 0.8000\n",
            "Epoch 31/60\n",
            "29/29 [==============================] - 14s 465ms/step - loss: 0.5915 - accuracy: 0.7125 - val_loss: 0.5001 - val_accuracy: 0.7750\n",
            "Epoch 32/60\n",
            "29/29 [==============================] - 14s 463ms/step - loss: 0.5919 - accuracy: 0.6951 - val_loss: 0.5512 - val_accuracy: 0.7750\n",
            "Epoch 33/60\n",
            "29/29 [==============================] - 14s 470ms/step - loss: 0.5525 - accuracy: 0.7119 - val_loss: 0.5259 - val_accuracy: 0.7833\n",
            "Epoch 34/60\n",
            "29/29 [==============================] - 15s 506ms/step - loss: 0.5930 - accuracy: 0.7093 - val_loss: 0.7698 - val_accuracy: 0.4750\n",
            "Epoch 35/60\n",
            "29/29 [==============================] - 14s 463ms/step - loss: 0.5674 - accuracy: 0.7247 - val_loss: 0.6908 - val_accuracy: 0.7750\n",
            "Epoch 36/60\n",
            "29/29 [==============================] - 14s 465ms/step - loss: 0.5761 - accuracy: 0.7217 - val_loss: 0.5028 - val_accuracy: 0.8000\n",
            "Epoch 37/60\n",
            "29/29 [==============================] - 14s 464ms/step - loss: 0.5646 - accuracy: 0.7284 - val_loss: 0.5092 - val_accuracy: 0.7750\n",
            "Epoch 38/60\n",
            "29/29 [==============================] - 14s 469ms/step - loss: 0.5379 - accuracy: 0.7378 - val_loss: 0.8350 - val_accuracy: 0.3250\n",
            "Epoch 39/60\n",
            "29/29 [==============================] - 14s 470ms/step - loss: 0.5820 - accuracy: 0.6989 - val_loss: 0.6792 - val_accuracy: 0.4833\n",
            "Epoch 40/60\n",
            "29/29 [==============================] - 14s 468ms/step - loss: 0.5479 - accuracy: 0.7540 - val_loss: 1.4977 - val_accuracy: 0.7583\n",
            "Epoch 41/60\n",
            "29/29 [==============================] - 14s 470ms/step - loss: 0.5955 - accuracy: 0.7154 - val_loss: 14.6391 - val_accuracy: 0.5167\n",
            "Epoch 42/60\n",
            "29/29 [==============================] - 14s 471ms/step - loss: 0.6100 - accuracy: 0.6832 - val_loss: 8.4703 - val_accuracy: 0.7583\n",
            "Epoch 43/60\n",
            "29/29 [==============================] - 14s 471ms/step - loss: 0.6059 - accuracy: 0.7208 - val_loss: 0.9671 - val_accuracy: 0.2667\n",
            "Epoch 44/60\n",
            "29/29 [==============================] - 14s 469ms/step - loss: 0.5483 - accuracy: 0.7436 - val_loss: 0.5637 - val_accuracy: 0.7750\n",
            "Epoch 45/60\n",
            "29/29 [==============================] - 14s 467ms/step - loss: 0.5272 - accuracy: 0.7641 - val_loss: 0.7259 - val_accuracy: 0.4333\n",
            "Epoch 46/60\n",
            "29/29 [==============================] - 14s 467ms/step - loss: 0.5764 - accuracy: 0.6781 - val_loss: 0.6856 - val_accuracy: 0.6167\n",
            "Epoch 47/60\n",
            "29/29 [==============================] - 14s 468ms/step - loss: 0.5876 - accuracy: 0.7263 - val_loss: 0.8326 - val_accuracy: 0.4000\n",
            "Epoch 48/60\n",
            "29/29 [==============================] - 14s 467ms/step - loss: 0.5835 - accuracy: 0.7189 - val_loss: 0.8188 - val_accuracy: 0.3167\n",
            "Epoch 49/60\n",
            "29/29 [==============================] - 14s 464ms/step - loss: 0.5634 - accuracy: 0.7281 - val_loss: 0.5364 - val_accuracy: 0.7417\n",
            "Epoch 50/60\n",
            "29/29 [==============================] - 14s 469ms/step - loss: 0.5558 - accuracy: 0.7396 - val_loss: 0.5880 - val_accuracy: 0.6750\n",
            "Epoch 51/60\n",
            "29/29 [==============================] - 14s 466ms/step - loss: 0.5664 - accuracy: 0.7217 - val_loss: 0.5293 - val_accuracy: 0.7833\n",
            "Epoch 52/60\n",
            "29/29 [==============================] - 14s 471ms/step - loss: 0.5475 - accuracy: 0.7421 - val_loss: 0.9648 - val_accuracy: 0.3000\n",
            "Epoch 53/60\n",
            "29/29 [==============================] - 14s 466ms/step - loss: 0.5356 - accuracy: 0.7487 - val_loss: 0.5758 - val_accuracy: 0.7250\n",
            "Epoch 54/60\n",
            "29/29 [==============================] - 14s 460ms/step - loss: 0.5714 - accuracy: 0.6984 - val_loss: 0.5403 - val_accuracy: 0.7833\n",
            "Epoch 55/60\n",
            "29/29 [==============================] - 14s 467ms/step - loss: 0.5285 - accuracy: 0.7559 - val_loss: 1.8867 - val_accuracy: 0.7417\n",
            "Epoch 56/60\n",
            "29/29 [==============================] - 14s 463ms/step - loss: 0.5717 - accuracy: 0.6900 - val_loss: 0.6353 - val_accuracy: 0.7833\n",
            "Epoch 57/60\n",
            "29/29 [==============================] - 14s 471ms/step - loss: 0.5947 - accuracy: 0.7080 - val_loss: 0.6160 - val_accuracy: 0.6667\n",
            "Epoch 58/60\n",
            "29/29 [==============================] - 14s 466ms/step - loss: 0.4975 - accuracy: 0.7618 - val_loss: 0.6948 - val_accuracy: 0.4000\n",
            "Epoch 59/60\n",
            "29/29 [==============================] - 14s 472ms/step - loss: 0.5647 - accuracy: 0.7309 - val_loss: 0.5495 - val_accuracy: 0.7833\n",
            "Epoch 60/60\n",
            "29/29 [==============================] - 14s 463ms/step - loss: 0.5722 - accuracy: 0.7206 - val_loss: 0.5117 - val_accuracy: 0.7917\n"
          ],
          "name": "stdout"
        },
        {
          "output_type": "stream",
          "text": [
            "/usr/local/lib/python3.7/dist-packages/tensorflow/python/keras/engine/training.py:1877: UserWarning: `Model.evaluate_generator` is deprecated and will be removed in a future version. Please use `Model.evaluate`, which supports generators.\n",
            "  warnings.warn('`Model.evaluate_generator` is deprecated and '\n"
          ],
          "name": "stderr"
        },
        {
          "output_type": "stream",
          "text": [
            "\n",
            "accuracy: 78.33%\n"
          ],
          "name": "stdout"
        },
        {
          "output_type": "display_data",
          "data": {
            "image/png": "[encoded data removed]",
            "text/plain": [
              "<Figure size 720x216 with 2 Axes>"
            ]
          },
          "metadata": {
            "tags": [],
            "needs_background": "light"
          }
        }
      ]
    },
    {
      "cell_type": "markdown",
      "metadata": {
        "id": "QuWxD2vdEi6i"
      },
      "source": [
        "## Zeroth Iteration"
      ]
    },
    {
      "cell_type": "code",
      "metadata": {
        "colab": {
          "base_uri": "https://localhost:8080/"
        },
        "id": "wSQg2372kUC6",
        "outputId": "cd2cebd8-0a7c-4477-89ad-19026aef3dce"
      },
      "source": [
        "history=model.fit(\n",
        "       train_generator, # specify where model gets training data\n",
        "       epochs = 20,\n",
        "       steps_per_epoch=STEPS,\n",
        "       validation_data=val_generator) # specify where model gets validation data\n",
        "\n"
      ],
      "execution_count": null,
      "outputs": [
        {
          "output_type": "stream",
          "text": [
            "Epoch 1/20\n",
            "29/29 [==============================] - 18s 571ms/step - loss: 1.1790 - accuracy: 0.6493 - val_loss: 1.0120 - val_accuracy: 0.2333\n",
            "Epoch 2/20\n",
            "29/29 [==============================] - 14s 484ms/step - loss: 0.6562 - accuracy: 0.6973 - val_loss: 0.5713 - val_accuracy: 0.7667\n",
            "Epoch 3/20\n",
            "29/29 [==============================] - 15s 492ms/step - loss: 0.6348 - accuracy: 0.7056 - val_loss: 0.5661 - val_accuracy: 0.7667\n",
            "Epoch 4/20\n",
            "29/29 [==============================] - 15s 489ms/step - loss: 0.6311 - accuracy: 0.7077 - val_loss: 0.5926 - val_accuracy: 0.7667\n",
            "Epoch 5/20\n",
            "29/29 [==============================] - 14s 484ms/step - loss: 0.6626 - accuracy: 0.6764 - val_loss: 0.7960 - val_accuracy: 0.3250\n",
            "Epoch 6/20\n",
            "29/29 [==============================] - 15s 486ms/step - loss: 0.6771 - accuracy: 0.6868 - val_loss: 0.6604 - val_accuracy: 0.7667\n",
            "Epoch 7/20\n",
            "29/29 [==============================] - 14s 480ms/step - loss: 0.5786 - accuracy: 0.7161 - val_loss: 0.7757 - val_accuracy: 0.7667\n",
            "Epoch 8/20\n",
            "29/29 [==============================] - 14s 481ms/step - loss: 0.6263 - accuracy: 0.7286 - val_loss: 0.6804 - val_accuracy: 0.7750\n",
            "Epoch 9/20\n",
            "29/29 [==============================] - 14s 483ms/step - loss: 0.5961 - accuracy: 0.7265 - val_loss: 0.7684 - val_accuracy: 0.7833\n",
            "Epoch 10/20\n",
            "29/29 [==============================] - 15s 484ms/step - loss: 0.6249 - accuracy: 0.6994 - val_loss: 0.5472 - val_accuracy: 0.7833\n",
            "Epoch 11/20\n",
            "29/29 [==============================] - 14s 482ms/step - loss: 0.5719 - accuracy: 0.7495 - val_loss: 0.6978 - val_accuracy: 0.6000\n",
            "Epoch 12/20\n",
            "29/29 [==============================] - 15s 489ms/step - loss: 0.6859 - accuracy: 0.7056 - val_loss: 0.6491 - val_accuracy: 0.7333\n",
            "Epoch 13/20\n",
            "29/29 [==============================] - 15s 484ms/step - loss: 0.5489 - accuracy: 0.7161 - val_loss: 0.8983 - val_accuracy: 0.5167\n",
            "Epoch 14/20\n",
            "29/29 [==============================] - 14s 484ms/step - loss: 0.5655 - accuracy: 0.7516 - val_loss: 0.7993 - val_accuracy: 0.7000\n",
            "Epoch 15/20\n",
            "29/29 [==============================] - 15s 493ms/step - loss: 0.5406 - accuracy: 0.7474 - val_loss: 0.6662 - val_accuracy: 0.6500\n",
            "Epoch 16/20\n",
            "29/29 [==============================] - 15s 483ms/step - loss: 0.5682 - accuracy: 0.7077 - val_loss: 0.8540 - val_accuracy: 0.5667\n",
            "Epoch 17/20\n",
            "29/29 [==============================] - 15s 488ms/step - loss: 0.5795 - accuracy: 0.7119 - val_loss: 0.5927 - val_accuracy: 0.7750\n",
            "Epoch 18/20\n",
            "29/29 [==============================] - 15s 487ms/step - loss: 0.5866 - accuracy: 0.7390 - val_loss: 0.9466 - val_accuracy: 0.4833\n",
            "Epoch 19/20\n",
            "29/29 [==============================] - 15s 492ms/step - loss: 0.5859 - accuracy: 0.7265 - val_loss: 0.7880 - val_accuracy: 0.5833\n",
            "Epoch 20/20\n",
            "29/29 [==============================] - 15s 487ms/step - loss: 0.5491 - accuracy: 0.7328 - val_loss: 0.9843 - val_accuracy: 0.5917\n"
          ],
          "name": "stdout"
        }
      ]
    },
    {
      "cell_type": "code",
      "metadata": {
        "colab": {
          "base_uri": "https://localhost:8080/"
        },
        "id": "9aOFDJOsDVUu",
        "outputId": "a5e3501f-6e99-4b16-925a-d6d098dc6a37"
      },
      "source": [
        "# Evaluate the model\n",
        "scores = model.evaluate_generator(val_generator)\n",
        "print(\"\\n%s: %.2f%%\" % (model.metrics_names[1], scores[1]*100))"
      ],
      "execution_count": null,
      "outputs": [
        {
          "output_type": "stream",
          "text": [
            "/usr/local/lib/python3.7/dist-packages/tensorflow/python/keras/engine/training.py:1877: UserWarning: `Model.evaluate_generator` is deprecated and will be removed in a future version. Please use `Model.evaluate`, which supports generators.\n",
            "  warnings.warn('`Model.evaluate_generator` is deprecated and '\n"
          ],
          "name": "stderr"
        },
        {
          "output_type": "stream",
          "text": [
            "\n",
            "accuracy: 55.00%\n"
          ],
          "name": "stdout"
        }
      ]
    },
    {
      "cell_type": "code",
      "metadata": {
        "colab": {
          "base_uri": "https://localhost:8080/",
          "height": 241
        },
        "id": "5PTKrkTAVVyT",
        "outputId": "c600d402-8328-4e14-d635-724372d6a65a"
      },
      "source": [
        "fig, ax = plt.subplots(1, 2, figsize=(10, 3))\n",
        "ax = ax.ravel()\n",
        "\n",
        "for i, met in enumerate(['accuracy', 'loss']):\n",
        "    ax[i].plot(history.history[met])\n",
        "    ax[i].plot(history.history['val_' + met])\n",
        "    ax[i].set_title('Model {}'.format(met))\n",
        "    ax[i].set_xlabel('epochs')\n",
        "    ax[i].set_ylabel(met)\n",
        "    ax[i].legend(['train', 'val'])"
      ],
      "execution_count": null,
      "outputs": [
        {
          "output_type": "display_data",
          "data": {
            "image/png": "[encoded data removed]",
            "text/plain": [
              "<Figure size 720x216 with 2 Axes>"
            ]
          },
          "metadata": {
            "tags": [],
            "needs_background": "light"
          }
        }
      ]
    },
    {
      "cell_type": "code",
      "metadata": {
        "id": "l7p_-rhSArOK"
      },
      "source": [
        "#model.save('/content/drive/MyDrive/MetaLearningProject/KerasNumpyFiles/Resnet_brain_1.h5')\n",
        "#model.save('/content/drive/MyDrive/CurriculumLearning/CurriculumLearning_part1.h5')"
      ],
      "execution_count": null,
      "outputs": []
    },
    {
      "cell_type": "code",
      "metadata": {
        "id": "SlpZSIZrUxe1"
      },
      "source": [
        "import PIL"
      ],
      "execution_count": null,
      "outputs": []
    },
    {
      "cell_type": "markdown",
      "metadata": {
        "id": "b3jUY2DO8_6W"
      },
      "source": [
        "## Heatmap trials"
      ]
    },
    {
      "cell_type": "code",
      "metadata": {
        "id": "MjsJN1D2kUF_"
      },
      "source": [
        "\n",
        "def get_img_array(img_path, size):\n",
        "    # `img` is a PIL image of size 299x299\n",
        "    img = keras.preprocessing.image.load_img(img_path, target_size=size)\n",
        "    # `array` is a float32 Numpy array of shape (299, 299, 3)\n",
        "    array = keras.preprocessing.image.img_to_array(img)\n",
        "    array=array.astype('float')/255\n",
        "    # We add a dimension to transform our array into a \"batch\"\n",
        "    # of size (1, 299, 299, 3)\n",
        "    array = np.expand_dims(array, axis=0)\n",
        "    return array\n",
        "\n",
        "\n",
        "def make_gradcam_heatmap(\n",
        "    img_array, model, last_conv_layer_name, classifier_layer_names\n",
        "):\n",
        "    # First, we create a model that maps the input image to the activations\n",
        "    # of the last conv layer\n",
        "    last_conv_layer = model.get_layer(last_conv_layer_name)\n",
        "    last_conv_layer_model = keras.Model(model.inputs, last_conv_layer.output)\n",
        "\n",
        "    # Second, we create a model that maps the activations of the last conv\n",
        "    # layer to the final class predictions\n",
        "    classifier_input = keras.Input(shape=last_conv_layer.output.shape[1:])\n",
        "    x = classifier_input\n",
        "    for layer_name in classifier_layer_names:\n",
        "        x = model.get_layer(layer_name)(x)\n",
        "    classifier_model = keras.Model(classifier_input, x)\n",
        "\n",
        "    # Then, we compute the gradient of the top predicted class for our input image\n",
        "    # with respect to the activations of the last conv layer\n",
        "    with tf.GradientTape() as tape:\n",
        "        # Compute activations of the last conv layer and make the tape watch it\n",
        "        last_conv_layer_output = last_conv_layer_model(img_array)\n",
        "        tape.watch(last_conv_layer_output)\n",
        "        # Compute class predictions\n",
        "        preds = classifier_model(last_conv_layer_output)\n",
        "        top_pred_index = tf.argmax(preds[0])\n",
        "        top_class_channel = preds[:, top_pred_index]\n",
        "\n",
        "    # This is the gradient of the top predicted class with regard to\n",
        "    # the output feature map of the last conv layer\n",
        "    grads = tape.gradient(top_class_channel, last_conv_layer_output)\n",
        "\n",
        "    # This is a vector where each entry is the mean intensity of the gradient\n",
        "    # over a specific feature map channel\n",
        "    pooled_grads = tf.reduce_mean(grads, axis=(0, 1, 2))\n",
        "\n",
        "    # We multiply each channel in the feature map array\n",
        "    # by \"how important this channel is\" with regard to the top predicted class\n",
        "    last_conv_layer_output = last_conv_layer_output.numpy()[0]\n",
        "    pooled_grads = pooled_grads.numpy()\n",
        "    for i in range(pooled_grads.shape[-1]):\n",
        "        last_conv_layer_output[:, :, i] *= pooled_grads[i]\n",
        "\n",
        "    # The channel-wise mean of the resulting feature map\n",
        "    # is our heatmap of class activation\n",
        "    heatmap = np.mean(last_conv_layer_output, axis=-1)\n",
        "\n",
        "    # For visualization purpose, we will also normalize the heatmap between 0 & 1\n",
        "    heatmap = np.maximum(heatmap, 0) / np.max(heatmap)\n",
        "    #heatmap = (heatmap-np.min(heatmap))/(np.max(heatmap)-np.min(heatmap))\n",
        "    return heatmap\n"
      ],
      "execution_count": null,
      "outputs": []
    },
    {
      "cell_type": "code",
      "metadata": {
        "id": "UH9xxWL7_tTt"
      },
      "source": [
        "last_conv_layer_name = \"conv5_block3_3_conv\"\n",
        "#classifier_layer_names = ['dense','dense_1','dense_2','dense_3','global_average_pooling2d','dropout','dense_4']\n",
        "#'conv5_block3_3_bn','conv5_block3_add','conv5_block3_out',\n",
        "classifier_layer_names = ['avg_pool','dense']"
      ],
      "execution_count": null,
      "outputs": []
    },
    {
      "cell_type": "code",
      "metadata": {
        "id": "SGXzCEcWADiD"
      },
      "source": [
        "train_directory=\"/content/Skin_data/train/data/\"\n",
        "val_directory=\"/content/Skin_data/val/data\""
      ],
      "execution_count": null,
      "outputs": []
    },
    {
      "cell_type": "code",
      "metadata": {
        "id": "V_AJm07pG_Th"
      },
      "source": [
        "import cv2\n",
        "import numpy as np\n",
        "import os\n",
        "import statistics\n",
        "import math\n",
        "from statistics import variance"
      ],
      "execution_count": null,
      "outputs": []
    },
    {
      "cell_type": "code",
      "metadata": {
        "id": "hbj1o_wD8dCA"
      },
      "source": [
        "red_var_train=[]\n",
        "red_var_val=[]"
      ],
      "execution_count": null,
      "outputs": []
    },
    {
      "cell_type": "code",
      "metadata": {
        "colab": {
          "base_uri": "https://localhost:8080/",
          "height": 136
        },
        "id": "li6r9mWXHD9Z",
        "outputId": "cb63186d-ed58-4e26-db65-3b9cf1eccac7"
      },
      "source": [
        "'''\n",
        "def red_variance(imag):\n",
        "  img = cv2.imread(imag, cv2.IMREAD_COLOR)\n",
        "  img=img.astype('float')\n",
        "  height, width, channels = img.shape\n",
        "  # Cut out the target range\n",
        "  boxFromX = 0 # start range X coordinate\n",
        "  boxFromY = 0 # target range start position Y coordinate\n",
        "  boxToX = width # target range end position X coordinate\n",
        "  boxToY = height # target range end position Y coordinate\n",
        "  # set in the order of y: y + h, x: x + w\n",
        "  imgBox = img [boxFromY: boxToY, boxFromX: boxToX]\n",
        "  # Output RGB mean and variance\n",
        "  # One-dimensionalize with flatten and get average with mean\n",
        "  m_b = imgBox.T [0] .flatten (). mean ()\n",
        "  m_g = imgBox.T [1] .flatten (). mean ()\n",
        "  m_r = imgBox.T [2] .flatten (). mean ()\n",
        "  # Get one-dimensional with flatten and get variance with variance\n",
        "  v_b = imgBox.T [0] .flatten ()\n",
        "  v_g = imgBox.T [1] .flatten ()\n",
        "  v_r = imgBox.T [2] .flatten ()\n",
        "  v_b = variance (v_b)\n",
        "  v_g = variance (v_g)\n",
        "  v_r = variance (v_r)\n",
        "  return (v_r)\n",
        "'''"
      ],
      "execution_count": null,
      "outputs": [
        {
          "output_type": "execute_result",
          "data": {
            "application/vnd.google.colaboratory.intrinsic+json": {
              "type": "string"
            },
            "text/plain": [
              "\"\\ndef red_variance(imag):\\n  img = cv2.imread(imag, cv2.IMREAD_COLOR)\\n  img=img.astype('float')\\n  height, width, channels = img.shape\\n  # Cut out the target range\\n  boxFromX = 0 # start range X coordinate\\n  boxFromY = 0 # target range start position Y coordinate\\n  boxToX = width # target range end position X coordinate\\n  boxToY = height # target range end position Y coordinate\\n  # set in the order of y: y + h, x: x + w\\n  imgBox = img [boxFromY: boxToY, boxFromX: boxToX]\\n  # Output RGB mean and variance\\n  # One-dimensionalize with flatten and get average with mean\\n  m_b = imgBox.T [0] .flatten (). mean ()\\n  m_g = imgBox.T [1] .flatten (). mean ()\\n  m_r = imgBox.T [2] .flatten (). mean ()\\n  # Get one-dimensional with flatten and get variance with variance\\n  v_b = imgBox.T [0] .flatten ()\\n  v_g = imgBox.T [1] .flatten ()\\n  v_r = imgBox.T [2] .flatten ()\\n  v_b = variance (v_b)\\n  v_g = variance (v_g)\\n  v_r = variance (v_r)\\n  return (v_r)\\n\""
            ]
          },
          "metadata": {
            "tags": []
          },
          "execution_count": 41
        }
      ]
    },
    {
      "cell_type": "code",
      "metadata": {
        "id": "1sMZZ_9DGGD2"
      },
      "source": [
        "from IPython.display import Image\n",
        "import matplotlib.pyplot as plt\n",
        "import matplotlib.cm as cm"
      ],
      "execution_count": null,
      "outputs": []
    },
    {
      "cell_type": "code",
      "metadata": {
        "id": "GCyKHs9lADnW"
      },
      "source": [
        "#train_images_list=[i for i in glob.glob(train_directory+'*.jpg')]"
      ],
      "execution_count": null,
      "outputs": []
    },
    {
      "cell_type": "code",
      "metadata": {
        "id": "lk8-h63UMcnE"
      },
      "source": [
        "#i='/content/Brain_data/train/Brain Tumor/Image10.jpg'\n",
        "#img_array_positive = (get_img_array(i, size=(150,150)))\n",
        "#heatmap = make_gradcam_heatmap(img_array_positive, model, last_conv_layer_name, classifier_layer_names)\n",
        "#plt.matshow(heatmap)\n",
        "#plt.show()"
      ],
      "execution_count": null,
      "outputs": []
    },
    {
      "cell_type": "code",
      "metadata": {
        "colab": {
          "base_uri": "https://localhost:8080/",
          "height": 137
        },
        "id": "CH_p6iGkTqeI",
        "outputId": "4dfcb898-b739-44bc-eba4-5b306db42e05"
      },
      "source": [
        "'''\n",
        "i='/content/Brain_data/train/Brain Tumor/Image10.jpg'\n",
        "img_array_positive = (get_img_array(i, size=(150,150)))\n",
        "heatmap = make_gradcam_heatmap(img_array_positive, model, last_conv_layer_name, classifier_layer_names)\n",
        "plt.matshow(heatmap)\n",
        "plt.show()\n",
        "img = keras.preprocessing.image.load_img(i)\n",
        "img = keras.preprocessing.image.img_to_array(img)\n",
        "\n",
        "# We rescale heatmap to a range 0-255\n",
        "heatmap = np.uint8(255 * heatmap)\n",
        "\n",
        "# We use jet colormap to colorize heatmap\n",
        "jet = cm.get_cmap(\"jet\")\n",
        "\n",
        "# We use RGB values of the colormap\n",
        "jet_colors = jet(np.arange(256))[:, :3]\n",
        "jet_heatmap = jet_colors[heatmap]\n",
        "\n",
        "# We create an image with RGB colorized heatmap\n",
        "jet_heatmap = keras.preprocessing.image.array_to_img(jet_heatmap)\n",
        "jet_heatmap = jet_heatmap.resize((img.shape[1], img.shape[0]))\n",
        "jet_heatmap = keras.preprocessing.image.img_to_array(jet_heatmap)\n",
        "\n",
        "# Superimpose the heatmap on original image\n",
        "superimposed_img = jet_heatmap * 0.4 + img\n",
        "superimposed_img = keras.preprocessing.image.array_to_img(superimposed_img)\n",
        "'''"
      ],
      "execution_count": null,
      "outputs": [
        {
          "output_type": "execute_result",
          "data": {
            "application/vnd.google.colaboratory.intrinsic+json": {
              "type": "string"
            },
            "text/plain": [
              "'\\ni=\\'/content/Brain_data/train/Brain Tumor/Image10.jpg\\'\\nimg_array_positive = (get_img_array(i, size=(150,150)))\\nheatmap = make_gradcam_heatmap(img_array_positive, model, last_conv_layer_name, classifier_layer_names)\\nplt.matshow(heatmap)\\nplt.show()\\nimg = keras.preprocessing.image.load_img(i)\\nimg = keras.preprocessing.image.img_to_array(img)\\n\\n# We rescale heatmap to a range 0-255\\nheatmap = np.uint8(255 * heatmap)\\n\\n# We use jet colormap to colorize heatmap\\njet = cm.get_cmap(\"jet\")\\n\\n# We use RGB values of the colormap\\njet_colors = jet(np.arange(256))[:, :3]\\njet_heatmap = jet_colors[heatmap]\\n\\n# We create an image with RGB colorized heatmap\\njet_heatmap = keras.preprocessing.image.array_to_img(jet_heatmap)\\njet_heatmap = jet_heatmap.resize((img.shape[1], img.shape[0]))\\njet_heatmap = keras.preprocessing.image.img_to_array(jet_heatmap)\\n\\n# Superimpose the heatmap on original image\\nsuperimposed_img = jet_heatmap * 0.4 + img\\nsuperimposed_img = keras.preprocessing.image.array_to_img(superimposed_img)\\n'"
            ]
          },
          "metadata": {
            "tags": []
          },
          "execution_count": 45
        }
      ]
    },
    {
      "cell_type": "code",
      "metadata": {
        "id": "hkyFzuQ5UM_6"
      },
      "source": [
        "#plt.matshow(superimposed_img)\n",
        "#plt.show()"
      ],
      "execution_count": null,
      "outputs": []
    },
    {
      "cell_type": "code",
      "metadata": {
        "id": "AhnQikLOTwXH"
      },
      "source": [
        "#type(superimposed_img)"
      ],
      "execution_count": null,
      "outputs": []
    },
    {
      "cell_type": "code",
      "metadata": {
        "id": "wJTwJRrwADsq"
      },
      "source": [
        "#type(heatmap)"
      ],
      "execution_count": null,
      "outputs": []
    },
    {
      "cell_type": "code",
      "metadata": {
        "colab": {
          "base_uri": "https://localhost:8080/",
          "height": 136
        },
        "id": "DbtIYMJmSU4z",
        "outputId": "027570ff-04f9-432e-dba4-4230c84f1004"
      },
      "source": [
        "'''\n",
        "img=np.array(superimposed_img)\n",
        "img=img.astype('float')\n",
        "height, width,channel= img.shape\n",
        "# Cut out the target range\n",
        "boxFromX = 0 # start range X coordinate\n",
        "boxFromY = 0 # target range start position Y coordinate\n",
        "boxToX = width # target range end position X coordinate\n",
        "boxToY = height # target range end position Y coordinate\n",
        "# set in the order of y: y + h, x: x + w\n",
        "imgBox = img [boxFromY: boxToY, boxFromX: boxToX]\n",
        "# Output RGB mean and variance\n",
        "# One-dimensionalize with flatten and get average with mean\n",
        "m_b = imgBox.T [0] .flatten (). mean ()\n",
        "m_g = imgBox.T [1] .flatten (). mean ()\n",
        "m_r = imgBox.T [2] .flatten (). mean ()\n",
        "# Get one-dimensional with flatten and get variance with variance\n",
        "v_b = imgBox.T [0] .flatten ()\n",
        "v_g = imgBox.T [1] .flatten ()\n",
        "v_r = imgBox.T [2] .flatten ()\n",
        "v_b = variance (v_b)\n",
        "v_g = variance (v_g)\n",
        "v_r = variance (v_r)\n",
        "'''"
      ],
      "execution_count": null,
      "outputs": [
        {
          "output_type": "execute_result",
          "data": {
            "application/vnd.google.colaboratory.intrinsic+json": {
              "type": "string"
            },
            "text/plain": [
              "\"\\nimg=np.array(superimposed_img)\\nimg=img.astype('float')\\nheight, width,channel= img.shape\\n# Cut out the target range\\nboxFromX = 0 # start range X coordinate\\nboxFromY = 0 # target range start position Y coordinate\\nboxToX = width # target range end position X coordinate\\nboxToY = height # target range end position Y coordinate\\n# set in the order of y: y + h, x: x + w\\nimgBox = img [boxFromY: boxToY, boxFromX: boxToX]\\n# Output RGB mean and variance\\n# One-dimensionalize with flatten and get average with mean\\nm_b = imgBox.T [0] .flatten (). mean ()\\nm_g = imgBox.T [1] .flatten (). mean ()\\nm_r = imgBox.T [2] .flatten (). mean ()\\n# Get one-dimensional with flatten and get variance with variance\\nv_b = imgBox.T [0] .flatten ()\\nv_g = imgBox.T [1] .flatten ()\\nv_r = imgBox.T [2] .flatten ()\\nv_b = variance (v_b)\\nv_g = variance (v_g)\\nv_r = variance (v_r)\\n\""
            ]
          },
          "metadata": {
            "tags": []
          },
          "execution_count": 49
        }
      ]
    },
    {
      "cell_type": "code",
      "metadata": {
        "id": "9O9taKIQWk6u"
      },
      "source": [
        "#v_r"
      ],
      "execution_count": null,
      "outputs": []
    },
    {
      "cell_type": "code",
      "metadata": {
        "id": "VbIfcGfrW-BU"
      },
      "source": [
        "#v_b"
      ],
      "execution_count": null,
      "outputs": []
    },
    {
      "cell_type": "code",
      "metadata": {
        "id": "xj97YV5rXBVO"
      },
      "source": [
        "#v_g"
      ],
      "execution_count": null,
      "outputs": []
    },
    {
      "cell_type": "markdown",
      "metadata": {
        "id": "2f91u7hQTPvl"
      },
      "source": [
        "# 1st Iteration on Curriculum Learning"
      ]
    },
    {
      "cell_type": "markdown",
      "metadata": {
        "id": "5Xw2pbAeYkhB"
      },
      "source": [
        "## Heatmap Variance generation "
      ]
    },
    {
      "cell_type": "markdown",
      "metadata": {
        "id": "OgELkmfcgxxg"
      },
      "source": [
        "### Train data"
      ]
    },
    {
      "cell_type": "code",
      "metadata": {
        "id": "7bv3cmS-XCe2"
      },
      "source": [
        "train_name_list=train_df['name'].to_list()"
      ],
      "execution_count": null,
      "outputs": []
    },
    {
      "cell_type": "code",
      "metadata": {
        "colab": {
          "base_uri": "https://localhost:8080/"
        },
        "id": "sNVAawNvc5se",
        "outputId": "fb5ce005-32c9-4078-c063-17ef69de0071"
      },
      "source": [
        "train_name_list"
      ],
      "execution_count": null,
      "outputs": [
        {
          "output_type": "execute_result",
          "data": {
            "text/plain": [
              "['ISIC_0010501.jpg',\n",
              " 'ISIC_0010582.jpg',\n",
              " 'ISIC_0000172.jpg',\n",
              " 'ISIC_0010516.jpg',\n",
              " 'ISIC_0000264.jpg',\n",
              " 'ISIC_0000072.jpg',\n",
              " 'ISIC_0010590.jpg',\n",
              " 'ISIC_0010354.jpg',\n",
              " 'ISIC_0010355.jpg',\n",
              " 'ISIC_0010395.jpg',\n",
              " 'ISIC_0010378.jpg',\n",
              " 'ISIC_0000048.jpg',\n",
              " 'ISIC_0010321.jpg',\n",
              " 'ISIC_0000214.jpg',\n",
              " 'ISIC_0000052.jpg',\n",
              " 'ISIC_0010587.jpg',\n",
              " 'ISIC_0000156.jpg',\n",
              " 'ISIC_0010616.jpg',\n",
              " 'ISIC_0000028.jpg',\n",
              " 'ISIC_0000258.jpg',\n",
              " 'ISIC_0010533.jpg',\n",
              " 'ISIC_0000171.jpg',\n",
              " 'ISIC_0010392.jpg',\n",
              " 'ISIC_0010585.jpg',\n",
              " 'ISIC_0010367.jpg',\n",
              " 'ISIC_0000220.jpg',\n",
              " 'ISIC_0000154.jpg',\n",
              " 'ISIC_0010513.jpg',\n",
              " 'ISIC_0000262.jpg',\n",
              " 'ISIC_0000206.jpg',\n",
              " 'ISIC_0010615.jpg',\n",
              " 'ISIC_0000181.jpg',\n",
              " 'ISIC_0010383.jpg',\n",
              " 'ISIC_0010493.jpg',\n",
              " 'ISIC_0000216.jpg',\n",
              " 'ISIC_0010453.jpg',\n",
              " 'ISIC_0000097.jpg',\n",
              " 'ISIC_0000186.jpg',\n",
              " 'ISIC_0000135.jpg',\n",
              " 'ISIC_0000036.jpg',\n",
              " 'ISIC_0000114.jpg',\n",
              " 'ISIC_0000087.jpg',\n",
              " 'ISIC_0000112.jpg',\n",
              " 'ISIC_0000238.jpg',\n",
              " 'ISIC_0010556.jpg',\n",
              " 'ISIC_0000157.jpg',\n",
              " 'ISIC_0000144.jpg',\n",
              " 'ISIC_0010418.jpg',\n",
              " 'ISIC_0010385.jpg',\n",
              " 'ISIC_0000002.jpg',\n",
              " 'ISIC_0010368.jpg',\n",
              " 'ISIC_0010424.jpg',\n",
              " 'ISIC_0010389.jpg',\n",
              " 'ISIC_0010357.jpg',\n",
              " 'ISIC_0010476.jpg',\n",
              " 'ISIC_0000085.jpg',\n",
              " 'ISIC_0000289.jpg',\n",
              " 'ISIC_0000003.jpg',\n",
              " 'ISIC_0000253.jpg',\n",
              " 'ISIC_0010595.jpg',\n",
              " 'ISIC_0000063.jpg',\n",
              " 'ISIC_0000084.jpg',\n",
              " 'ISIC_0000120.jpg',\n",
              " 'ISIC_0010601.jpg',\n",
              " 'ISIC_0000071.jpg',\n",
              " 'ISIC_0010459.jpg',\n",
              " 'ISIC_0000194.jpg',\n",
              " 'ISIC_0010438.jpg',\n",
              " 'ISIC_0010548.jpg',\n",
              " 'ISIC_0000275.jpg',\n",
              " 'ISIC_0010597.jpg',\n",
              " 'ISIC_0000183.jpg',\n",
              " 'ISIC_0010336.jpg',\n",
              " 'ISIC_0010358.jpg',\n",
              " 'ISIC_0000223.jpg',\n",
              " 'ISIC_0010398.jpg',\n",
              " 'ISIC_0010411.jpg',\n",
              " 'ISIC_0000022.jpg',\n",
              " 'ISIC_0010431.jpg',\n",
              " 'ISIC_0000255.jpg',\n",
              " 'ISIC_0000110.jpg',\n",
              " 'ISIC_0000190.jpg',\n",
              " 'ISIC_0000076.jpg',\n",
              " 'ISIC_0010456.jpg',\n",
              " 'ISIC_0010528.jpg',\n",
              " 'ISIC_0010523.jpg',\n",
              " 'ISIC_0000146.jpg',\n",
              " 'ISIC_0000168.jpg',\n",
              " 'ISIC_0010481.jpg',\n",
              " 'ISIC_0010532.jpg',\n",
              " 'ISIC_0000163.jpg',\n",
              " 'ISIC_0000131.jpg',\n",
              " 'ISIC_0010320.jpg',\n",
              " 'ISIC_0000032.jpg',\n",
              " 'ISIC_0000244.jpg',\n",
              " 'ISIC_0000260.jpg',\n",
              " 'ISIC_0000198.jpg',\n",
              " 'ISIC_0010471.jpg',\n",
              " 'ISIC_0000105.jpg',\n",
              " 'ISIC_0000224.jpg',\n",
              " 'ISIC_0010353.jpg',\n",
              " 'ISIC_0000197.jpg',\n",
              " 'ISIC_0000029.jpg',\n",
              " 'ISIC_0010350.jpg',\n",
              " 'ISIC_0000166.jpg',\n",
              " 'ISIC_0000100.jpg',\n",
              " 'ISIC_0000005.jpg',\n",
              " 'ISIC_0010522.jpg',\n",
              " 'ISIC_0000192.jpg',\n",
              " 'ISIC_0000277.jpg',\n",
              " 'ISIC_0010434.jpg',\n",
              " 'ISIC_0010562.jpg',\n",
              " 'ISIC_0010550.jpg',\n",
              " 'ISIC_0000145.jpg',\n",
              " 'ISIC_0010342.jpg',\n",
              " 'ISIC_0000095.jpg',\n",
              " 'ISIC_0010467.jpg',\n",
              " 'ISIC_0000162.jpg',\n",
              " 'ISIC_0010603.jpg',\n",
              " 'ISIC_0000282.jpg',\n",
              " 'ISIC_0000102.jpg',\n",
              " 'ISIC_0000059.jpg',\n",
              " 'ISIC_0010399.jpg',\n",
              " 'ISIC_0000011.jpg',\n",
              " 'ISIC_0000290.jpg',\n",
              " 'ISIC_0000257.jpg',\n",
              " 'ISIC_0010402.jpg',\n",
              " 'ISIC_0010374.jpg',\n",
              " 'ISIC_0010474.jpg',\n",
              " 'ISIC_0000091.jpg',\n",
              " 'ISIC_0000008.jpg',\n",
              " 'ISIC_0010332.jpg',\n",
              " 'ISIC_0010465.jpg',\n",
              " 'ISIC_0000240.jpg',\n",
              " 'ISIC_0000116.jpg',\n",
              " 'ISIC_0000136.jpg',\n",
              " 'ISIC_0010331.jpg',\n",
              " 'ISIC_0000148.jpg',\n",
              " 'ISIC_0010518.jpg',\n",
              " 'ISIC_0010485.jpg',\n",
              " 'ISIC_0000021.jpg',\n",
              " 'ISIC_0010591.jpg',\n",
              " 'ISIC_0000176.jpg',\n",
              " 'ISIC_0010370.jpg',\n",
              " 'ISIC_0010344.jpg',\n",
              " 'ISIC_0000243.jpg',\n",
              " 'ISIC_0000199.jpg',\n",
              " 'ISIC_0000292.jpg',\n",
              " 'ISIC_0010553.jpg',\n",
              " 'ISIC_0010346.jpg',\n",
              " 'ISIC_0010446.jpg',\n",
              " 'ISIC_0010445.jpg',\n",
              " 'ISIC_0010547.jpg',\n",
              " 'ISIC_0010512.jpg',\n",
              " 'ISIC_0010337.jpg',\n",
              " 'ISIC_0000155.jpg',\n",
              " 'ISIC_0010324.jpg',\n",
              " 'ISIC_0000096.jpg',\n",
              " 'ISIC_0000235.jpg',\n",
              " 'ISIC_0010408.jpg',\n",
              " 'ISIC_0000027.jpg',\n",
              " 'ISIC_0010557.jpg',\n",
              " 'ISIC_0010473.jpg',\n",
              " 'ISIC_0000126.jpg',\n",
              " 'ISIC_0000230.jpg',\n",
              " 'ISIC_0010571.jpg',\n",
              " 'ISIC_0010539.jpg',\n",
              " 'ISIC_0010447.jpg',\n",
              " 'ISIC_0010544.jpg',\n",
              " 'ISIC_0000161.jpg',\n",
              " 'ISIC_0000274.jpg',\n",
              " 'ISIC_0010527.jpg',\n",
              " 'ISIC_0010322.jpg',\n",
              " 'ISIC_0000187.jpg',\n",
              " 'ISIC_0010605.jpg',\n",
              " 'ISIC_0000053.jpg',\n",
              " 'ISIC_0000270.jpg',\n",
              " 'ISIC_0000158.jpg',\n",
              " 'ISIC_0000030.jpg',\n",
              " 'ISIC_0010397.jpg',\n",
              " 'ISIC_0010396.jpg',\n",
              " 'ISIC_0010435.jpg',\n",
              " 'ISIC_0000118.jpg',\n",
              " 'ISIC_0010407.jpg',\n",
              " 'ISIC_0010552.jpg',\n",
              " 'ISIC_0000143.jpg',\n",
              " 'ISIC_0010380.jpg',\n",
              " 'ISIC_0010463.jpg',\n",
              " 'ISIC_0010450.jpg',\n",
              " 'ISIC_0000024.jpg',\n",
              " 'ISIC_0010538.jpg',\n",
              " 'ISIC_0010490.jpg',\n",
              " 'ISIC_0000010.jpg',\n",
              " 'ISIC_0010426.jpg',\n",
              " 'ISIC_0000115.jpg',\n",
              " 'ISIC_0000094.jpg',\n",
              " 'ISIC_0000193.jpg',\n",
              " 'ISIC_0000182.jpg',\n",
              " 'ISIC_0000040.jpg',\n",
              " 'ISIC_0000178.jpg',\n",
              " 'ISIC_0010422.jpg',\n",
              " 'ISIC_0010390.jpg',\n",
              " 'ISIC_0000004.jpg',\n",
              " 'ISIC_0010497.jpg',\n",
              " 'ISIC_0010592.jpg',\n",
              " 'ISIC_0010506.jpg',\n",
              " 'ISIC_0010469.jpg',\n",
              " 'ISIC_0000215.jpg',\n",
              " 'ISIC_0000031.jpg',\n",
              " 'ISIC_0010503.jpg',\n",
              " 'ISIC_0010572.jpg',\n",
              " 'ISIC_0010545.jpg',\n",
              " 'ISIC_0010579.jpg',\n",
              " 'ISIC_0010425.jpg',\n",
              " 'ISIC_0000089.jpg',\n",
              " 'ISIC_0000207.jpg',\n",
              " 'ISIC_0000045.jpg',\n",
              " 'ISIC_0010541.jpg',\n",
              " 'ISIC_0010536.jpg',\n",
              " 'ISIC_0000251.jpg',\n",
              " 'ISIC_0010371.jpg',\n",
              " 'ISIC_0010419.jpg',\n",
              " 'ISIC_0010382.jpg',\n",
              " 'ISIC_0000108.jpg',\n",
              " 'ISIC_0010529.jpg',\n",
              " 'ISIC_0000284.jpg',\n",
              " 'ISIC_0000151.jpg',\n",
              " 'ISIC_0000074.jpg',\n",
              " 'ISIC_0010352.jpg',\n",
              " 'ISIC_0010477.jpg',\n",
              " 'ISIC_0010502.jpg',\n",
              " 'ISIC_0000038.jpg',\n",
              " 'ISIC_0010584.jpg',\n",
              " 'ISIC_0010427.jpg',\n",
              " 'ISIC_0010565.jpg',\n",
              " 'ISIC_0010576.jpg',\n",
              " 'ISIC_0010363.jpg',\n",
              " 'ISIC_0010429.jpg',\n",
              " 'ISIC_0010401.jpg',\n",
              " 'ISIC_0000104.jpg',\n",
              " 'ISIC_0010540.jpg',\n",
              " 'ISIC_0000147.jpg',\n",
              " 'ISIC_0000137.jpg',\n",
              " 'ISIC_0010549.jpg',\n",
              " 'ISIC_0010543.jpg',\n",
              " 'ISIC_0000023.jpg',\n",
              " 'ISIC_0000140.jpg',\n",
              " 'ISIC_0010507.jpg',\n",
              " 'ISIC_0000281.jpg',\n",
              " 'ISIC_0000269.jpg',\n",
              " 'ISIC_0010612.jpg',\n",
              " 'ISIC_0010555.jpg',\n",
              " 'ISIC_0010515.jpg',\n",
              " 'ISIC_0000149.jpg',\n",
              " 'ISIC_0000049.jpg',\n",
              " 'ISIC_0010414.jpg',\n",
              " 'ISIC_0010573.jpg',\n",
              " 'ISIC_0000007.jpg',\n",
              " 'ISIC_0000079.jpg',\n",
              " 'ISIC_0000226.jpg',\n",
              " 'ISIC_0000217.jpg',\n",
              " 'ISIC_0010568.jpg',\n",
              " 'ISIC_0010351.jpg',\n",
              " 'ISIC_0010472.jpg',\n",
              " 'ISIC_0010362.jpg',\n",
              " 'ISIC_0010406.jpg',\n",
              " 'ISIC_0000195.jpg',\n",
              " 'ISIC_0000222.jpg',\n",
              " 'ISIC_0010423.jpg',\n",
              " 'ISIC_0000090.jpg',\n",
              " 'ISIC_0000093.jpg',\n",
              " 'ISIC_0000001.jpg',\n",
              " 'ISIC_0000266.jpg',\n",
              " 'ISIC_0000210.jpg',\n",
              " 'ISIC_0000006.jpg',\n",
              " 'ISIC_0010330.jpg',\n",
              " 'ISIC_0000227.jpg',\n",
              " 'ISIC_0010489.jpg',\n",
              " 'ISIC_0000267.jpg',\n",
              " 'ISIC_0000077.jpg',\n",
              " 'ISIC_0010578.jpg',\n",
              " 'ISIC_0000047.jpg',\n",
              " 'ISIC_0010391.jpg',\n",
              " 'ISIC_0000212.jpg',\n",
              " 'ISIC_0010403.jpg',\n",
              " 'ISIC_0010326.jpg',\n",
              " 'ISIC_0010328.jpg',\n",
              " 'ISIC_0000056.jpg',\n",
              " 'ISIC_0010436.jpg',\n",
              " 'ISIC_0000138.jpg',\n",
              " 'ISIC_0000177.jpg',\n",
              " 'ISIC_0000280.jpg',\n",
              " 'ISIC_0010372.jpg',\n",
              " 'ISIC_0000064.jpg',\n",
              " 'ISIC_0000033.jpg',\n",
              " 'ISIC_0010413.jpg',\n",
              " 'ISIC_0010535.jpg',\n",
              " 'ISIC_0000173.jpg',\n",
              " 'ISIC_0000254.jpg',\n",
              " 'ISIC_0000286.jpg',\n",
              " 'ISIC_0010466.jpg',\n",
              " 'ISIC_0010594.jpg',\n",
              " 'ISIC_0000232.jpg',\n",
              " 'ISIC_0010608.jpg',\n",
              " 'ISIC_0000179.jpg',\n",
              " 'ISIC_0000078.jpg',\n",
              " 'ISIC_0000204.jpg',\n",
              " 'ISIC_0000285.jpg',\n",
              " 'ISIC_0000117.jpg',\n",
              " 'ISIC_0000203.jpg',\n",
              " 'ISIC_0000296.jpg',\n",
              " 'ISIC_0010517.jpg',\n",
              " 'ISIC_0000141.jpg',\n",
              " 'ISIC_0000075.jpg',\n",
              " 'ISIC_0000221.jpg',\n",
              " 'ISIC_0000152.jpg',\n",
              " 'ISIC_0010432.jpg',\n",
              " 'ISIC_0010441.jpg',\n",
              " 'ISIC_0000127.jpg',\n",
              " 'ISIC_0000211.jpg',\n",
              " 'ISIC_0010563.jpg',\n",
              " 'ISIC_0000265.jpg',\n",
              " 'ISIC_0010480.jpg',\n",
              " 'ISIC_0000125.jpg',\n",
              " 'ISIC_0010379.jpg',\n",
              " 'ISIC_0010444.jpg',\n",
              " 'ISIC_0010487.jpg',\n",
              " 'ISIC_0010484.jpg',\n",
              " 'ISIC_0000101.jpg',\n",
              " 'ISIC_0010575.jpg',\n",
              " 'ISIC_0010417.jpg',\n",
              " 'ISIC_0010546.jpg',\n",
              " 'ISIC_0010496.jpg',\n",
              " 'ISIC_0000279.jpg',\n",
              " 'ISIC_0010458.jpg',\n",
              " 'ISIC_0010583.jpg',\n",
              " 'ISIC_0000062.jpg',\n",
              " 'ISIC_0010500.jpg',\n",
              " 'ISIC_0010596.jpg',\n",
              " 'ISIC_0010448.jpg',\n",
              " 'ISIC_0000142.jpg',\n",
              " 'ISIC_0000034.jpg',\n",
              " 'ISIC_0010524.jpg',\n",
              " 'ISIC_0000184.jpg',\n",
              " 'ISIC_0010613.jpg',\n",
              " 'ISIC_0010564.jpg',\n",
              " 'ISIC_0000014.jpg',\n",
              " 'ISIC_0000035.jpg',\n",
              " 'ISIC_0010325.jpg',\n",
              " 'ISIC_0000248.jpg',\n",
              " 'ISIC_0000058.jpg',\n",
              " 'ISIC_0000013.jpg',\n",
              " 'ISIC_0000233.jpg',\n",
              " 'ISIC_0000245.jpg',\n",
              " 'ISIC_0010570.jpg',\n",
              " 'ISIC_0000106.jpg',\n",
              " 'ISIC_0010452.jpg',\n",
              " 'ISIC_0010415.jpg',\n",
              " 'ISIC_0010468.jpg',\n",
              " 'ISIC_0010479.jpg',\n",
              " 'ISIC_0000088.jpg',\n",
              " 'ISIC_0010439.jpg',\n",
              " 'ISIC_0000019.jpg',\n",
              " 'ISIC_0000208.jpg',\n",
              " 'ISIC_0000128.jpg',\n",
              " 'ISIC_0000065.jpg',\n",
              " 'ISIC_0000167.jpg',\n",
              " 'ISIC_0000256.jpg',\n",
              " 'ISIC_0000231.jpg',\n",
              " 'ISIC_0010617.jpg',\n",
              " 'ISIC_0000299.jpg',\n",
              " 'ISIC_0010359.jpg',\n",
              " 'ISIC_0010567.jpg',\n",
              " 'ISIC_0000297.jpg',\n",
              " 'ISIC_0010569.jpg',\n",
              " 'ISIC_0000160.jpg',\n",
              " 'ISIC_0010600.jpg',\n",
              " 'ISIC_0000067.jpg',\n",
              " 'ISIC_0000276.jpg',\n",
              " 'ISIC_0000293.jpg',\n",
              " 'ISIC_0010323.jpg',\n",
              " 'ISIC_0010520.jpg',\n",
              " 'ISIC_0010405.jpg',\n",
              " 'ISIC_0000020.jpg',\n",
              " 'ISIC_0010475.jpg',\n",
              " 'ISIC_0000165.jpg',\n",
              " 'ISIC_0000083.jpg',\n",
              " 'ISIC_0010521.jpg',\n",
              " 'ISIC_0000123.jpg',\n",
              " 'ISIC_0000295.jpg',\n",
              " 'ISIC_0010560.jpg',\n",
              " 'ISIC_0010618.jpg',\n",
              " 'ISIC_0000191.jpg',\n",
              " 'ISIC_0000000.jpg',\n",
              " 'ISIC_0000139.jpg',\n",
              " 'ISIC_0000278.jpg',\n",
              " 'ISIC_0000124.jpg',\n",
              " 'ISIC_0000250.jpg',\n",
              " 'ISIC_0010610.jpg',\n",
              " 'ISIC_0010404.jpg',\n",
              " 'ISIC_0010611.jpg',\n",
              " 'ISIC_0010440.jpg',\n",
              " 'ISIC_0010442.jpg',\n",
              " 'ISIC_0000122.jpg',\n",
              " 'ISIC_0000241.jpg',\n",
              " 'ISIC_0010504.jpg',\n",
              " 'ISIC_0010421.jpg',\n",
              " 'ISIC_0010461.jpg',\n",
              " 'ISIC_0010525.jpg',\n",
              " 'ISIC_0000130.jpg',\n",
              " 'ISIC_0010482.jpg',\n",
              " 'ISIC_0010443.jpg',\n",
              " 'ISIC_0010494.jpg',\n",
              " 'ISIC_0000164.jpg',\n",
              " 'ISIC_0010329.jpg',\n",
              " 'ISIC_0000298.jpg',\n",
              " 'ISIC_0010606.jpg',\n",
              " 'ISIC_0010478.jpg',\n",
              " 'ISIC_0010542.jpg',\n",
              " 'ISIC_0000242.jpg',\n",
              " 'ISIC_0010340.jpg',\n",
              " 'ISIC_0010400.jpg',\n",
              " 'ISIC_0000150.jpg',\n",
              " 'ISIC_0000225.jpg',\n",
              " 'ISIC_0000015.jpg',\n",
              " 'ISIC_0010574.jpg',\n",
              " 'ISIC_0000039.jpg',\n",
              " 'ISIC_0010416.jpg',\n",
              " 'ISIC_0000132.jpg',\n",
              " 'ISIC_0010369.jpg',\n",
              " 'ISIC_0000009.jpg',\n",
              " 'ISIC_0010509.jpg',\n",
              " 'ISIC_0000016.jpg',\n",
              " 'ISIC_0000042.jpg',\n",
              " 'ISIC_0000092.jpg',\n",
              " 'ISIC_0010505.jpg',\n",
              " 'ISIC_0010345.jpg',\n",
              " 'ISIC_0000246.jpg',\n",
              " 'ISIC_0010347.jpg',\n",
              " 'ISIC_0010511.jpg',\n",
              " 'ISIC_0010609.jpg',\n",
              " 'ISIC_0000228.jpg',\n",
              " 'ISIC_0010586.jpg',\n",
              " 'ISIC_0010449.jpg',\n",
              " 'ISIC_0000239.jpg',\n",
              " 'ISIC_0010365.jpg',\n",
              " 'ISIC_0000202.jpg',\n",
              " 'ISIC_0000272.jpg',\n",
              " 'ISIC_0010454.jpg',\n",
              " 'ISIC_0000103.jpg',\n",
              " 'ISIC_0000237.jpg',\n",
              " 'ISIC_0000086.jpg',\n",
              " 'ISIC_0000229.jpg',\n",
              " 'ISIC_0010534.jpg',\n",
              " 'ISIC_0010510.jpg',\n",
              " 'ISIC_0010373.jpg',\n",
              " 'ISIC_0010386.jpg',\n",
              " 'ISIC_0000041.jpg',\n",
              " 'ISIC_0000249.jpg',\n",
              " 'ISIC_0000050.jpg',\n",
              " 'ISIC_0000082.jpg',\n",
              " 'ISIC_0010364.jpg',\n",
              " 'ISIC_0000287.jpg',\n",
              " 'ISIC_0000261.jpg',\n",
              " 'ISIC_0010607.jpg',\n",
              " 'ISIC_0000026.jpg',\n",
              " 'ISIC_0000236.jpg',\n",
              " 'ISIC_0000188.jpg',\n",
              " 'ISIC_0000119.jpg',\n",
              " 'ISIC_0000273.jpg',\n",
              " 'ISIC_0000061.jpg',\n",
              " 'ISIC_0000288.jpg',\n",
              " 'ISIC_0000037.jpg',\n",
              " 'ISIC_0010614.jpg',\n",
              " 'ISIC_0010551.jpg',\n",
              " 'ISIC_0010599.jpg',\n",
              " 'ISIC_0010499.jpg',\n",
              " 'ISIC_0010530.jpg',\n",
              " 'ISIC_0010348.jpg']"
            ]
          },
          "metadata": {
            "tags": []
          },
          "execution_count": 52
        }
      ]
    },
    {
      "cell_type": "code",
      "metadata": {
        "id": "1cCWNSiGaeF9"
      },
      "source": [
        "#train_name_list"
      ],
      "execution_count": null,
      "outputs": []
    },
    {
      "cell_type": "code",
      "metadata": {
        "id": "yVUNKC8Latz0"
      },
      "source": [
        "red_variance_train=[]"
      ],
      "execution_count": null,
      "outputs": []
    },
    {
      "cell_type": "code",
      "metadata": {
        "id": "GX759RNLafyc"
      },
      "source": [
        "for i in train_name_list:\n",
        "  img_array_positive = (get_img_array('/content/Skin_data/train/data/'+i, size=(150,150)))\n",
        "  heatmap = make_gradcam_heatmap(img_array_positive, model, last_conv_layer_name, classifier_layer_names)\n",
        "  #plt.matshow(heatmap)\n",
        "  #plt.show()\n",
        "  img = keras.preprocessing.image.load_img('/content/Skin_data/train/data/'+i)\n",
        "  img = keras.preprocessing.image.img_to_array(img)\n",
        "\n",
        "  # We rescale heatmap to a range 0-255\n",
        "  heatmap = np.uint8(255 * heatmap)\n",
        "\n",
        "  # We use jet colormap to colorize heatmap\n",
        "  jet = cm.get_cmap(\"jet\")\n",
        "\n",
        "  # We use RGB values of the colormap\n",
        "  jet_colors = jet(np.arange(256))[:, :3]\n",
        "  jet_heatmap = jet_colors[heatmap]\n",
        "\n",
        "  # We create an image with RGB colorized heatmap\n",
        "  jet_heatmap = keras.preprocessing.image.array_to_img(jet_heatmap)\n",
        "  jet_heatmap = jet_heatmap.resize((img.shape[1], img.shape[0]))\n",
        "  jet_heatmap = keras.preprocessing.image.img_to_array(jet_heatmap)\n",
        "\n",
        "  # Superimpose the heatmap on original image\n",
        "  superimposed_img = jet_heatmap * 0.4 + img\n",
        "  superimposed_img = keras.preprocessing.image.array_to_img(superimposed_img)\n",
        "  img=np.array(superimposed_img)\n",
        "  img=img.astype('float')\n",
        "  height, width,channel= img.shape\n",
        "  # Cut out the target range\n",
        "  boxFromX = 0 # start range X coordinate\n",
        "  boxFromY = 0 # target range start position Y coordinate\n",
        "  boxToX = width # target range end position X coordinate\n",
        "  boxToY = height # target range end position Y coordinate\n",
        "  # set in the order of y: y + h, x: x + w\n",
        "  imgBox = img [boxFromY: boxToY, boxFromX: boxToX]\n",
        "  # Output RGB mean and variance\n",
        "  # One-dimensionalize with flatten and get average with mean\n",
        "  #m_b = imgBox.T [0] .flatten (). mean ()\n",
        "  #m_g = imgBox.T [1] .flatten (). mean ()\n",
        "  #m_r = imgBox.T [2] .flatten (). mean ()\n",
        "  # Get one-dimensional with flatten and get variance with variance\n",
        "  #v_b = imgBox.T [0] .flatten ()\n",
        "  #v_g = imgBox.T [1] .flatten ()\n",
        "  v_r = imgBox.T [2] .flatten ()\n",
        "  #v_b = variance (v_b)\n",
        "  #v_g = variance (v_g)\n",
        "  v_r = variance (v_r)\n",
        "  red_variance_train.append(v_r)"
      ],
      "execution_count": null,
      "outputs": []
    },
    {
      "cell_type": "code",
      "metadata": {
        "id": "r10p7PmYgkyq"
      },
      "source": [
        "#red_variance_train=red_variance_train[10:]"
      ],
      "execution_count": null,
      "outputs": []
    },
    {
      "cell_type": "code",
      "metadata": {
        "colab": {
          "base_uri": "https://localhost:8080/"
        },
        "id": "RdObgCnogYTs",
        "outputId": "aaaa535e-6b99-4e60-9e1e-135f79b9dee7"
      },
      "source": [
        "len(red_variance_train)"
      ],
      "execution_count": null,
      "outputs": [
        {
          "output_type": "execute_result",
          "data": {
            "text/plain": [
              "479"
            ]
          },
          "metadata": {
            "tags": []
          },
          "execution_count": 57
        }
      ]
    },
    {
      "cell_type": "code",
      "metadata": {
        "id": "nGCwbWJEbN88"
      },
      "source": [
        "train_df['red_variance']=red_variance_train"
      ],
      "execution_count": null,
      "outputs": []
    },
    {
      "cell_type": "code",
      "metadata": {
        "colab": {
          "base_uri": "https://localhost:8080/",
          "height": 195
        },
        "id": "PpnJ_kPAbPof",
        "outputId": "7b1855eb-ba50-46e0-ca66-f2eabfff0a75"
      },
      "source": [
        "train_df.head()"
      ],
      "execution_count": null,
      "outputs": [
        {
          "output_type": "execute_result",
          "data": {
            "text/html": [
              "<div>\n",
              "<style scoped>\n",
              "    .dataframe tbody tr th:only-of-type {\n",
              "        vertical-align: middle;\n",
              "    }\n",
              "\n",
              "    .dataframe tbody tr th {\n",
              "        vertical-align: top;\n",
              "    }\n",
              "\n",
              "    .dataframe thead th {\n",
              "        text-align: right;\n",
              "    }\n",
              "</style>\n",
              "<table border=\"1\" class=\"dataframe\">\n",
              "  <thead>\n",
              "    <tr style=\"text-align: right;\">\n",
              "      <th></th>\n",
              "      <th>name</th>\n",
              "      <th>meta.clinical.benign_malignant</th>\n",
              "      <th>red_variance</th>\n",
              "    </tr>\n",
              "  </thead>\n",
              "  <tbody>\n",
              "    <tr>\n",
              "      <th>0</th>\n",
              "      <td>ISIC_0010501.jpg</td>\n",
              "      <td>1</td>\n",
              "      <td>1738.929163</td>\n",
              "    </tr>\n",
              "    <tr>\n",
              "      <th>1</th>\n",
              "      <td>ISIC_0010582.jpg</td>\n",
              "      <td>1</td>\n",
              "      <td>939.483954</td>\n",
              "    </tr>\n",
              "    <tr>\n",
              "      <th>2</th>\n",
              "      <td>ISIC_0000172.jpg</td>\n",
              "      <td>0</td>\n",
              "      <td>2465.009923</td>\n",
              "    </tr>\n",
              "    <tr>\n",
              "      <th>3</th>\n",
              "      <td>ISIC_0010516.jpg</td>\n",
              "      <td>0</td>\n",
              "      <td>886.347001</td>\n",
              "    </tr>\n",
              "    <tr>\n",
              "      <th>4</th>\n",
              "      <td>ISIC_0000264.jpg</td>\n",
              "      <td>1</td>\n",
              "      <td>2669.259538</td>\n",
              "    </tr>\n",
              "  </tbody>\n",
              "</table>\n",
              "</div>"
            ],
            "text/plain": [
              "               name meta.clinical.benign_malignant  red_variance\n",
              "0  ISIC_0010501.jpg                              1   1738.929163\n",
              "1  ISIC_0010582.jpg                              1    939.483954\n",
              "2  ISIC_0000172.jpg                              0   2465.009923\n",
              "3  ISIC_0010516.jpg                              0    886.347001\n",
              "4  ISIC_0000264.jpg                              1   2669.259538"
            ]
          },
          "metadata": {
            "tags": []
          },
          "execution_count": 59
        }
      ]
    },
    {
      "cell_type": "markdown",
      "metadata": {
        "id": "cmlz9WdyhKzV"
      },
      "source": [
        "### Val data"
      ]
    },
    {
      "cell_type": "code",
      "metadata": {
        "id": "GLd4lf4xgurr"
      },
      "source": [
        "val_name_list=val_df['name'].to_list()"
      ],
      "execution_count": null,
      "outputs": []
    },
    {
      "cell_type": "code",
      "metadata": {
        "id": "hoNFwiCRhrm7"
      },
      "source": [
        "red_variance_val=[]"
      ],
      "execution_count": null,
      "outputs": []
    },
    {
      "cell_type": "code",
      "metadata": {
        "id": "H9k6cIa6hu6P"
      },
      "source": [
        "for i in val_name_list:\n",
        "  img_array_positive = (get_img_array('/content/Skin_data/val/data/'+i, size=(150,150)))\n",
        "  heatmap = make_gradcam_heatmap(img_array_positive, model, last_conv_layer_name, classifier_layer_names)\n",
        "  #plt.matshow(heatmap)\n",
        "  #plt.show()\n",
        "  img = keras.preprocessing.image.load_img('/content/Skin_data/val/data/'+i)\n",
        "  img = keras.preprocessing.image.img_to_array(img)\n",
        "\n",
        "  # We rescale heatmap to a range 0-255\n",
        "  heatmap = np.uint8(255 * heatmap)\n",
        "\n",
        "  # We use jet colormap to colorize heatmap\n",
        "  jet = cm.get_cmap(\"jet\")\n",
        "\n",
        "  # We use RGB values of the colormap\n",
        "  jet_colors = jet(np.arange(256))[:, :3]\n",
        "  jet_heatmap = jet_colors[heatmap]\n",
        "\n",
        "  # We create an image with RGB colorized heatmap\n",
        "  jet_heatmap = keras.preprocessing.image.array_to_img(jet_heatmap)\n",
        "  jet_heatmap = jet_heatmap.resize((img.shape[1], img.shape[0]))\n",
        "  jet_heatmap = keras.preprocessing.image.img_to_array(jet_heatmap)\n",
        "\n",
        "  # Superimpose the heatmap on original image\n",
        "  superimposed_img = jet_heatmap * 0.4 + img\n",
        "  superimposed_img = keras.preprocessing.image.array_to_img(superimposed_img)\n",
        "  img=np.array(superimposed_img)\n",
        "  img=img.astype('float')\n",
        "  height, width,channel= img.shape\n",
        "  # Cut out the target range\n",
        "  boxFromX = 0 # start range X coordinate\n",
        "  boxFromY = 0 # target range start position Y coordinate\n",
        "  boxToX = width # target range end position X coordinate\n",
        "  boxToY = height # target range end position Y coordinate\n",
        "  # set in the order of y: y + h, x: x + w\n",
        "  imgBox = img [boxFromY: boxToY, boxFromX: boxToX]\n",
        "  # Output RGB mean and variance\n",
        "  # One-dimensionalize with flatten and get average with mean\n",
        "  #m_b = imgBox.T [0] .flatten (). mean ()\n",
        "  #m_g = imgBox.T [1] .flatten (). mean ()\n",
        "  #m_r = imgBox.T [2] .flatten (). mean ()\n",
        "  # Get one-dimensional with flatten and get variance with variance\n",
        "  #v_b = imgBox.T [0] .flatten ()\n",
        "  #v_g = imgBox.T [1] .flatten ()\n",
        "  v_r = imgBox.T [2] .flatten ()\n",
        "  #v_b = variance (v_b)\n",
        "  #v_g = variance (v_g)\n",
        "  v_r = variance (v_r)\n",
        "  red_variance_val.append(v_r)"
      ],
      "execution_count": null,
      "outputs": []
    },
    {
      "cell_type": "code",
      "metadata": {
        "id": "69gkKPkih7cq"
      },
      "source": [
        "val_df['red_variance']=red_variance_val"
      ],
      "execution_count": null,
      "outputs": []
    },
    {
      "cell_type": "markdown",
      "metadata": {
        "id": "EpirtYxuiiEz"
      },
      "source": [
        "## Sorting based on the variance values"
      ]
    },
    {
      "cell_type": "code",
      "metadata": {
        "id": "owDMUbShie2G"
      },
      "source": [
        "train_df_sorted=train_df.sort_values(by=['red_variance'])\n",
        "val_df_sorted=val_df.sort_values(by=['red_variance'])"
      ],
      "execution_count": null,
      "outputs": []
    },
    {
      "cell_type": "code",
      "metadata": {
        "colab": {
          "base_uri": "https://localhost:8080/",
          "height": 195
        },
        "id": "J_ABMQeFjJa8",
        "outputId": "46a28022-8d0c-4cb6-c075-2bbc9e722beb"
      },
      "source": [
        "train_df_sorted.head()"
      ],
      "execution_count": null,
      "outputs": [
        {
          "output_type": "execute_result",
          "data": {
            "text/html": [
              "<div>\n",
              "<style scoped>\n",
              "    .dataframe tbody tr th:only-of-type {\n",
              "        vertical-align: middle;\n",
              "    }\n",
              "\n",
              "    .dataframe tbody tr th {\n",
              "        vertical-align: top;\n",
              "    }\n",
              "\n",
              "    .dataframe thead th {\n",
              "        text-align: right;\n",
              "    }\n",
              "</style>\n",
              "<table border=\"1\" class=\"dataframe\">\n",
              "  <thead>\n",
              "    <tr style=\"text-align: right;\">\n",
              "      <th></th>\n",
              "      <th>name</th>\n",
              "      <th>meta.clinical.benign_malignant</th>\n",
              "      <th>red_variance</th>\n",
              "    </tr>\n",
              "  </thead>\n",
              "  <tbody>\n",
              "    <tr>\n",
              "      <th>84</th>\n",
              "      <td>ISIC_0010528.jpg</td>\n",
              "      <td>1</td>\n",
              "      <td>217.709571</td>\n",
              "    </tr>\n",
              "    <tr>\n",
              "      <th>437</th>\n",
              "      <td>ISIC_0010345.jpg</td>\n",
              "      <td>1</td>\n",
              "      <td>287.484079</td>\n",
              "    </tr>\n",
              "    <tr>\n",
              "      <th>401</th>\n",
              "      <td>ISIC_0010611.jpg</td>\n",
              "      <td>0</td>\n",
              "      <td>303.224236</td>\n",
              "    </tr>\n",
              "    <tr>\n",
              "      <th>51</th>\n",
              "      <td>ISIC_0010424.jpg</td>\n",
              "      <td>1</td>\n",
              "      <td>327.323102</td>\n",
              "    </tr>\n",
              "    <tr>\n",
              "      <th>416</th>\n",
              "      <td>ISIC_0000298.jpg</td>\n",
              "      <td>0</td>\n",
              "      <td>343.044880</td>\n",
              "    </tr>\n",
              "  </tbody>\n",
              "</table>\n",
              "</div>"
            ],
            "text/plain": [
              "                 name meta.clinical.benign_malignant  red_variance\n",
              "84   ISIC_0010528.jpg                              1    217.709571\n",
              "437  ISIC_0010345.jpg                              1    287.484079\n",
              "401  ISIC_0010611.jpg                              0    303.224236\n",
              "51   ISIC_0010424.jpg                              1    327.323102\n",
              "416  ISIC_0000298.jpg                              0    343.044880"
            ]
          },
          "metadata": {
            "tags": []
          },
          "execution_count": 65
        }
      ]
    },
    {
      "cell_type": "code",
      "metadata": {
        "colab": {
          "base_uri": "https://localhost:8080/"
        },
        "id": "zbU_A6ERT3Ok",
        "outputId": "d3aa379c-94f5-47f0-e36c-1fff90581a5e"
      },
      "source": [
        "list(train_df_sorted)"
      ],
      "execution_count": null,
      "outputs": [
        {
          "output_type": "execute_result",
          "data": {
            "text/plain": [
              "['name', 'meta.clinical.benign_malignant', 'red_variance']"
            ]
          },
          "metadata": {
            "tags": []
          },
          "execution_count": 66
        }
      ]
    },
    {
      "cell_type": "code",
      "metadata": {
        "colab": {
          "base_uri": "https://localhost:8080/"
        },
        "id": "yPdXLn7QVAjz",
        "outputId": "6f8e67b5-006d-492e-a8a1-87c489a2ac5c"
      },
      "source": [
        "list(train_df_sorted['meta.clinical.benign_malignant'])"
      ],
      "execution_count": null,
      "outputs": [
        {
          "output_type": "execute_result",
          "data": {
            "text/plain": [
              "['1',\n",
              " '1',\n",
              " '0',\n",
              " '1',\n",
              " '0',\n",
              " '0',\n",
              " '1',\n",
              " '1',\n",
              " '1',\n",
              " '0',\n",
              " '1',\n",
              " '1',\n",
              " '1',\n",
              " '1',\n",
              " '0',\n",
              " '1',\n",
              " '1',\n",
              " '0',\n",
              " '1',\n",
              " '1',\n",
              " '1',\n",
              " '1',\n",
              " '1',\n",
              " '1',\n",
              " '0',\n",
              " '1',\n",
              " '1',\n",
              " '0',\n",
              " '1',\n",
              " '1',\n",
              " '1',\n",
              " '1',\n",
              " '1',\n",
              " '1',\n",
              " '1',\n",
              " '0',\n",
              " '1',\n",
              " '1',\n",
              " '0',\n",
              " '1',\n",
              " '1',\n",
              " '1',\n",
              " '1',\n",
              " '1',\n",
              " '1',\n",
              " '1',\n",
              " '1',\n",
              " '0',\n",
              " '1',\n",
              " '1',\n",
              " '1',\n",
              " '1',\n",
              " '1',\n",
              " '1',\n",
              " '1',\n",
              " '1',\n",
              " '0',\n",
              " '0',\n",
              " '0',\n",
              " '1',\n",
              " '1',\n",
              " '0',\n",
              " '1',\n",
              " '0',\n",
              " '0',\n",
              " '0',\n",
              " '0',\n",
              " '0',\n",
              " '0',\n",
              " '1',\n",
              " '0',\n",
              " '1',\n",
              " '1',\n",
              " '1',\n",
              " '1',\n",
              " '1',\n",
              " '1',\n",
              " '1',\n",
              " '1',\n",
              " '0',\n",
              " '1',\n",
              " '1',\n",
              " '1',\n",
              " '1',\n",
              " '1',\n",
              " '1',\n",
              " '0',\n",
              " '0',\n",
              " '1',\n",
              " '0',\n",
              " '1',\n",
              " '1',\n",
              " '1',\n",
              " '0',\n",
              " '0',\n",
              " '1',\n",
              " '1',\n",
              " '1',\n",
              " '0',\n",
              " '1',\n",
              " '1',\n",
              " '1',\n",
              " '1',\n",
              " '1',\n",
              " '1',\n",
              " '1',\n",
              " '1',\n",
              " '1',\n",
              " '1',\n",
              " '1',\n",
              " '0',\n",
              " '1',\n",
              " '1',\n",
              " '1',\n",
              " '1',\n",
              " '1',\n",
              " '1',\n",
              " '1',\n",
              " '1',\n",
              " '0',\n",
              " '1',\n",
              " '0',\n",
              " '1',\n",
              " '1',\n",
              " '1',\n",
              " '1',\n",
              " '1',\n",
              " '0',\n",
              " '1',\n",
              " '1',\n",
              " '1',\n",
              " '0',\n",
              " '1',\n",
              " '0',\n",
              " '0',\n",
              " '0',\n",
              " '1',\n",
              " '1',\n",
              " '1',\n",
              " '1',\n",
              " '1',\n",
              " '1',\n",
              " '1',\n",
              " '1',\n",
              " '1',\n",
              " '1',\n",
              " '1',\n",
              " '0',\n",
              " '1',\n",
              " '1',\n",
              " '0',\n",
              " '1',\n",
              " '1',\n",
              " '1',\n",
              " '0',\n",
              " '0',\n",
              " '1',\n",
              " '1',\n",
              " '1',\n",
              " '1',\n",
              " '0',\n",
              " '1',\n",
              " '1',\n",
              " '1',\n",
              " '1',\n",
              " '1',\n",
              " '0',\n",
              " '1',\n",
              " '0',\n",
              " '1',\n",
              " '1',\n",
              " '1',\n",
              " '0',\n",
              " '1',\n",
              " '1',\n",
              " '1',\n",
              " '1',\n",
              " '1',\n",
              " '1',\n",
              " '1',\n",
              " '1',\n",
              " '1',\n",
              " '1',\n",
              " '1',\n",
              " '1',\n",
              " '0',\n",
              " '1',\n",
              " '0',\n",
              " '1',\n",
              " '0',\n",
              " '1',\n",
              " '1',\n",
              " '1',\n",
              " '0',\n",
              " '0',\n",
              " '1',\n",
              " '0',\n",
              " '1',\n",
              " '1',\n",
              " '0',\n",
              " '0',\n",
              " '1',\n",
              " '1',\n",
              " '1',\n",
              " '0',\n",
              " '1',\n",
              " '1',\n",
              " '1',\n",
              " '1',\n",
              " '1',\n",
              " '0',\n",
              " '0',\n",
              " '1',\n",
              " '1',\n",
              " '1',\n",
              " '1',\n",
              " '1',\n",
              " '1',\n",
              " '0',\n",
              " '1',\n",
              " '1',\n",
              " '0',\n",
              " '1',\n",
              " '1',\n",
              " '1',\n",
              " '1',\n",
              " '1',\n",
              " '1',\n",
              " '1',\n",
              " '1',\n",
              " '1',\n",
              " '0',\n",
              " '1',\n",
              " '0',\n",
              " '1',\n",
              " '0',\n",
              " '1',\n",
              " '1',\n",
              " '1',\n",
              " '1',\n",
              " '0',\n",
              " '1',\n",
              " '1',\n",
              " '1',\n",
              " '1',\n",
              " '1',\n",
              " '1',\n",
              " '1',\n",
              " '1',\n",
              " '0',\n",
              " '1',\n",
              " '1',\n",
              " '1',\n",
              " '1',\n",
              " '1',\n",
              " '1',\n",
              " '1',\n",
              " '1',\n",
              " '0',\n",
              " '1',\n",
              " '1',\n",
              " '1',\n",
              " '1',\n",
              " '1',\n",
              " '0',\n",
              " '0',\n",
              " '0',\n",
              " '1',\n",
              " '0',\n",
              " '1',\n",
              " '1',\n",
              " '1',\n",
              " '0',\n",
              " '0',\n",
              " '0',\n",
              " '1',\n",
              " '0',\n",
              " '1',\n",
              " '0',\n",
              " '0',\n",
              " '1',\n",
              " '1',\n",
              " '0',\n",
              " '0',\n",
              " '1',\n",
              " '1',\n",
              " '1',\n",
              " '1',\n",
              " '0',\n",
              " '0',\n",
              " '1',\n",
              " '1',\n",
              " '1',\n",
              " '1',\n",
              " '1',\n",
              " '0',\n",
              " '1',\n",
              " '0',\n",
              " '1',\n",
              " '1',\n",
              " '1',\n",
              " '1',\n",
              " '0',\n",
              " '0',\n",
              " '1',\n",
              " '1',\n",
              " '1',\n",
              " '0',\n",
              " '1',\n",
              " '1',\n",
              " '0',\n",
              " '1',\n",
              " '1',\n",
              " '0',\n",
              " '1',\n",
              " '0',\n",
              " '1',\n",
              " '0',\n",
              " '1',\n",
              " '1',\n",
              " '1',\n",
              " '1',\n",
              " '0',\n",
              " '1',\n",
              " '1',\n",
              " '1',\n",
              " '1',\n",
              " '0',\n",
              " '1',\n",
              " '0',\n",
              " '1',\n",
              " '0',\n",
              " '1',\n",
              " '1',\n",
              " '1',\n",
              " '0',\n",
              " '1',\n",
              " '1',\n",
              " '1',\n",
              " '1',\n",
              " '0',\n",
              " '1',\n",
              " '0',\n",
              " '1',\n",
              " '0',\n",
              " '1',\n",
              " '0',\n",
              " '1',\n",
              " '1',\n",
              " '1',\n",
              " '1',\n",
              " '1',\n",
              " '0',\n",
              " '1',\n",
              " '1',\n",
              " '1',\n",
              " '1',\n",
              " '1',\n",
              " '0',\n",
              " '1',\n",
              " '0',\n",
              " '1',\n",
              " '0',\n",
              " '1',\n",
              " '0',\n",
              " '1',\n",
              " '1',\n",
              " '1',\n",
              " '1',\n",
              " '1',\n",
              " '0',\n",
              " '1',\n",
              " '1',\n",
              " '1',\n",
              " '1',\n",
              " '1',\n",
              " '0',\n",
              " '1',\n",
              " '1',\n",
              " '0',\n",
              " '0',\n",
              " '0',\n",
              " '1',\n",
              " '1',\n",
              " '1',\n",
              " '1',\n",
              " '1',\n",
              " '1',\n",
              " '0',\n",
              " '0',\n",
              " '1',\n",
              " '1',\n",
              " '1',\n",
              " '1',\n",
              " '1',\n",
              " '1',\n",
              " '0',\n",
              " '1',\n",
              " '1',\n",
              " '1',\n",
              " '0',\n",
              " '1',\n",
              " '1',\n",
              " '1',\n",
              " '1',\n",
              " '1',\n",
              " '1',\n",
              " '1',\n",
              " '0',\n",
              " '1',\n",
              " '1',\n",
              " '0',\n",
              " '0',\n",
              " '1',\n",
              " '0',\n",
              " '0',\n",
              " '1',\n",
              " '1',\n",
              " '1',\n",
              " '1',\n",
              " '0',\n",
              " '1',\n",
              " '1',\n",
              " '1',\n",
              " '0',\n",
              " '1',\n",
              " '1',\n",
              " '1',\n",
              " '0',\n",
              " '1',\n",
              " '1',\n",
              " '0',\n",
              " '1',\n",
              " '1',\n",
              " '1',\n",
              " '1',\n",
              " '1',\n",
              " '1',\n",
              " '1',\n",
              " '1',\n",
              " '0',\n",
              " '1',\n",
              " '1',\n",
              " '1',\n",
              " '1',\n",
              " '0',\n",
              " '1',\n",
              " '1',\n",
              " '0',\n",
              " '1',\n",
              " '1',\n",
              " '1',\n",
              " '0',\n",
              " '1',\n",
              " '0',\n",
              " '0',\n",
              " '1',\n",
              " '1',\n",
              " '1',\n",
              " '0',\n",
              " '0',\n",
              " '0',\n",
              " '1',\n",
              " '0',\n",
              " '1',\n",
              " '0',\n",
              " '1',\n",
              " '1',\n",
              " '0',\n",
              " '1',\n",
              " '0',\n",
              " '0',\n",
              " '0',\n",
              " '1',\n",
              " '0',\n",
              " '1',\n",
              " '1',\n",
              " '1',\n",
              " '0']"
            ]
          },
          "metadata": {
            "tags": []
          },
          "execution_count": 67
        }
      ]
    },
    {
      "cell_type": "code",
      "metadata": {
        "id": "MRKMR_gMT6tA"
      },
      "source": [
        "train_df_sorted['meta.clinical.benign_malignant']=train_df_sorted['meta.clinical.benign_malignant'].astype(str)\n",
        "val_df_sorted['meta.clinical.benign_malignant']=val_df_sorted['meta.clinical.benign_malignant'].astype(str)\n"
      ],
      "execution_count": null,
      "outputs": []
    },
    {
      "cell_type": "code",
      "metadata": {
        "id": "TalXWWfNWLZ3"
      },
      "source": [
        "#df[~df.C.str.contains(\"XYZ\")]\n",
        "train_df_sorted=train_df_sorted[~train_df_sorted['meta.clinical.benign_malignant'].str.contains('nan')]"
      ],
      "execution_count": null,
      "outputs": []
    },
    {
      "cell_type": "markdown",
      "metadata": {
        "id": "BM9ckIPRi5Ik"
      },
      "source": [
        "## Using new dataframes for the image generators"
      ]
    },
    {
      "cell_type": "code",
      "metadata": {
        "colab": {
          "base_uri": "https://localhost:8080/"
        },
        "id": "TrRdmvAJi3n0",
        "outputId": "e9993ab5-ea65-4285-a402-bb4df87150a7"
      },
      "source": [
        "train_generator_sorted=data_generator_with_aug.flow_from_dataframe(\n",
        "dataframe=train_df_sorted,\n",
        "directory=\"/content/Skin_data/train/data/\",\n",
        "x_col=\"name\",\n",
        "y_col=\"meta.clinical.benign_malignant\",\n",
        "subset=\"training\",\n",
        "batch_size=16,\n",
        "seed=42,\n",
        "shuffle=False,\n",
        "class_mode=\"categorical\",\n",
        "target_size=(150,150))"
      ],
      "execution_count": null,
      "outputs": [
        {
          "output_type": "stream",
          "text": [
            "Found 479 validated image filenames belonging to 2 classes.\n"
          ],
          "name": "stdout"
        }
      ]
    },
    {
      "cell_type": "code",
      "metadata": {
        "colab": {
          "base_uri": "https://localhost:8080/"
        },
        "id": "ro1g1AiyjO5m",
        "outputId": "a8a41258-e90a-472b-fc62-ed08ff825de9"
      },
      "source": [
        "val_generator_sorted=data_generator_with_aug.flow_from_dataframe(\n",
        "dataframe=val_df_sorted,\n",
        "directory=\"/content/Skin_data/val/data/\",\n",
        "x_col=\"name\",\n",
        "y_col=\"meta.clinical.benign_malignant\",\n",
        "batch_size=16,\n",
        "seed=42,\n",
        "shuffle=False,\n",
        "class_mode=\"categorical\",\n",
        "target_size=(150,150))"
      ],
      "execution_count": null,
      "outputs": [
        {
          "output_type": "stream",
          "text": [
            "Found 120 validated image filenames belonging to 2 classes.\n"
          ],
          "name": "stdout"
        }
      ]
    },
    {
      "cell_type": "markdown",
      "metadata": {
        "id": "a2W8hOg-jeBz"
      },
      "source": [
        "## Training model again"
      ]
    },
    {
      "cell_type": "code",
      "metadata": {
        "colab": {
          "base_uri": "https://localhost:8080/"
        },
        "id": "4n9iSBJDjcMm",
        "outputId": "f522c1b3-a6ee-4b84-a7aa-f8a2f4fe691c"
      },
      "source": [
        "history=model.fit(\n",
        "       train_generator_sorted, # specify where model gets training data\n",
        "       epochs = 20,\n",
        "       steps_per_epoch=STEPS,\n",
        "       validation_data=val_generator_sorted) # specify where model gets validation data\n",
        "\n",
        "# Evaluate the model\n",
        "scores = model.evaluate_generator(val_generator)\n",
        "print(\"\\n%s: %.2f%%\" % (model.metrics_names[1], scores[1]*100))"
      ],
      "execution_count": null,
      "outputs": [
        {
          "output_type": "stream",
          "text": [
            "Epoch 1/20\n",
            "29/29 [==============================] - 15s 487ms/step - loss: 0.6159 - accuracy: 0.7077 - val_loss: 1.0865 - val_accuracy: 0.5500\n",
            "Epoch 2/20\n",
            "29/29 [==============================] - 14s 482ms/step - loss: 0.6204 - accuracy: 0.7119 - val_loss: 1.3041 - val_accuracy: 0.2583\n",
            "Epoch 3/20\n",
            "29/29 [==============================] - 14s 475ms/step - loss: 0.5503 - accuracy: 0.7328 - val_loss: 1.1199 - val_accuracy: 0.3667\n",
            "Epoch 4/20\n",
            "29/29 [==============================] - 14s 478ms/step - loss: 0.6006 - accuracy: 0.7182 - val_loss: 1.0520 - val_accuracy: 0.4500\n",
            "Epoch 5/20\n",
            "29/29 [==============================] - 15s 502ms/step - loss: 0.5900 - accuracy: 0.6994 - val_loss: 0.8328 - val_accuracy: 0.7500\n",
            "Epoch 6/20\n",
            "29/29 [==============================] - 15s 498ms/step - loss: 0.5829 - accuracy: 0.7203 - val_loss: 0.6806 - val_accuracy: 0.6667\n",
            "Epoch 7/20\n",
            "29/29 [==============================] - 14s 470ms/step - loss: 0.5559 - accuracy: 0.7390 - val_loss: 0.8383 - val_accuracy: 0.7083\n",
            "Epoch 8/20\n",
            "29/29 [==============================] - 14s 479ms/step - loss: 0.5455 - accuracy: 0.7537 - val_loss: 0.9403 - val_accuracy: 0.7000\n",
            "Epoch 9/20\n",
            "29/29 [==============================] - 14s 477ms/step - loss: 0.5655 - accuracy: 0.7453 - val_loss: 0.5770 - val_accuracy: 0.7167\n",
            "Epoch 10/20\n",
            "29/29 [==============================] - 14s 485ms/step - loss: 0.5168 - accuracy: 0.7891 - val_loss: 0.6490 - val_accuracy: 0.7417\n",
            "Epoch 11/20\n",
            "29/29 [==============================] - 14s 474ms/step - loss: 0.5144 - accuracy: 0.7620 - val_loss: 0.6802 - val_accuracy: 0.7250\n",
            "Epoch 12/20\n",
            "29/29 [==============================] - 14s 479ms/step - loss: 0.5269 - accuracy: 0.7453 - val_loss: 0.6144 - val_accuracy: 0.7750\n",
            "Epoch 13/20\n",
            "29/29 [==============================] - 14s 478ms/step - loss: 0.4774 - accuracy: 0.7808 - val_loss: 0.7746 - val_accuracy: 0.6833\n",
            "Epoch 14/20\n",
            "29/29 [==============================] - 14s 483ms/step - loss: 0.4764 - accuracy: 0.7557 - val_loss: 1.0675 - val_accuracy: 0.5250\n",
            "Epoch 15/20\n",
            "29/29 [==============================] - 14s 479ms/step - loss: 0.5372 - accuracy: 0.7578 - val_loss: 0.7086 - val_accuracy: 0.6250\n",
            "Epoch 16/20\n",
            "29/29 [==============================] - 14s 479ms/step - loss: 0.4858 - accuracy: 0.7850 - val_loss: 0.7455 - val_accuracy: 0.7417\n",
            "Epoch 17/20\n",
            "29/29 [==============================] - 14s 475ms/step - loss: 0.4950 - accuracy: 0.7704 - val_loss: 0.6462 - val_accuracy: 0.7583\n",
            "Epoch 18/20\n",
            "29/29 [==============================] - 14s 477ms/step - loss: 0.4997 - accuracy: 0.7724 - val_loss: 1.0328 - val_accuracy: 0.7333\n",
            "Epoch 19/20\n",
            "29/29 [==============================] - 14s 475ms/step - loss: 0.4695 - accuracy: 0.7954 - val_loss: 0.8841 - val_accuracy: 0.5167\n",
            "Epoch 20/20\n",
            "29/29 [==============================] - 14s 482ms/step - loss: 0.4617 - accuracy: 0.8058 - val_loss: 1.0306 - val_accuracy: 0.6167\n"
          ],
          "name": "stdout"
        },
        {
          "output_type": "stream",
          "text": [
            "/usr/local/lib/python3.7/dist-packages/tensorflow/python/keras/engine/training.py:1877: UserWarning: `Model.evaluate_generator` is deprecated and will be removed in a future version. Please use `Model.evaluate`, which supports generators.\n",
            "  warnings.warn('`Model.evaluate_generator` is deprecated and '\n"
          ],
          "name": "stderr"
        },
        {
          "output_type": "stream",
          "text": [
            "\n",
            "accuracy: 64.17%\n"
          ],
          "name": "stdout"
        }
      ]
    },
    {
      "cell_type": "code",
      "metadata": {
        "id": "yLolVTYabBtu"
      },
      "source": [
        "model.save('/content/drive/MyDrive/CurriculumLearning/CurriculumLearningSkinISIC_part2.h5')"
      ],
      "execution_count": null,
      "outputs": []
    },
    {
      "cell_type": "code",
      "metadata": {
        "colab": {
          "base_uri": "https://localhost:8080/",
          "height": 241
        },
        "id": "HMpTtH8KVal_",
        "outputId": "2634fc3a-a1a4-40b5-897b-440cbb5a4811"
      },
      "source": [
        "fig, ax = plt.subplots(1, 2, figsize=(10, 3))\n",
        "ax = ax.ravel()\n",
        "\n",
        "for i, met in enumerate(['accuracy', 'loss']):\n",
        "    ax[i].plot(history.history[met])\n",
        "    ax[i].plot(history.history['val_' + met])\n",
        "    ax[i].set_title('Model {}'.format(met))\n",
        "    ax[i].set_xlabel('epochs')\n",
        "    ax[i].set_ylabel(met)\n",
        "    ax[i].legend(['train', 'val'])"
      ],
      "execution_count": null,
      "outputs": [
        {
          "output_type": "display_data",
          "data": {
            "image/png": "[encoded data removed]",
            "text/plain": [
              "<Figure size 720x216 with 2 Axes>"
            ]
          },
          "metadata": {
            "tags": [],
            "needs_background": "light"
          }
        }
      ]
    },
    {
      "cell_type": "markdown",
      "metadata": {
        "id": "IKZHi8bATFb_"
      },
      "source": [
        "# 2nd Iteration of Curriculum Learning"
      ]
    },
    {
      "cell_type": "markdown",
      "metadata": {
        "id": "E8nIepjxQGA3"
      },
      "source": [
        "## Heatmap Variance 2"
      ]
    },
    {
      "cell_type": "markdown",
      "metadata": {
        "id": "O4P0Maf4QME5"
      },
      "source": [
        "### Train data"
      ]
    },
    {
      "cell_type": "code",
      "metadata": {
        "id": "ou7x12sDjoVN"
      },
      "source": [
        "red_variance_train.clear()"
      ],
      "execution_count": null,
      "outputs": []
    },
    {
      "cell_type": "code",
      "metadata": {
        "colab": {
          "base_uri": "https://localhost:8080/",
          "height": 195
        },
        "id": "565a9XXeui-c",
        "outputId": "03e23eb3-b066-4aee-be37-c275b8663dc2"
      },
      "source": [
        "train_df_sorted.head()"
      ],
      "execution_count": null,
      "outputs": [
        {
          "output_type": "execute_result",
          "data": {
            "text/html": [
              "<div>\n",
              "<style scoped>\n",
              "    .dataframe tbody tr th:only-of-type {\n",
              "        vertical-align: middle;\n",
              "    }\n",
              "\n",
              "    .dataframe tbody tr th {\n",
              "        vertical-align: top;\n",
              "    }\n",
              "\n",
              "    .dataframe thead th {\n",
              "        text-align: right;\n",
              "    }\n",
              "</style>\n",
              "<table border=\"1\" class=\"dataframe\">\n",
              "  <thead>\n",
              "    <tr style=\"text-align: right;\">\n",
              "      <th></th>\n",
              "      <th>name</th>\n",
              "      <th>meta.clinical.benign_malignant</th>\n",
              "      <th>red_variance</th>\n",
              "    </tr>\n",
              "  </thead>\n",
              "  <tbody>\n",
              "    <tr>\n",
              "      <th>84</th>\n",
              "      <td>ISIC_0010528.jpg</td>\n",
              "      <td>1</td>\n",
              "      <td>217.709571</td>\n",
              "    </tr>\n",
              "    <tr>\n",
              "      <th>437</th>\n",
              "      <td>ISIC_0010345.jpg</td>\n",
              "      <td>1</td>\n",
              "      <td>287.484079</td>\n",
              "    </tr>\n",
              "    <tr>\n",
              "      <th>401</th>\n",
              "      <td>ISIC_0010611.jpg</td>\n",
              "      <td>0</td>\n",
              "      <td>303.224236</td>\n",
              "    </tr>\n",
              "    <tr>\n",
              "      <th>51</th>\n",
              "      <td>ISIC_0010424.jpg</td>\n",
              "      <td>1</td>\n",
              "      <td>327.323102</td>\n",
              "    </tr>\n",
              "    <tr>\n",
              "      <th>416</th>\n",
              "      <td>ISIC_0000298.jpg</td>\n",
              "      <td>0</td>\n",
              "      <td>343.044880</td>\n",
              "    </tr>\n",
              "  </tbody>\n",
              "</table>\n",
              "</div>"
            ],
            "text/plain": [
              "                 name meta.clinical.benign_malignant  red_variance\n",
              "84   ISIC_0010528.jpg                              1    217.709571\n",
              "437  ISIC_0010345.jpg                              1    287.484079\n",
              "401  ISIC_0010611.jpg                              0    303.224236\n",
              "51   ISIC_0010424.jpg                              1    327.323102\n",
              "416  ISIC_0000298.jpg                              0    343.044880"
            ]
          },
          "metadata": {
            "tags": []
          },
          "execution_count": 75
        }
      ]
    },
    {
      "cell_type": "code",
      "metadata": {
        "colab": {
          "base_uri": "https://localhost:8080/",
          "height": 195
        },
        "id": "p9J_6fEnGykz",
        "outputId": "843a93f4-f54f-42da-c09e-2686dd26e21e"
      },
      "source": [
        "train_df.head()"
      ],
      "execution_count": null,
      "outputs": [
        {
          "output_type": "execute_result",
          "data": {
            "text/html": [
              "<div>\n",
              "<style scoped>\n",
              "    .dataframe tbody tr th:only-of-type {\n",
              "        vertical-align: middle;\n",
              "    }\n",
              "\n",
              "    .dataframe tbody tr th {\n",
              "        vertical-align: top;\n",
              "    }\n",
              "\n",
              "    .dataframe thead th {\n",
              "        text-align: right;\n",
              "    }\n",
              "</style>\n",
              "<table border=\"1\" class=\"dataframe\">\n",
              "  <thead>\n",
              "    <tr style=\"text-align: right;\">\n",
              "      <th></th>\n",
              "      <th>name</th>\n",
              "      <th>meta.clinical.benign_malignant</th>\n",
              "      <th>red_variance</th>\n",
              "    </tr>\n",
              "  </thead>\n",
              "  <tbody>\n",
              "    <tr>\n",
              "      <th>0</th>\n",
              "      <td>ISIC_0010501.jpg</td>\n",
              "      <td>1</td>\n",
              "      <td>1738.929163</td>\n",
              "    </tr>\n",
              "    <tr>\n",
              "      <th>1</th>\n",
              "      <td>ISIC_0010582.jpg</td>\n",
              "      <td>1</td>\n",
              "      <td>939.483954</td>\n",
              "    </tr>\n",
              "    <tr>\n",
              "      <th>2</th>\n",
              "      <td>ISIC_0000172.jpg</td>\n",
              "      <td>0</td>\n",
              "      <td>2465.009923</td>\n",
              "    </tr>\n",
              "    <tr>\n",
              "      <th>3</th>\n",
              "      <td>ISIC_0010516.jpg</td>\n",
              "      <td>0</td>\n",
              "      <td>886.347001</td>\n",
              "    </tr>\n",
              "    <tr>\n",
              "      <th>4</th>\n",
              "      <td>ISIC_0000264.jpg</td>\n",
              "      <td>1</td>\n",
              "      <td>2669.259538</td>\n",
              "    </tr>\n",
              "  </tbody>\n",
              "</table>\n",
              "</div>"
            ],
            "text/plain": [
              "               name meta.clinical.benign_malignant  red_variance\n",
              "0  ISIC_0010501.jpg                              1   1738.929163\n",
              "1  ISIC_0010582.jpg                              1    939.483954\n",
              "2  ISIC_0000172.jpg                              0   2465.009923\n",
              "3  ISIC_0010516.jpg                              0    886.347001\n",
              "4  ISIC_0000264.jpg                              1   2669.259538"
            ]
          },
          "metadata": {
            "tags": []
          },
          "execution_count": 76
        }
      ]
    },
    {
      "cell_type": "code",
      "metadata": {
        "id": "oX-Jp1NwRWYz"
      },
      "source": [
        "del train_df_sorted['red_variance']"
      ],
      "execution_count": null,
      "outputs": []
    },
    {
      "cell_type": "code",
      "metadata": {
        "id": "Qy5NFoQjyCqK"
      },
      "source": [
        "train_name_list=train_df_sorted['name'].to_list()\n",
        "#train_name_list=train_df['Image'].to_list()"
      ],
      "execution_count": null,
      "outputs": []
    },
    {
      "cell_type": "code",
      "metadata": {
        "colab": {
          "base_uri": "https://localhost:8080/"
        },
        "id": "oBnzmsIusuBO",
        "outputId": "f47bb121-8b79-4fe6-a58d-1a75a14d9507"
      },
      "source": [
        "train_name_list"
      ],
      "execution_count": null,
      "outputs": [
        {
          "output_type": "execute_result",
          "data": {
            "text/plain": [
              "['ISIC_0010528.jpg',\n",
              " 'ISIC_0010345.jpg',\n",
              " 'ISIC_0010611.jpg',\n",
              " 'ISIC_0010424.jpg',\n",
              " 'ISIC_0000298.jpg',\n",
              " 'ISIC_0010466.jpg',\n",
              " 'ISIC_0010512.jpg',\n",
              " 'ISIC_0010518.jpg',\n",
              " 'ISIC_0010617.jpg',\n",
              " 'ISIC_0010372.jpg',\n",
              " 'ISIC_0010613.jpg',\n",
              " 'ISIC_0010565.jpg',\n",
              " 'ISIC_0010434.jpg',\n",
              " 'ISIC_0010363.jpg',\n",
              " 'ISIC_0010551.jpg',\n",
              " 'ISIC_0010467.jpg',\n",
              " 'ISIC_0000024.jpg',\n",
              " 'ISIC_0010476.jpg',\n",
              " 'ISIC_0010395.jpg',\n",
              " 'ISIC_0010530.jpg',\n",
              " 'ISIC_0010529.jpg',\n",
              " 'ISIC_0000102.jpg',\n",
              " 'ISIC_0000050.jpg',\n",
              " 'ISIC_0010405.jpg',\n",
              " 'ISIC_0000026.jpg',\n",
              " 'ISIC_0010456.jpg',\n",
              " 'ISIC_0010357.jpg',\n",
              " 'ISIC_0010441.jpg',\n",
              " 'ISIC_0010324.jpg',\n",
              " 'ISIC_0010499.jpg',\n",
              " 'ISIC_0010347.jpg',\n",
              " 'ISIC_0010569.jpg',\n",
              " 'ISIC_0010444.jpg',\n",
              " 'ISIC_0010557.jpg',\n",
              " 'ISIC_0010563.jpg',\n",
              " 'ISIC_0010478.jpg',\n",
              " 'ISIC_0010438.jpg',\n",
              " 'ISIC_0000010.jpg',\n",
              " 'ISIC_0010609.jpg',\n",
              " 'ISIC_0010601.jpg',\n",
              " 'ISIC_0010542.jpg',\n",
              " 'ISIC_0010584.jpg',\n",
              " 'ISIC_0010453.jpg',\n",
              " 'ISIC_0010431.jpg',\n",
              " 'ISIC_0010545.jpg',\n",
              " 'ISIC_0000033.jpg',\n",
              " 'ISIC_0010506.jpg',\n",
              " 'ISIC_0010379.jpg',\n",
              " 'ISIC_0010421.jpg',\n",
              " 'ISIC_0010458.jpg',\n",
              " 'ISIC_0010507.jpg',\n",
              " 'ISIC_0010406.jpg',\n",
              " 'ISIC_0010328.jpg',\n",
              " 'ISIC_0010590.jpg',\n",
              " 'ISIC_0010422.jpg',\n",
              " 'ISIC_0010562.jpg',\n",
              " 'ISIC_0010468.jpg',\n",
              " 'ISIC_0010546.jpg',\n",
              " 'ISIC_0010485.jpg',\n",
              " 'ISIC_0010323.jpg',\n",
              " 'ISIC_0000062.jpg',\n",
              " 'ISIC_0010426.jpg',\n",
              " 'ISIC_0010481.jpg',\n",
              " 'ISIC_0010591.jpg',\n",
              " 'ISIC_0010533.jpg',\n",
              " 'ISIC_0010532.jpg',\n",
              " 'ISIC_0010398.jpg',\n",
              " 'ISIC_0010396.jpg',\n",
              " 'ISIC_0010380.jpg',\n",
              " 'ISIC_0000132.jpg',\n",
              " 'ISIC_0010414.jpg',\n",
              " 'ISIC_0010487.jpg',\n",
              " 'ISIC_0010510.jpg',\n",
              " 'ISIC_0010404.jpg',\n",
              " 'ISIC_0010574.jpg',\n",
              " 'ISIC_0010475.jpg',\n",
              " 'ISIC_0010515.jpg',\n",
              " 'ISIC_0000027.jpg',\n",
              " 'ISIC_0010370.jpg',\n",
              " 'ISIC_0010355.jpg',\n",
              " 'ISIC_0010607.jpg',\n",
              " 'ISIC_0010605.jpg',\n",
              " 'ISIC_0000114.jpg',\n",
              " 'ISIC_0010445.jpg',\n",
              " 'ISIC_0000110.jpg',\n",
              " 'ISIC_0010504.jpg',\n",
              " 'ISIC_0010322.jpg',\n",
              " 'ISIC_0010482.jpg',\n",
              " 'ISIC_0000091.jpg',\n",
              " 'ISIC_0010423.jpg',\n",
              " 'ISIC_0000023.jpg',\n",
              " 'ISIC_0010535.jpg',\n",
              " 'ISIC_0000127.jpg',\n",
              " 'ISIC_0010579.jpg',\n",
              " 'ISIC_0000278.jpg',\n",
              " 'ISIC_0010578.jpg',\n",
              " 'ISIC_0010538.jpg',\n",
              " 'ISIC_0010362.jpg',\n",
              " 'ISIC_0010583.jpg',\n",
              " 'ISIC_0010517.jpg',\n",
              " 'ISIC_0010612.jpg',\n",
              " 'ISIC_0010352.jpg',\n",
              " 'ISIC_0010435.jpg',\n",
              " 'ISIC_0010326.jpg',\n",
              " 'ISIC_0000106.jpg',\n",
              " 'ISIC_0010450.jpg',\n",
              " 'ISIC_0000041.jpg',\n",
              " 'ISIC_0010383.jpg',\n",
              " 'ISIC_0010489.jpg',\n",
              " 'ISIC_0010549.jpg',\n",
              " 'ISIC_0010364.jpg',\n",
              " 'ISIC_0010600.jpg',\n",
              " 'ISIC_0010337.jpg',\n",
              " 'ISIC_0010560.jpg',\n",
              " 'ISIC_0010471.jpg',\n",
              " 'ISIC_0000094.jpg',\n",
              " 'ISIC_0010513.jpg',\n",
              " 'ISIC_0010440.jpg',\n",
              " 'ISIC_0010332.jpg',\n",
              " 'ISIC_0010407.jpg',\n",
              " 'ISIC_0000021.jpg',\n",
              " 'ISIC_0000296.jpg',\n",
              " 'ISIC_0000193.jpg',\n",
              " 'ISIC_0010484.jpg',\n",
              " 'ISIC_0010403.jpg',\n",
              " 'ISIC_0010461.jpg',\n",
              " 'ISIC_0010556.jpg',\n",
              " 'ISIC_0010534.jpg',\n",
              " 'ISIC_0010479.jpg',\n",
              " 'ISIC_0000001.jpg',\n",
              " 'ISIC_0010439.jpg',\n",
              " 'ISIC_0010503.jpg',\n",
              " 'ISIC_0010367.jpg',\n",
              " 'ISIC_0010516.jpg',\n",
              " 'ISIC_0010527.jpg',\n",
              " 'ISIC_0000040.jpg',\n",
              " 'ISIC_0000112.jpg',\n",
              " 'ISIC_0000270.jpg',\n",
              " 'ISIC_0010511.jpg',\n",
              " 'ISIC_0010351.jpg',\n",
              " 'ISIC_0010418.jpg',\n",
              " 'ISIC_0010524.jpg',\n",
              " 'ISIC_0010382.jpg',\n",
              " 'ISIC_0000178.jpg',\n",
              " 'ISIC_0000245.jpg',\n",
              " 'ISIC_0010544.jpg',\n",
              " 'ISIC_0000122.jpg',\n",
              " 'ISIC_0010385.jpg',\n",
              " 'ISIC_0000260.jpg',\n",
              " 'ISIC_0010586.jpg',\n",
              " 'ISIC_0010610.jpg',\n",
              " 'ISIC_0010582.jpg',\n",
              " 'ISIC_0010490.jpg',\n",
              " 'ISIC_0000105.jpg',\n",
              " 'ISIC_0000151.jpg',\n",
              " 'ISIC_0000295.jpg',\n",
              " 'ISIC_0000192.jpg',\n",
              " 'ISIC_0000272.jpg',\n",
              " 'ISIC_0000125.jpg',\n",
              " 'ISIC_0010348.jpg',\n",
              " 'ISIC_0010469.jpg',\n",
              " 'ISIC_0010567.jpg',\n",
              " 'ISIC_0000096.jpg',\n",
              " 'ISIC_0010472.jpg',\n",
              " 'ISIC_0000198.jpg',\n",
              " 'ISIC_0010346.jpg',\n",
              " 'ISIC_0000147.jpg',\n",
              " 'ISIC_0010539.jpg',\n",
              " 'ISIC_0010400.jpg',\n",
              " 'ISIC_0010448.jpg',\n",
              " 'ISIC_0000186.jpg',\n",
              " 'ISIC_0000032.jpg',\n",
              " 'ISIC_0010550.jpg',\n",
              " 'ISIC_0010425.jpg',\n",
              " 'ISIC_0000211.jpg',\n",
              " 'ISIC_0000262.jpg',\n",
              " 'ISIC_0010474.jpg',\n",
              " 'ISIC_0000092.jpg',\n",
              " 'ISIC_0010592.jpg',\n",
              " 'ISIC_0010365.jpg',\n",
              " 'ISIC_0000235.jpg',\n",
              " 'ISIC_0010502.jpg',\n",
              " 'ISIC_0000058.jpg',\n",
              " 'ISIC_0000194.jpg',\n",
              " 'ISIC_0000248.jpg',\n",
              " 'ISIC_0000164.jpg',\n",
              " 'ISIC_0000089.jpg',\n",
              " 'ISIC_0000299.jpg',\n",
              " 'ISIC_0010614.jpg',\n",
              " 'ISIC_0010432.jpg',\n",
              " 'ISIC_0010465.jpg',\n",
              " 'ISIC_0010616.jpg',\n",
              " 'ISIC_0010568.jpg',\n",
              " 'ISIC_0000056.jpg',\n",
              " 'ISIC_0010359.jpg',\n",
              " 'ISIC_0000014.jpg',\n",
              " 'ISIC_0010321.jpg',\n",
              " 'ISIC_0010336.jpg',\n",
              " 'ISIC_0010496.jpg',\n",
              " 'ISIC_0010555.jpg',\n",
              " 'ISIC_0000154.jpg',\n",
              " 'ISIC_0010344.jpg',\n",
              " 'ISIC_0000267.jpg',\n",
              " 'ISIC_0000265.jpg',\n",
              " 'ISIC_0000176.jpg',\n",
              " 'ISIC_0000246.jpg',\n",
              " 'ISIC_0010618.jpg',\n",
              " 'ISIC_0000020.jpg',\n",
              " 'ISIC_0000225.jpg',\n",
              " 'ISIC_0010330.jpg',\n",
              " 'ISIC_0010564.jpg',\n",
              " 'ISIC_0000022.jpg',\n",
              " 'ISIC_0000079.jpg',\n",
              " 'ISIC_0010390.jpg',\n",
              " 'ISIC_0000006.jpg',\n",
              " 'ISIC_0000119.jpg',\n",
              " 'ISIC_0010436.jpg',\n",
              " 'ISIC_0010320.jpg',\n",
              " 'ISIC_0010596.jpg',\n",
              " 'ISIC_0010378.jpg',\n",
              " 'ISIC_0010505.jpg',\n",
              " 'ISIC_0000078.jpg',\n",
              " 'ISIC_0010446.jpg',\n",
              " 'ISIC_0010494.jpg',\n",
              " 'ISIC_0010520.jpg',\n",
              " 'ISIC_0010509.jpg',\n",
              " 'ISIC_0010585.jpg',\n",
              " 'ISIC_0010371.jpg',\n",
              " 'ISIC_0000048.jpg',\n",
              " 'ISIC_0010525.jpg',\n",
              " 'ISIC_0010443.jpg',\n",
              " 'ISIC_0010358.jpg',\n",
              " 'ISIC_0010473.jpg',\n",
              " 'ISIC_0010415.jpg',\n",
              " 'ISIC_0000128.jpg',\n",
              " 'ISIC_0000292.jpg',\n",
              " 'ISIC_0000179.jpg',\n",
              " 'ISIC_0010500.jpg',\n",
              " 'ISIC_0000256.jpg',\n",
              " 'ISIC_0010572.jpg',\n",
              " 'ISIC_0010391.jpg',\n",
              " 'ISIC_0010553.jpg',\n",
              " 'ISIC_0010594.jpg',\n",
              " 'ISIC_0000084.jpg',\n",
              " 'ISIC_0010615.jpg',\n",
              " 'ISIC_0010373.jpg',\n",
              " 'ISIC_0000095.jpg',\n",
              " 'ISIC_0000131.jpg',\n",
              " 'ISIC_0010497.jpg',\n",
              " 'ISIC_0010576.jpg',\n",
              " 'ISIC_0000085.jpg',\n",
              " 'ISIC_0000093.jpg',\n",
              " 'ISIC_0000135.jpg',\n",
              " 'ISIC_0010354.jpg',\n",
              " 'ISIC_0000257.jpg',\n",
              " 'ISIC_0010477.jpg',\n",
              " 'ISIC_0010331.jpg',\n",
              " 'ISIC_0000115.jpg',\n",
              " 'ISIC_0000144.jpg',\n",
              " 'ISIC_0010573.jpg',\n",
              " 'ISIC_0000177.jpg',\n",
              " 'ISIC_0000220.jpg',\n",
              " 'ISIC_0000261.jpg',\n",
              " 'ISIC_0000126.jpg',\n",
              " 'ISIC_0000141.jpg',\n",
              " 'ISIC_0000148.jpg',\n",
              " 'ISIC_0010413.jpg',\n",
              " 'ISIC_0000138.jpg',\n",
              " 'ISIC_0000167.jpg',\n",
              " 'ISIC_0000009.jpg',\n",
              " 'ISIC_0000206.jpg',\n",
              " 'ISIC_0010368.jpg',\n",
              " 'ISIC_0010402.jpg',\n",
              " 'ISIC_0010397.jpg',\n",
              " 'ISIC_0000168.jpg',\n",
              " 'ISIC_0000191.jpg',\n",
              " 'ISIC_0000143.jpg',\n",
              " 'ISIC_0000250.jpg',\n",
              " 'ISIC_0010329.jpg',\n",
              " 'ISIC_0010548.jpg',\n",
              " 'ISIC_0000007.jpg',\n",
              " 'ISIC_0000117.jpg',\n",
              " 'ISIC_0010536.jpg',\n",
              " 'ISIC_0010597.jpg',\n",
              " 'ISIC_0000053.jpg',\n",
              " 'ISIC_0010447.jpg',\n",
              " 'ISIC_0000108.jpg',\n",
              " 'ISIC_0000124.jpg',\n",
              " 'ISIC_0010350.jpg',\n",
              " 'ISIC_0010411.jpg',\n",
              " 'ISIC_0000238.jpg',\n",
              " 'ISIC_0010552.jpg',\n",
              " 'ISIC_0010419.jpg',\n",
              " 'ISIC_0010540.jpg',\n",
              " 'ISIC_0000210.jpg',\n",
              " 'ISIC_0000157.jpg',\n",
              " 'ISIC_0000083.jpg',\n",
              " 'ISIC_0000297.jpg',\n",
              " 'ISIC_0000116.jpg',\n",
              " 'ISIC_0010606.jpg',\n",
              " 'ISIC_0000028.jpg',\n",
              " 'ISIC_0010523.jpg',\n",
              " 'ISIC_0010417.jpg',\n",
              " 'ISIC_0010369.jpg',\n",
              " 'ISIC_0000188.jpg',\n",
              " 'ISIC_0000047.jpg',\n",
              " 'ISIC_0010501.jpg',\n",
              " 'ISIC_0000077.jpg',\n",
              " 'ISIC_0000015.jpg',\n",
              " 'ISIC_0000273.jpg',\n",
              " 'ISIC_0000076.jpg',\n",
              " 'ISIC_0000244.jpg',\n",
              " 'ISIC_0010599.jpg',\n",
              " 'ISIC_0010543.jpg',\n",
              " 'ISIC_0000258.jpg',\n",
              " 'ISIC_0000173.jpg',\n",
              " 'ISIC_0000086.jpg',\n",
              " 'ISIC_0010325.jpg',\n",
              " 'ISIC_0010541.jpg',\n",
              " 'ISIC_0000061.jpg',\n",
              " 'ISIC_0010353.jpg',\n",
              " 'ISIC_0000240.jpg',\n",
              " 'ISIC_0000049.jpg',\n",
              " 'ISIC_0000203.jpg',\n",
              " 'ISIC_0000266.jpg',\n",
              " 'ISIC_0000059.jpg',\n",
              " 'ISIC_0000184.jpg',\n",
              " 'ISIC_0000031.jpg',\n",
              " 'ISIC_0000067.jpg',\n",
              " 'ISIC_0000139.jpg',\n",
              " 'ISIC_0000019.jpg',\n",
              " 'ISIC_0000285.jpg',\n",
              " 'ISIC_0010389.jpg',\n",
              " 'ISIC_0000090.jpg',\n",
              " 'ISIC_0000065.jpg',\n",
              " 'ISIC_0010587.jpg',\n",
              " 'ISIC_0000251.jpg',\n",
              " 'ISIC_0000207.jpg',\n",
              " 'ISIC_0000118.jpg',\n",
              " 'ISIC_0010480.jpg',\n",
              " 'ISIC_0000142.jpg',\n",
              " 'ISIC_0010408.jpg',\n",
              " 'ISIC_0010454.jpg',\n",
              " 'ISIC_0000241.jpg',\n",
              " 'ISIC_0000163.jpg',\n",
              " 'ISIC_0000087.jpg',\n",
              " 'ISIC_0000150.jpg',\n",
              " 'ISIC_0000183.jpg',\n",
              " 'ISIC_0010459.jpg',\n",
              " 'ISIC_0000253.jpg',\n",
              " 'ISIC_0000223.jpg',\n",
              " 'ISIC_0000123.jpg',\n",
              " 'ISIC_0010401.jpg',\n",
              " 'ISIC_0000088.jpg',\n",
              " 'ISIC_0010575.jpg',\n",
              " 'ISIC_0000011.jpg',\n",
              " 'ISIC_0000187.jpg',\n",
              " 'ISIC_0000199.jpg',\n",
              " 'ISIC_0000149.jpg',\n",
              " 'ISIC_0000208.jpg',\n",
              " 'ISIC_0000289.jpg',\n",
              " 'ISIC_0010427.jpg',\n",
              " 'ISIC_0000156.jpg',\n",
              " 'ISIC_0000072.jpg',\n",
              " 'ISIC_0000035.jpg',\n",
              " 'ISIC_0010399.jpg',\n",
              " 'ISIC_0010570.jpg',\n",
              " 'ISIC_0000232.jpg',\n",
              " 'ISIC_0000181.jpg',\n",
              " 'ISIC_0000202.jpg',\n",
              " 'ISIC_0010392.jpg',\n",
              " 'ISIC_0010571.jpg',\n",
              " 'ISIC_0010603.jpg',\n",
              " 'ISIC_0000227.jpg',\n",
              " 'ISIC_0010595.jpg',\n",
              " 'ISIC_0000255.jpg',\n",
              " 'ISIC_0010608.jpg',\n",
              " 'ISIC_0000042.jpg',\n",
              " 'ISIC_0000034.jpg',\n",
              " 'ISIC_0000165.jpg',\n",
              " 'ISIC_0000279.jpg',\n",
              " 'ISIC_0000280.jpg',\n",
              " 'ISIC_0010449.jpg',\n",
              " 'ISIC_0000097.jpg',\n",
              " 'ISIC_0010442.jpg',\n",
              " 'ISIC_0010342.jpg',\n",
              " 'ISIC_0000228.jpg',\n",
              " 'ISIC_0000254.jpg',\n",
              " 'ISIC_0000152.jpg',\n",
              " 'ISIC_0000146.jpg',\n",
              " 'ISIC_0000182.jpg',\n",
              " 'ISIC_0000230.jpg',\n",
              " 'ISIC_0010429.jpg',\n",
              " 'ISIC_0000064.jpg',\n",
              " 'ISIC_0000103.jpg',\n",
              " 'ISIC_0000137.jpg',\n",
              " 'ISIC_0000172.jpg',\n",
              " 'ISIC_0010386.jpg',\n",
              " 'ISIC_0010547.jpg',\n",
              " 'ISIC_0000052.jpg',\n",
              " 'ISIC_0000162.jpg',\n",
              " 'ISIC_0000082.jpg',\n",
              " 'ISIC_0000221.jpg',\n",
              " 'ISIC_0000197.jpg',\n",
              " 'ISIC_0000130.jpg',\n",
              " 'ISIC_0010452.jpg',\n",
              " 'ISIC_0000190.jpg',\n",
              " 'ISIC_0000237.jpg',\n",
              " 'ISIC_0000293.jpg',\n",
              " 'ISIC_0000226.jpg',\n",
              " 'ISIC_0000242.jpg',\n",
              " 'ISIC_0000145.jpg',\n",
              " 'ISIC_0010416.jpg',\n",
              " 'ISIC_0010340.jpg',\n",
              " 'ISIC_0000002.jpg',\n",
              " 'ISIC_0000030.jpg',\n",
              " 'ISIC_0000005.jpg',\n",
              " 'ISIC_0000233.jpg',\n",
              " 'ISIC_0000264.jpg',\n",
              " 'ISIC_0010463.jpg',\n",
              " 'ISIC_0000288.jpg',\n",
              " 'ISIC_0000104.jpg',\n",
              " 'ISIC_0000063.jpg',\n",
              " 'ISIC_0000224.jpg',\n",
              " 'ISIC_0000284.jpg',\n",
              " 'ISIC_0000195.jpg',\n",
              " 'ISIC_0000243.jpg',\n",
              " 'ISIC_0010521.jpg',\n",
              " 'ISIC_0000074.jpg',\n",
              " 'ISIC_0010522.jpg',\n",
              " 'ISIC_0000217.jpg',\n",
              " 'ISIC_0000160.jpg',\n",
              " 'ISIC_0000008.jpg',\n",
              " 'ISIC_0000231.jpg',\n",
              " 'ISIC_0010493.jpg',\n",
              " 'ISIC_0000101.jpg',\n",
              " 'ISIC_0000249.jpg',\n",
              " 'ISIC_0000071.jpg',\n",
              " 'ISIC_0000275.jpg',\n",
              " 'ISIC_0000039.jpg',\n",
              " 'ISIC_0000286.jpg',\n",
              " 'ISIC_0000120.jpg',\n",
              " 'ISIC_0000214.jpg',\n",
              " 'ISIC_0000075.jpg',\n",
              " 'ISIC_0000229.jpg',\n",
              " 'ISIC_0000282.jpg',\n",
              " 'ISIC_0000037.jpg',\n",
              " 'ISIC_0000216.jpg',\n",
              " 'ISIC_0000158.jpg',\n",
              " 'ISIC_0000222.jpg',\n",
              " 'ISIC_0010374.jpg',\n",
              " 'ISIC_0000100.jpg',\n",
              " 'ISIC_0000171.jpg',\n",
              " 'ISIC_0000215.jpg',\n",
              " 'ISIC_0000166.jpg',\n",
              " 'ISIC_0000004.jpg',\n",
              " 'ISIC_0000212.jpg',\n",
              " 'ISIC_0000038.jpg',\n",
              " 'ISIC_0000269.jpg',\n",
              " 'ISIC_0000276.jpg',\n",
              " 'ISIC_0000277.jpg',\n",
              " 'ISIC_0000013.jpg',\n",
              " 'ISIC_0000016.jpg',\n",
              " 'ISIC_0000140.jpg',\n",
              " 'ISIC_0000003.jpg',\n",
              " 'ISIC_0000281.jpg',\n",
              " 'ISIC_0000236.jpg',\n",
              " 'ISIC_0000045.jpg',\n",
              " 'ISIC_0000161.jpg',\n",
              " 'ISIC_0000274.jpg',\n",
              " 'ISIC_0000287.jpg',\n",
              " 'ISIC_0000290.jpg',\n",
              " 'ISIC_0000029.jpg',\n",
              " 'ISIC_0000204.jpg',\n",
              " 'ISIC_0000036.jpg',\n",
              " 'ISIC_0000000.jpg',\n",
              " 'ISIC_0000136.jpg',\n",
              " 'ISIC_0000239.jpg',\n",
              " 'ISIC_0000155.jpg']"
            ]
          },
          "metadata": {
            "tags": []
          },
          "execution_count": 80
        }
      ]
    },
    {
      "cell_type": "code",
      "metadata": {
        "id": "P4h4SiIuRJzm"
      },
      "source": [
        "for i in train_name_list:\n",
        "  img_array_positive = (get_img_array('/content/Skin_data/train/data/'+i, size=(150,150)))\n",
        "  heatmap = make_gradcam_heatmap(img_array_positive, model, last_conv_layer_name, classifier_layer_names)\n",
        "  #plt.matshow(heatmap)\n",
        "  #plt.show()\n",
        "  img = keras.preprocessing.image.load_img('/content/Skin_data/train/data/'+i)\n",
        "  img = keras.preprocessing.image.img_to_array(img)\n",
        "\n",
        "  # We rescale heatmap to a range 0-255\n",
        "  heatmap = np.uint8(255 * heatmap)\n",
        "\n",
        "  # We use jet colormap to colorize heatmap\n",
        "  jet = cm.get_cmap(\"jet\")\n",
        "\n",
        "  # We use RGB values of the colormap\n",
        "  jet_colors = jet(np.arange(256))[:, :3]\n",
        "  jet_heatmap = jet_colors[heatmap]\n",
        "\n",
        "  # We create an image with RGB colorized heatmap\n",
        "  jet_heatmap = keras.preprocessing.image.array_to_img(jet_heatmap)\n",
        "  jet_heatmap = jet_heatmap.resize((img.shape[1], img.shape[0]))\n",
        "  jet_heatmap = keras.preprocessing.image.img_to_array(jet_heatmap)\n",
        "\n",
        "  # Superimpose the heatmap on original image\n",
        "  superimposed_img = jet_heatmap * 0.4 + img\n",
        "  superimposed_img = keras.preprocessing.image.array_to_img(superimposed_img)\n",
        "  img=np.array(superimposed_img)\n",
        "  img=img.astype('float')\n",
        "  height, width,channel= img.shape\n",
        "  # Cut out the target range\n",
        "  boxFromX = 0 # start range X coordinate\n",
        "  boxFromY = 0 # target range start position Y coordinate\n",
        "  boxToX = width # target range end position X coordinate\n",
        "  boxToY = height # target range end position Y coordinate\n",
        "  # set in the order of y: y + h, x: x + w\n",
        "  imgBox = img [boxFromY: boxToY, boxFromX: boxToX]\n",
        "  # Output RGB mean and variance\n",
        "  # One-dimensionalize with flatten and get average with mean\n",
        "  #m_b = imgBox.T [0] .flatten (). mean ()\n",
        "  #m_g = imgBox.T [1] .flatten (). mean ()\n",
        "  #m_r = imgBox.T [2] .flatten (). mean ()\n",
        "  # Get one-dimensional with flatten and get variance with variance\n",
        "  #v_b = imgBox.T [0] .flatten ()\n",
        "  #v_g = imgBox.T [1] .flatten ()\n",
        "  v_r = imgBox.T [2] .flatten ()\n",
        "  #v_b = variance (v_b)\n",
        "  #v_g = variance (v_g)\n",
        "  v_r = variance (v_r)\n",
        "  red_variance_train.append(v_r)"
      ],
      "execution_count": null,
      "outputs": []
    },
    {
      "cell_type": "code",
      "metadata": {
        "id": "irjcfGHgRJ2c"
      },
      "source": [
        "train_df_sorted['red_variance']=red_variance_train"
      ],
      "execution_count": null,
      "outputs": []
    },
    {
      "cell_type": "code",
      "metadata": {
        "id": "cdzMFvpHRJ6D"
      },
      "source": [
        "train_df_sorted=train_df_sorted.sort_values(by=['red_variance'])"
      ],
      "execution_count": null,
      "outputs": []
    },
    {
      "cell_type": "markdown",
      "metadata": {
        "id": "Zx6JC3bLR7bM"
      },
      "source": [
        "### Val data"
      ]
    },
    {
      "cell_type": "code",
      "metadata": {
        "id": "Dyss4PHUR94Z"
      },
      "source": [
        "red_variance_val.clear()"
      ],
      "execution_count": null,
      "outputs": []
    },
    {
      "cell_type": "code",
      "metadata": {
        "id": "GDbpmynZSGei"
      },
      "source": [
        "del val_df_sorted['red_variance']"
      ],
      "execution_count": null,
      "outputs": []
    },
    {
      "cell_type": "code",
      "metadata": {
        "id": "uJA8ppPoSGhR"
      },
      "source": [
        "val_name_list=val_df_sorted['name'].to_list()"
      ],
      "execution_count": null,
      "outputs": []
    },
    {
      "cell_type": "code",
      "metadata": {
        "id": "zt-n9rRmSGkp"
      },
      "source": [
        "for i in val_name_list:\n",
        "  img_array_positive = (get_img_array('/content/Skin_data/val/data/'+i, size=(150,150)))\n",
        "  heatmap = make_gradcam_heatmap(img_array_positive, model, last_conv_layer_name, classifier_layer_names)\n",
        "  #plt.matshow(heatmap)\n",
        "  #plt.show()\n",
        "  img = keras.preprocessing.image.load_img('/content/Skin_data/val/data/'+i)\n",
        "  img = keras.preprocessing.image.img_to_array(img)\n",
        "\n",
        "  # We rescale heatmap to a range 0-255\n",
        "  heatmap = np.uint8(255 * heatmap)\n",
        "\n",
        "  # We use jet colormap to colorize heatmap\n",
        "  jet = cm.get_cmap(\"jet\")\n",
        "\n",
        "  # We use RGB values of the colormap\n",
        "  jet_colors = jet(np.arange(256))[:, :3]\n",
        "  jet_heatmap = jet_colors[heatmap]\n",
        "\n",
        "  # We create an image with RGB colorized heatmap\n",
        "  jet_heatmap = keras.preprocessing.image.array_to_img(jet_heatmap)\n",
        "  jet_heatmap = jet_heatmap.resize((img.shape[1], img.shape[0]))\n",
        "  jet_heatmap = keras.preprocessing.image.img_to_array(jet_heatmap)\n",
        "\n",
        "  # Superimpose the heatmap on original image\n",
        "  superimposed_img = jet_heatmap * 0.4 + img\n",
        "  superimposed_img = keras.preprocessing.image.array_to_img(superimposed_img)\n",
        "  img=np.array(superimposed_img)\n",
        "  img=img.astype('float')\n",
        "  height, width,channel= img.shape\n",
        "  # Cut out the target range\n",
        "  boxFromX = 0 # start range X coordinate\n",
        "  boxFromY = 0 # target range start position Y coordinate\n",
        "  boxToX = width # target range end position X coordinate\n",
        "  boxToY = height # target range end position Y coordinate\n",
        "  # set in the order of y: y + h, x: x + w\n",
        "  imgBox = img [boxFromY: boxToY, boxFromX: boxToX]\n",
        "  # Output RGB mean and variance\n",
        "  # One-dimensionalize with flatten and get average with mean\n",
        "  #m_b = imgBox.T [0] .flatten (). mean ()\n",
        "  #m_g = imgBox.T [1] .flatten (). mean ()\n",
        "  #m_r = imgBox.T [2] .flatten (). mean ()\n",
        "  # Get one-dimensional with flatten and get variance with variance\n",
        "  #v_b = imgBox.T [0] .flatten ()\n",
        "  #v_g = imgBox.T [1] .flatten ()\n",
        "  v_r = imgBox.T [2] .flatten ()\n",
        "  #v_b = variance (v_b)\n",
        "  #v_g = variance (v_g)\n",
        "  v_r = variance (v_r)\n",
        "  red_variance_val.append(v_r)"
      ],
      "execution_count": null,
      "outputs": []
    },
    {
      "cell_type": "code",
      "metadata": {
        "id": "yg4Q8Pu8SGms"
      },
      "source": [
        "val_df_sorted['red_variance']=red_variance_val"
      ],
      "execution_count": null,
      "outputs": []
    },
    {
      "cell_type": "code",
      "metadata": {
        "id": "WDygPK6oSGpO"
      },
      "source": [
        "val_df_sorted=val_df_sorted.sort_values(by=['red_variance'])"
      ],
      "execution_count": null,
      "outputs": []
    },
    {
      "cell_type": "markdown",
      "metadata": {
        "id": "5ZU6ET7MSsO-"
      },
      "source": [
        "## Using new dataframes for the image generators 2"
      ]
    },
    {
      "cell_type": "code",
      "metadata": {
        "colab": {
          "base_uri": "https://localhost:8080/"
        },
        "id": "A3ZrskZISsPB",
        "outputId": "2b15cb5c-9af6-4370-c7e2-6b1efd0dc504"
      },
      "source": [
        "train_generator_sorted=data_generator_with_aug.flow_from_dataframe(\n",
        "dataframe=train_df_sorted,\n",
        "directory=\"/content/Skin_data/train/data/\",\n",
        "x_col=\"name\",\n",
        "y_col=\"meta.clinical.benign_malignant\",\n",
        "subset=\"training\",\n",
        "batch_size=16,\n",
        "seed=42,\n",
        "shuffle=False,\n",
        "class_mode=\"categorical\",\n",
        "target_size=(150,150))"
      ],
      "execution_count": null,
      "outputs": [
        {
          "output_type": "stream",
          "text": [
            "Found 479 validated image filenames belonging to 2 classes.\n"
          ],
          "name": "stdout"
        }
      ]
    },
    {
      "cell_type": "code",
      "metadata": {
        "colab": {
          "base_uri": "https://localhost:8080/"
        },
        "id": "u2ARBp8KSsPC",
        "outputId": "1b2ae539-cd68-489c-811c-00f7d878ec1a"
      },
      "source": [
        "val_generator_sorted=data_generator_with_aug.flow_from_dataframe(\n",
        "dataframe=val_df_sorted,\n",
        "directory=\"/content/Skin_data/val/data/\",\n",
        "x_col=\"name\",\n",
        "y_col=\"meta.clinical.benign_malignant\",\n",
        "batch_size=16,\n",
        "seed=42,\n",
        "shuffle=False,\n",
        "class_mode=\"categorical\",\n",
        "target_size=(150,150))"
      ],
      "execution_count": null,
      "outputs": [
        {
          "output_type": "stream",
          "text": [
            "Found 120 validated image filenames belonging to 2 classes.\n"
          ],
          "name": "stdout"
        }
      ]
    },
    {
      "cell_type": "markdown",
      "metadata": {
        "id": "DVDV143jS2fc"
      },
      "source": [
        "## Training model again 2"
      ]
    },
    {
      "cell_type": "code",
      "metadata": {
        "id": "HGXypybfSllA",
        "colab": {
          "base_uri": "https://localhost:8080/"
        },
        "outputId": "e6ca9c00-7ca2-4681-e8ee-f3a58ff07684"
      },
      "source": [
        "history=model.fit(\n",
        "       train_generator_sorted, # specify where model gets training data\n",
        "       epochs = 20,\n",
        "       steps_per_epoch=STEPS,\n",
        "       validation_data=val_generator_sorted) # specify where model gets validation data\n",
        "\n",
        "# Evaluate the model\n",
        "scores = model.evaluate_generator(val_generator)\n",
        "print(\"\\n%s: %.2f%%\" % (model.metrics_names[1], scores[1]*100))"
      ],
      "execution_count": null,
      "outputs": [
        {
          "output_type": "stream",
          "text": [
            "Epoch 1/20\n",
            "29/29 [==============================] - 14s 483ms/step - loss: 0.5674 - accuracy: 0.7370 - val_loss: 1.0009 - val_accuracy: 0.4750\n",
            "Epoch 2/20\n",
            "29/29 [==============================] - 14s 464ms/step - loss: 0.5655 - accuracy: 0.7349 - val_loss: 0.7347 - val_accuracy: 0.5083\n",
            "Epoch 3/20\n",
            "29/29 [==============================] - 14s 464ms/step - loss: 0.5603 - accuracy: 0.7265 - val_loss: 0.8979 - val_accuracy: 0.4000\n",
            "Epoch 4/20\n",
            "29/29 [==============================] - 14s 461ms/step - loss: 0.5466 - accuracy: 0.7265 - val_loss: 1.1260 - val_accuracy: 0.4000\n",
            "Epoch 5/20\n",
            "29/29 [==============================] - 14s 463ms/step - loss: 0.5039 - accuracy: 0.7474 - val_loss: 0.7709 - val_accuracy: 0.5333\n",
            "Epoch 6/20\n",
            "29/29 [==============================] - 14s 464ms/step - loss: 0.5434 - accuracy: 0.7599 - val_loss: 0.6060 - val_accuracy: 0.7167\n",
            "Epoch 7/20\n",
            "29/29 [==============================] - 14s 465ms/step - loss: 0.5630 - accuracy: 0.7182 - val_loss: 0.6652 - val_accuracy: 0.6083\n",
            "Epoch 8/20\n",
            "29/29 [==============================] - 14s 458ms/step - loss: 0.4974 - accuracy: 0.7808 - val_loss: 0.5862 - val_accuracy: 0.7167\n",
            "Epoch 9/20\n",
            "29/29 [==============================] - 14s 458ms/step - loss: 0.5001 - accuracy: 0.7599 - val_loss: 0.7018 - val_accuracy: 0.6667\n",
            "Epoch 10/20\n",
            "29/29 [==============================] - 14s 468ms/step - loss: 0.4818 - accuracy: 0.7891 - val_loss: 1.4461 - val_accuracy: 0.4750\n",
            "Epoch 11/20\n",
            "29/29 [==============================] - 14s 463ms/step - loss: 0.4847 - accuracy: 0.7766 - val_loss: 1.0313 - val_accuracy: 0.5083\n",
            "Epoch 12/20\n",
            "29/29 [==============================] - 14s 469ms/step - loss: 0.4900 - accuracy: 0.7766 - val_loss: 0.9432 - val_accuracy: 0.7667\n",
            "Epoch 13/20\n",
            "29/29 [==============================] - 14s 466ms/step - loss: 0.5064 - accuracy: 0.7620 - val_loss: 0.6862 - val_accuracy: 0.6750\n",
            "Epoch 14/20\n",
            "29/29 [==============================] - 14s 464ms/step - loss: 0.4805 - accuracy: 0.7787 - val_loss: 0.5905 - val_accuracy: 0.7250\n",
            "Epoch 15/20\n",
            "29/29 [==============================] - 14s 465ms/step - loss: 0.5028 - accuracy: 0.7662 - val_loss: 1.0874 - val_accuracy: 0.4083\n",
            "Epoch 16/20\n",
            "29/29 [==============================] - 14s 470ms/step - loss: 0.5003 - accuracy: 0.7704 - val_loss: 0.5938 - val_accuracy: 0.7750\n",
            "Epoch 17/20\n",
            "29/29 [==============================] - 14s 462ms/step - loss: 0.4939 - accuracy: 0.7599 - val_loss: 0.7215 - val_accuracy: 0.6500\n",
            "Epoch 18/20\n",
            "29/29 [==============================] - 14s 462ms/step - loss: 0.4795 - accuracy: 0.7787 - val_loss: 0.7845 - val_accuracy: 0.6083\n",
            "Epoch 19/20\n",
            "29/29 [==============================] - 14s 463ms/step - loss: 0.4775 - accuracy: 0.7724 - val_loss: 0.8009 - val_accuracy: 0.7500\n",
            "Epoch 20/20\n",
            "29/29 [==============================] - 14s 466ms/step - loss: 0.4614 - accuracy: 0.7933 - val_loss: 0.8814 - val_accuracy: 0.5667\n"
          ],
          "name": "stdout"
        },
        {
          "output_type": "stream",
          "text": [
            "/usr/local/lib/python3.7/dist-packages/tensorflow/python/keras/engine/training.py:1877: UserWarning: `Model.evaluate_generator` is deprecated and will be removed in a future version. Please use `Model.evaluate`, which supports generators.\n",
            "  warnings.warn('`Model.evaluate_generator` is deprecated and '\n"
          ],
          "name": "stderr"
        },
        {
          "output_type": "stream",
          "text": [
            "\n",
            "accuracy: 60.83%\n"
          ],
          "name": "stdout"
        }
      ]
    },
    {
      "cell_type": "code",
      "metadata": {
        "id": "DjSVZxJDbF9K"
      },
      "source": [
        "model.save('/content/drive/MyDrive/CurriculumLearning/CurriculumLearningSkinISIC_part3.h5')"
      ],
      "execution_count": null,
      "outputs": []
    },
    {
      "cell_type": "code",
      "metadata": {
        "id": "SOdKnuXCVcW2",
        "colab": {
          "base_uri": "https://localhost:8080/",
          "height": 241
        },
        "outputId": "8cce53fc-2edd-4e30-ba0b-dc090c46e4c4"
      },
      "source": [
        "fig, ax = plt.subplots(1, 2, figsize=(10, 3))\n",
        "ax = ax.ravel()\n",
        "\n",
        "for i, met in enumerate(['accuracy', 'loss']):\n",
        "    ax[i].plot(history.history[met])\n",
        "    ax[i].plot(history.history['val_' + met])\n",
        "    ax[i].set_title('Model {}'.format(met))\n",
        "    ax[i].set_xlabel('epochs')\n",
        "    ax[i].set_ylabel(met)\n",
        "    ax[i].legend(['train', 'val'])"
      ],
      "execution_count": null,
      "outputs": [
        {
          "output_type": "display_data",
          "data": {
            "image/png": "[encoded data removed]",
            "text/plain": [
              "<Figure size 720x216 with 2 Axes>"
            ]
          },
          "metadata": {
            "tags": [],
            "needs_background": "light"
          }
        }
      ]
    },
    {
      "cell_type": "markdown",
      "metadata": {
        "id": "afWXN_7HTenz"
      },
      "source": [
        "# 3rd Iteration of Curriculum Learning"
      ]
    },
    {
      "cell_type": "markdown",
      "metadata": {
        "id": "V5Nv9fg-Ten2"
      },
      "source": [
        "## Heatmap Variance 3"
      ]
    },
    {
      "cell_type": "markdown",
      "metadata": {
        "id": "5Dz4AfooTen3"
      },
      "source": [
        "### Train data"
      ]
    },
    {
      "cell_type": "code",
      "metadata": {
        "id": "b253VLvcTen3"
      },
      "source": [
        "red_variance_train.clear()"
      ],
      "execution_count": null,
      "outputs": []
    },
    {
      "cell_type": "code",
      "metadata": {
        "id": "eXKGb1BRTen3"
      },
      "source": [
        "del train_df_sorted['red_variance']"
      ],
      "execution_count": null,
      "outputs": []
    },
    {
      "cell_type": "code",
      "metadata": {
        "id": "6Ds2XXLrTen3"
      },
      "source": [
        "train_name_list=train_df_sorted['name'].to_list()"
      ],
      "execution_count": null,
      "outputs": []
    },
    {
      "cell_type": "code",
      "metadata": {
        "id": "GnLotB-XTen4"
      },
      "source": [
        "for i in train_name_list:\n",
        "  img_array_positive = (get_img_array('/content/Skin_data/train/data/'+i, size=(150,150)))\n",
        "  heatmap = make_gradcam_heatmap(img_array_positive, model, last_conv_layer_name, classifier_layer_names)\n",
        "  #plt.matshow(heatmap)\n",
        "  #plt.show()\n",
        "  img = keras.preprocessing.image.load_img('/content/Skin_data/train/data/'+i)\n",
        "  img = keras.preprocessing.image.img_to_array(img)\n",
        "\n",
        "  # We rescale heatmap to a range 0-255\n",
        "  heatmap = np.uint8(255 * heatmap)\n",
        "\n",
        "  # We use jet colormap to colorize heatmap\n",
        "  jet = cm.get_cmap(\"jet\")\n",
        "\n",
        "  # We use RGB values of the colormap\n",
        "  jet_colors = jet(np.arange(256))[:, :3]\n",
        "  jet_heatmap = jet_colors[heatmap]\n",
        "\n",
        "  # We create an image with RGB colorized heatmap\n",
        "  jet_heatmap = keras.preprocessing.image.array_to_img(jet_heatmap)\n",
        "  jet_heatmap = jet_heatmap.resize((img.shape[1], img.shape[0]))\n",
        "  jet_heatmap = keras.preprocessing.image.img_to_array(jet_heatmap)\n",
        "\n",
        "  # Superimpose the heatmap on original image\n",
        "  superimposed_img = jet_heatmap * 0.4 + img\n",
        "  superimposed_img = keras.preprocessing.image.array_to_img(superimposed_img)\n",
        "  img=np.array(superimposed_img)\n",
        "  img=img.astype('float')\n",
        "  height, width,channel= img.shape\n",
        "  # Cut out the target range\n",
        "  boxFromX = 0 # start range X coordinate\n",
        "  boxFromY = 0 # target range start position Y coordinate\n",
        "  boxToX = width # target range end position X coordinate\n",
        "  boxToY = height # target range end position Y coordinate\n",
        "  # set in the order of y: y + h, x: x + w\n",
        "  imgBox = img [boxFromY: boxToY, boxFromX: boxToX]\n",
        "  # Output RGB mean and variance\n",
        "  # One-dimensionalize with flatten and get average with mean\n",
        "  #m_b = imgBox.T [0] .flatten (). mean ()\n",
        "  #m_g = imgBox.T [1] .flatten (). mean ()\n",
        "  #m_r = imgBox.T [2] .flatten (). mean ()\n",
        "  # Get one-dimensional with flatten and get variance with variance\n",
        "  #v_b = imgBox.T [0] .flatten ()\n",
        "  #v_g = imgBox.T [1] .flatten ()\n",
        "  v_r = imgBox.T [2] .flatten ()\n",
        "  #v_b = variance (v_b)\n",
        "  #v_g = variance (v_g)\n",
        "  v_r = variance (v_r)\n",
        "  red_variance_train.append(v_r)"
      ],
      "execution_count": null,
      "outputs": []
    },
    {
      "cell_type": "code",
      "metadata": {
        "id": "bRKN0RTVTen4"
      },
      "source": [
        "train_df_sorted['red_variance']=red_variance_train"
      ],
      "execution_count": null,
      "outputs": []
    },
    {
      "cell_type": "code",
      "metadata": {
        "id": "1mF7PqyyTen4"
      },
      "source": [
        "train_df_sorted=train_df_sorted.sort_values(by=['red_variance'])"
      ],
      "execution_count": null,
      "outputs": []
    },
    {
      "cell_type": "markdown",
      "metadata": {
        "id": "V3EX_xDbTen4"
      },
      "source": [
        "### Val data"
      ]
    },
    {
      "cell_type": "code",
      "metadata": {
        "id": "NpqRV7OKTen4"
      },
      "source": [
        "red_variance_val.clear()"
      ],
      "execution_count": null,
      "outputs": []
    },
    {
      "cell_type": "code",
      "metadata": {
        "id": "lR7ZCWLDTen5"
      },
      "source": [
        "del val_df_sorted['red_variance']"
      ],
      "execution_count": null,
      "outputs": []
    },
    {
      "cell_type": "code",
      "metadata": {
        "id": "xk14luHVTen5"
      },
      "source": [
        "val_name_list=val_df_sorted['name'].to_list()"
      ],
      "execution_count": null,
      "outputs": []
    },
    {
      "cell_type": "code",
      "metadata": {
        "id": "v3ypwTwCTen5"
      },
      "source": [
        "for i in train_name_list:\n",
        "  img_array_positive = (get_img_array('/content/Skin_data/val/data/'+i, size=(150,150)))\n",
        "  heatmap = make_gradcam_heatmap(img_array_positive, model, last_conv_layer_name, classifier_layer_names)\n",
        "  #plt.matshow(heatmap)\n",
        "  #plt.show()\n",
        "  img = keras.preprocessing.image.load_img('/content/Skin_data/val/data/'+i)\n",
        "  img = keras.preprocessing.image.img_to_array(img)\n",
        "\n",
        "  # We rescale heatmap to a range 0-255\n",
        "  heatmap = np.uint8(255 * heatmap)\n",
        "\n",
        "  # We use jet colormap to colorize heatmap\n",
        "  jet = cm.get_cmap(\"jet\")\n",
        "\n",
        "  # We use RGB values of the colormap\n",
        "  jet_colors = jet(np.arange(256))[:, :3]\n",
        "  jet_heatmap = jet_colors[heatmap]\n",
        "\n",
        "  # We create an image with RGB colorized heatmap\n",
        "  jet_heatmap = keras.preprocessing.image.array_to_img(jet_heatmap)\n",
        "  jet_heatmap = jet_heatmap.resize((img.shape[1], img.shape[0]))\n",
        "  jet_heatmap = keras.preprocessing.image.img_to_array(jet_heatmap)\n",
        "\n",
        "  # Superimpose the heatmap on original image\n",
        "  superimposed_img = jet_heatmap * 0.4 + img\n",
        "  superimposed_img = keras.preprocessing.image.array_to_img(superimposed_img)\n",
        "  img=np.array(superimposed_img)\n",
        "  img=img.astype('float')\n",
        "  height, width,channel= img.shape\n",
        "  # Cut out the target range\n",
        "  boxFromX = 0 # start range X coordinate\n",
        "  boxFromY = 0 # target range start position Y coordinate\n",
        "  boxToX = width # target range end position X coordinate\n",
        "  boxToY = height # target range end position Y coordinate\n",
        "  # set in the order of y: y + h, x: x + w\n",
        "  imgBox = img [boxFromY: boxToY, boxFromX: boxToX]\n",
        "  # Output RGB mean and variance\n",
        "  # One-dimensionalize with flatten and get average with mean\n",
        "  #m_b = imgBox.T [0] .flatten (). mean ()\n",
        "  #m_g = imgBox.T [1] .flatten (). mean ()\n",
        "  #m_r = imgBox.T [2] .flatten (). mean ()\n",
        "  # Get one-dimensional with flatten and get variance with variance\n",
        "  #v_b = imgBox.T [0] .flatten ()\n",
        "  #v_g = imgBox.T [1] .flatten ()\n",
        "  v_r = imgBox.T [2] .flatten ()\n",
        "  #v_b = variance (v_b)\n",
        "  #v_g = variance (v_g)\n",
        "  v_r = variance (v_r)\n",
        "  red_variance_train.append(v_r)"
      ],
      "execution_count": null,
      "outputs": []
    },
    {
      "cell_type": "code",
      "metadata": {
        "id": "OFmCAoamTen5"
      },
      "source": [
        "val_df_sorted['red_variance']=red_variance_val"
      ],
      "execution_count": null,
      "outputs": []
    },
    {
      "cell_type": "code",
      "metadata": {
        "id": "L36FTGpqTen5"
      },
      "source": [
        "val_df_sorted=val_df_sorted.sort_values(by=['red_variance'])"
      ],
      "execution_count": null,
      "outputs": []
    },
    {
      "cell_type": "markdown",
      "metadata": {
        "id": "oOMM2DeITen5"
      },
      "source": [
        "## Using new dataframes for the image generators 3"
      ]
    },
    {
      "cell_type": "code",
      "metadata": {
        "colab": {
          "base_uri": "https://localhost:8080/"
        },
        "id": "hgnplSPTTen6",
        "outputId": "f0879186-a880-448e-8693-5fa2ee53a36f"
      },
      "source": [
        "train_generator_sorted=data_generator_with_aug.flow_from_dataframe(\n",
        "dataframe=train_df_sorted,\n",
        "directory=\"/content/Skin_data/train/data/\",\n",
        "x_col=\"name\",\n",
        "y_col=\"meta.clinical.benign_malignant\",\n",
        "subset=\"training\",\n",
        "batch_size=16,\n",
        "seed=42,\n",
        "shuffle=False,\n",
        "class_mode=\"categorical\",\n",
        "target_size=(150,150))"
      ],
      "execution_count": null,
      "outputs": [
        {
          "output_type": "stream",
          "text": [
            "Found 160 validated image filenames belonging to 2 classes.\n"
          ],
          "name": "stdout"
        }
      ]
    },
    {
      "cell_type": "code",
      "metadata": {
        "colab": {
          "base_uri": "https://localhost:8080/"
        },
        "id": "RXSLjVbZTen6",
        "outputId": "d51964dc-70bf-4fc5-82ab-301284c84fc5"
      },
      "source": [
        "val_generator_sorted=data_generator_with_aug.flow_from_dataframe(\n",
        "dataframe=val_df_sorted,\n",
        "directory=\"/content/Skin_data/val/data/\",\n",
        "x_col=\"name\",\n",
        "y_col=\"meta.clinical.benign_malignant\",\n",
        "batch_size=16,\n",
        "seed=42,\n",
        "shuffle=False,\n",
        "class_mode=\"categorical\",\n",
        "target_size=(150,150))"
      ],
      "execution_count": null,
      "outputs": [
        {
          "output_type": "stream",
          "text": [
            "Found 20 validated image filenames belonging to 2 classes.\n"
          ],
          "name": "stdout"
        }
      ]
    },
    {
      "cell_type": "code",
      "metadata": {
        "colab": {
          "base_uri": "https://localhost:8080/"
        },
        "id": "1Oae_BXETen7",
        "outputId": "33dd68ec-4211-48cc-a514-4823ab427978"
      },
      "source": [
        "test_generator=data_generator_no_aug.flow_from_dataframe(\n",
        "dataframe=test_df,\n",
        "directory=\"/content/Brain_data/test/head_ct/\",\n",
        "x_col=\"id\",\n",
        "y_col=\" hemorrhage\",\n",
        "batch_size=16,\n",
        "seed=42,\n",
        "shuffle=False,\n",
        "class_mode=\"categorical\",\n",
        "target_size=(150,150))"
      ],
      "execution_count": null,
      "outputs": [
        {
          "output_type": "stream",
          "text": [
            "Found 20 validated image filenames belonging to 2 classes.\n"
          ],
          "name": "stdout"
        }
      ]
    },
    {
      "cell_type": "markdown",
      "metadata": {
        "id": "XPzIlyVETen7"
      },
      "source": [
        "## Training model again 3"
      ]
    },
    {
      "cell_type": "code",
      "metadata": {
        "id": "ZemxuGGXTen7"
      },
      "source": [
        "history=model.fit(\n",
        "       train_generator_sorted, # specify where model gets training data\n",
        "       epochs = 20,\n",
        "       steps_per_epoch=STEPS,\n",
        "       validation_data=val_generator_sorted) # specify where model gets validation data\n",
        "\n",
        "# Evaluate the model\n",
        "scores = model.evaluate_generator(test_generator)\n",
        "print(\"\\n%s: %.2f%%\" % (model.metrics_names[1], scores[1]*100))"
      ],
      "execution_count": null,
      "outputs": []
    },
    {
      "cell_type": "code",
      "metadata": {
        "id": "puATINT_bIzW"
      },
      "source": [
        "model.save('/content/drive/MyDrive/CurriculumLearning/CurriculumLearning_ISICpart4.h5')"
      ],
      "execution_count": null,
      "outputs": []
    },
    {
      "cell_type": "code",
      "metadata": {
        "id": "ebiyCJ-tVeNO"
      },
      "source": [
        "fig, ax = plt.subplots(1, 2, figsize=(10, 3))\n",
        "ax = ax.ravel()\n",
        "\n",
        "for i, met in enumerate(['accuracy', 'loss']):\n",
        "    ax[i].plot(history.history[met])\n",
        "    ax[i].plot(history.history['val_' + met])\n",
        "    ax[i].set_title('Model {}'.format(met))\n",
        "    ax[i].set_xlabel('epochs')\n",
        "    ax[i].set_ylabel(met)\n",
        "    ax[i].legend(['train', 'val'])"
      ],
      "execution_count": null,
      "outputs": []
    },
    {
      "cell_type": "code",
      "metadata": {
        "id": "EdQIEy7sTaFs"
      },
      "source": [],
      "execution_count": null,
      "outputs": []
    },
    {
      "cell_type": "code",
      "metadata": {
        "id": "KAnRlssXTaIh"
      },
      "source": [],
      "execution_count": null,
      "outputs": []
    },
    {
      "cell_type": "code",
      "metadata": {
        "id": "GH7tOdHiUuSV"
      },
      "source": [],
      "execution_count": null,
      "outputs": []
    }
  ]
}